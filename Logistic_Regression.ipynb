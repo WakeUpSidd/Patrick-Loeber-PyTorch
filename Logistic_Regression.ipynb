{
 "cells": [
  {
   "metadata": {},
   "cell_type": "markdown",
   "source": "# **Logistic Regression**",
   "id": "d0fc4ff76b2ced81"
  },
  {
   "metadata": {},
   "cell_type": "markdown",
   "source": [
    "**Steps:**\n",
    "1. Design the Model (Input size, Output size, Forward pass)\n",
    "2. Construct loss and Optimizer\n",
    "3. Create the training loop:\n",
    "   - Forward Pass: Compute the prediction and loss.\n",
    "   - Backward Pass: Compute the Gradients\n",
    "   - Update the weights"
   ],
   "id": "6a8030e8507d7f94"
  },
  {
   "metadata": {},
   "cell_type": "markdown",
   "source": "Importing Torch, Neural Network Module, Numpy, Sklearn and MatPlotLib",
   "id": "5cd746117145358f"
  },
  {
   "metadata": {
    "ExecuteTime": {
     "end_time": "2024-07-23T19:59:04.428259Z",
     "start_time": "2024-07-23T19:59:04.425117Z"
    }
   },
   "cell_type": "code",
   "source": [
    "import torch\n",
    "import torch.nn as nn\n",
    "import numpy as np\n",
    "from sklearn import datasets\n",
    "from sklearn.preprocessing import StandardScaler # For feature scaling\n",
    "from sklearn.model_selection import train_test_split # For separating training and testing data\n",
    "import matplotlib.pyplot as plt"
   ],
   "id": "3d4ca271cab89e02",
   "outputs": [],
   "execution_count": 13
  },
  {
   "metadata": {},
   "cell_type": "markdown",
   "source": "Preparing a Regression dataset",
   "id": "3be85d9cff89ee4"
  },
  {
   "metadata": {
    "ExecuteTime": {
     "end_time": "2024-07-23T19:59:05.441885Z",
     "start_time": "2024-07-23T19:59:05.430266Z"
    }
   },
   "cell_type": "code",
   "source": [
    "bc = datasets.load_breast_cancer()\n",
    "X, y = bc.data, bc.target\n",
    "\n",
    "n_samples, n_features = X.shape\n",
    "\n",
    "print(n_samples, n_features)\n",
    "\n",
    "X_train, X_test, y_train, y_test = train_test_split(X, y, test_size=0.2, random_state=1234) # Test Size = 20%\n",
    "\n",
    "# Feature Scaling\n",
    "sc = StandardScaler() # Zero Mean and Unit Variance in the Features (Recommended for Logistic Regression)\n",
    "\n",
    "X_train = sc.fit_transform(X_train)\n",
    "X_test = sc.transform(X_test)\n",
    "\n",
    "X_train = torch.from_numpy(X_train.astype(np.float32))\n",
    "X_test = torch.from_numpy(X_test.astype(np.float32))\n",
    "y_train = torch.from_numpy(y_train.astype(np.float32))\n",
    "y_test = torch.from_numpy(y_test.astype(np.float32))\n",
    "\n",
    "#Reshaping Y Tensor\n",
    "\n",
    "y_train = y_train.view(y_train.shape[0], 1) # Only one Row\n",
    "y_test = y_test.view(y_test.shape[0], 1)"
   ],
   "id": "26e96e70f31d53cf",
   "outputs": [
    {
     "name": "stdout",
     "output_type": "stream",
     "text": [
      "569 30\n"
     ]
    }
   ],
   "execution_count": 14
  },
  {
   "metadata": {},
   "cell_type": "markdown",
   "source": "Creating the Logistic Regression Model",
   "id": "ed5514cffa6be28c"
  },
  {
   "metadata": {
    "ExecuteTime": {
     "end_time": "2024-07-23T19:59:06.912324Z",
     "start_time": "2024-07-23T19:59:06.908243Z"
    }
   },
   "cell_type": "code",
   "source": [
    "class LogisticRegression(nn.Module):\n",
    "    def __init__(self, n_input_features):\n",
    "        super(LogisticRegression, self).__init__()\n",
    "        self.linear = nn.Linear(n_input_features, 1)\n",
    "        \n",
    "    def forward(self, x):\n",
    "        y_pred = torch.sigmoid(self.linear(x))\n",
    "        return y_pred\n",
    "\n",
    "model = LogisticRegression(n_features)\n",
    "print(model)"
   ],
   "id": "dce1c9639454254a",
   "outputs": [
    {
     "name": "stdout",
     "output_type": "stream",
     "text": [
      "LogisticRegression(\n",
      "  (linear): Linear(in_features=30, out_features=1, bias=True)\n",
      ")\n"
     ]
    }
   ],
   "execution_count": 15
  },
  {
   "metadata": {},
   "cell_type": "markdown",
   "source": "Using the built-in Loss and Optimizer",
   "id": "13a0b07637b22508"
  },
  {
   "metadata": {
    "ExecuteTime": {
     "end_time": "2024-07-23T19:59:08.316521Z",
     "start_time": "2024-07-23T19:59:08.312937Z"
    }
   },
   "cell_type": "code",
   "source": [
    "criterion = nn.BCELoss() # Binary Cross Error Function\n",
    "optimizer = torch.optim.SGD(model.parameters(), lr=0.01) # Stochastic Gradient Descent"
   ],
   "id": "c83697502dbfa0d3",
   "outputs": [],
   "execution_count": 16
  },
  {
   "metadata": {},
   "cell_type": "markdown",
   "source": "Training the Model",
   "id": "eda17fb56f4feeda"
  },
  {
   "metadata": {
    "ExecuteTime": {
     "end_time": "2024-07-23T19:59:09.424562Z",
     "start_time": "2024-07-23T19:59:09.385345Z"
    }
   },
   "cell_type": "code",
   "source": [
    "num_epochs = 100\n",
    "loss_values = []  # Initializing a list to store loss values\n",
    "for epoch in range(num_epochs):\n",
    "    y_pred = model(X_train) # Making Prediction using the given data (Forward Pass)\n",
    "    loss = criterion(y_pred, y_train) # Calculating Loss from the Prediction\n",
    "    loss.backward() # Backpropagation (Backward Pass)\n",
    "    optimizer.step() # Update the weights\n",
    "    optimizer.zero_grad() # Emptying the Gradients\n",
    "    \n",
    "    # Store the loss value\n",
    "    loss_values.append(loss.item())\n",
    "    if(epoch+1) % 10 == 0:\n",
    "        print(f'epoch: {epoch+1}, loss: {loss.item():.4f}')"
   ],
   "id": "fef2ecf9c76273aa",
   "outputs": [
    {
     "name": "stdout",
     "output_type": "stream",
     "text": [
      "epoch: 10, loss: 0.6628\n",
      "epoch: 20, loss: 0.5337\n",
      "epoch: 30, loss: 0.4539\n",
      "epoch: 40, loss: 0.4000\n",
      "epoch: 50, loss: 0.3610\n",
      "epoch: 60, loss: 0.3311\n",
      "epoch: 70, loss: 0.3074\n",
      "epoch: 80, loss: 0.2880\n",
      "epoch: 90, loss: 0.2717\n",
      "epoch: 100, loss: 0.2578\n"
     ]
    }
   ],
   "execution_count": 17
  },
  {
   "metadata": {},
   "cell_type": "markdown",
   "source": "Plot of Training Loss over Epochs",
   "id": "458b0f8639309c93"
  },
  {
   "metadata": {
    "ExecuteTime": {
     "end_time": "2024-07-23T20:02:30.434180Z",
     "start_time": "2024-07-23T20:02:30.351768Z"
    }
   },
   "cell_type": "code",
   "source": [
    "with torch.no_grad():\n",
    "    y_pred = model(X_test)\n",
    "    y_pred_cls = y_pred.round()\n",
    "    acc = y_pred_cls.eq(y_test).sum() / float(y_test.shape[0])\n",
    "    print(f'Accuracy: {acc:.4f}')\n",
    "    \n",
    "    # Plot the loss values\n",
    "plt.plot(range(num_epochs), loss_values)\n",
    "plt.xlabel('Epoch')\n",
    "plt.ylabel('Loss')\n",
    "plt.title('Training Loss Over Epochs')\n",
    "plt.show()"
   ],
   "id": "127540f01beb1928",
   "outputs": [
    {
     "name": "stdout",
     "output_type": "stream",
     "text": [
      "Accuracy: 0.8947\n"
     ]
    },
    {
     "data": {
      "text/plain": [
       "<Figure size 640x480 with 1 Axes>"
      ],
      "image/png": "[encoded data removed]"
     },
     "metadata": {},
     "output_type": "display_data"
    }
   ],
   "execution_count": 22
  }
 ],
 "metadata": {
  "kernelspec": {
   "display_name": "Python 3",
   "language": "python",
   "name": "python3"
  },
  "language_info": {
   "codemirror_mode": {
    "name": "ipython",
    "version": 2
   },
   "file_extension": ".py",
   "mimetype": "text/x-python",
   "name": "python",
   "nbconvert_exporter": "python",
   "pygments_lexer": "ipython2",
   "version": "2.7.6"
  }
 },
 "nbformat": 4,
 "nbformat_minor": 5
}
