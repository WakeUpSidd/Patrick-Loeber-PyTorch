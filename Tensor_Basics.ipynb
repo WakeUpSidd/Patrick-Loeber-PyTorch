{
 "nbformat": 4,
 "nbformat_minor": 0,
 "metadata": {
  "colab": {
   "provenance": []
  },
  "kernelspec": {
   "name": "python3",
   "display_name": "Python 3 (ipykernel)",
   "language": "python"
  },
  "language_info": {
   "name": "python"
  }
 },
 "cells": [
  {
   "cell_type": "markdown",
   "source": [
    "# **Tensor Basics - Patrick Loeber**"
   ],
   "metadata": {
    "id": "6syUOvk3OIR2"
   }
  },
  {
   "cell_type": "markdown",
   "source": [
    "Importing torch"
   ],
   "metadata": {
    "id": "WaGFntgDOcc1"
   }
  },
  {
   "cell_type": "code",
   "source": [
    "import torch"
   ],
   "metadata": {
    "id": "FRaKs2PbObun",
    "ExecuteTime": {
     "end_time": "2024-07-10T21:07:59.577308Z",
     "start_time": "2024-07-10T21:07:57.450898Z"
    }
   },
   "outputs": [],
   "execution_count": 1
  },
  {
   "cell_type": "markdown",
   "source": [
    "Printing empty tensor"
   ],
   "metadata": {
    "id": "g9yzuJSxOWuk"
   }
  },
  {
   "cell_type": "code",
   "source": [
    "x=torch.empty(1) #Size is 1\n",
    "print(x)"
   ],
   "metadata": {
    "colab": {
     "base_uri": "https://localhost:8080/"
    },
    "id": "J-pqjw1IOaz3",
    "outputId": "718f3476-8b6e-4b85-b8d4-49ece1e41844",
    "ExecuteTime": {
     "end_time": "2024-07-10T21:08:03.066762Z",
     "start_time": "2024-07-10T21:08:03.030914Z"
    }
   },
   "outputs": [
    {
     "name": "stdout",
     "output_type": "stream",
     "text": [
      "tensor([0.])\n"
     ]
    }
   ],
   "execution_count": 2
  },
  {
   "cell_type": "markdown",
   "source": [
    "Printing empty tensor with size (3)"
   ],
   "metadata": {
    "id": "SzLECkuvO4C8"
   }
  },
  {
   "cell_type": "code",
   "source": [
    "x=torch.empty(3) #Size is 3\n",
    "print(x) #The Garbage Values [3.8877e-33,  4.3299e-41, -5.8776e-27] indicate that the values in the tensor are not initialized"
   ],
   "metadata": {
    "colab": {
     "base_uri": "https://localhost:8080/"
    },
    "id": "BXVsjCosO82a",
    "outputId": "2a10d0b5-37a5-40a9-facb-df73b656f899",
    "ExecuteTime": {
     "end_time": "2024-07-10T21:08:06.614724Z",
     "start_time": "2024-07-10T21:08:06.609838Z"
    }
   },
   "outputs": [
    {
     "name": "stdout",
     "output_type": "stream",
     "text": [
      "tensor([0., 0., 0.])\n"
     ]
    }
   ],
   "execution_count": 3
  },
  {
   "cell_type": "markdown",
   "source": [
    "Printing empty tensor with size (2,3)"
   ],
   "metadata": {
    "id": "W8UdY-0FO-7S"
   }
  },
  {
   "cell_type": "code",
   "source": [
    "x=torch.empty(2,3) #2D Vector\n",
    "print(x)"
   ],
   "metadata": {
    "colab": {
     "base_uri": "https://localhost:8080/"
    },
    "id": "Vb6G0AMYPErq",
    "outputId": "995e2319-7778-49a2-8b13-8121c4d9ab10",
    "ExecuteTime": {
     "end_time": "2024-07-10T21:08:10.458988Z",
     "start_time": "2024-07-10T21:08:10.445536Z"
    }
   },
   "outputs": [
    {
     "name": "stdout",
     "output_type": "stream",
     "text": [
      "tensor([[3.2049e-30, 1.1953e-42, 0.0000e+00],\n",
      "        [0.0000e+00, 0.0000e+00, 0.0000e+00]])\n"
     ]
    }
   ],
   "execution_count": 4
  },
  {
   "cell_type": "markdown",
   "source": [
    "Printing empty tensor with size (2,2,3)"
   ],
   "metadata": {
    "id": "3_mLr5TKPMTT"
   }
  },
  {
   "cell_type": "code",
   "source": [
    "x=torch.empty(2,2,3) #3D Vector\n",
    "print(x)"
   ],
   "metadata": {
    "colab": {
     "base_uri": "https://localhost:8080/"
    },
    "id": "tyqcpBFvPas-",
    "outputId": "c8fc4620-8ce4-4bdf-b8d6-4ca5e74defbf",
    "ExecuteTime": {
     "end_time": "2024-07-10T21:08:18.294897Z",
     "start_time": "2024-07-10T21:08:18.291421Z"
    }
   },
   "outputs": [
    {
     "name": "stdout",
     "output_type": "stream",
     "text": [
      "tensor([[[0., 0., 0.],\n",
      "         [0., 0., 0.]],\n",
      "\n",
      "        [[0., 0., 0.],\n",
      "         [0., 0., 0.]]])\n"
     ]
    }
   ],
   "execution_count": 6
  },
  {
   "cell_type": "markdown",
   "source": [
    "Random Values in Tensor"
   ],
   "metadata": {
    "id": "Vr4OeM0FPvgt"
   }
  },
  {
   "cell_type": "code",
   "source": [
    "x=torch.rand(2,2) #The values intialized in the Tensor are Randomized\n",
    "print(x)"
   ],
   "metadata": {
    "colab": {
     "base_uri": "https://localhost:8080/"
    },
    "id": "jvk6RvKMQLth",
    "outputId": "0561f0a0-2ac2-47f1-9e3f-043b328f9141",
    "ExecuteTime": {
     "end_time": "2024-07-10T21:08:20.929044Z",
     "start_time": "2024-07-10T21:08:20.916072Z"
    }
   },
   "outputs": [
    {
     "name": "stdout",
     "output_type": "stream",
     "text": [
      "tensor([[0.7645, 0.5582],\n",
      "        [0.4339, 0.8254]])\n"
     ]
    }
   ],
   "execution_count": 7
  },
  {
   "cell_type": "markdown",
   "source": [
    "All values in Tensor are Zero"
   ],
   "metadata": {
    "id": "Z4q3_kazQTmI"
   }
  },
  {
   "cell_type": "code",
   "source": [
    "x=torch.zeros(2,2) #All the values initalized in the Tensor are Zero\n",
    "print(x)"
   ],
   "metadata": {
    "colab": {
     "base_uri": "https://localhost:8080/"
    },
    "id": "UiF-qi6mQedg",
    "outputId": "248e6078-240e-42bf-9dc1-935214246398",
    "ExecuteTime": {
     "end_time": "2024-07-10T21:08:22.977884Z",
     "start_time": "2024-07-10T21:08:22.973172Z"
    }
   },
   "outputs": [
    {
     "name": "stdout",
     "output_type": "stream",
     "text": [
      "tensor([[0., 0.],\n",
      "        [0., 0.]])\n"
     ]
    }
   ],
   "execution_count": 8
  },
  {
   "cell_type": "markdown",
   "source": [
    "All values in Tensor are One"
   ],
   "metadata": {
    "id": "8qi2iwxsQkV3"
   }
  },
  {
   "cell_type": "code",
   "source": [
    "x=torch.ones(2,2) #All the values initalized in the Tensor are One\n",
    "print(x)"
   ],
   "metadata": {
    "colab": {
     "base_uri": "https://localhost:8080/"
    },
    "id": "3AfE1KwgQoEo",
    "outputId": "97b05367-25b2-4aa1-817d-a321bd2c7aad",
    "ExecuteTime": {
     "end_time": "2024-07-10T21:08:25.505980Z",
     "start_time": "2024-07-10T21:08:25.501517Z"
    }
   },
   "outputs": [
    {
     "name": "stdout",
     "output_type": "stream",
     "text": [
      "tensor([[1., 1.],\n",
      "        [1., 1.]])\n"
     ]
    }
   ],
   "execution_count": 9
  },
  {
   "cell_type": "markdown",
   "source": [
    "Checking the datatype used by Tensor"
   ],
   "metadata": {
    "id": "72E4-3r3aW8t"
   }
  },
  {
   "cell_type": "code",
   "source": [
    "x=torch.ones(2,2)\n",
    "print(x.dtype)"
   ],
   "metadata": {
    "colab": {
     "base_uri": "https://localhost:8080/"
    },
    "id": "NxEyRxwcabK8",
    "outputId": "b742a717-53d2-49fd-b3f8-3896490c9900",
    "ExecuteTime": {
     "end_time": "2024-07-10T21:08:27.648678Z",
     "start_time": "2024-07-10T21:08:27.644904Z"
    }
   },
   "outputs": [
    {
     "name": "stdout",
     "output_type": "stream",
     "text": [
      "torch.float32\n"
     ]
    }
   ],
   "execution_count": 10
  },
  {
   "cell_type": "markdown",
   "source": [
    "Initializing the datatype to be used by Tensor"
   ],
   "metadata": {
    "id": "P315prEZamvD"
   }
  },
  {
   "cell_type": "code",
   "source": [
    "x=torch.ones(1,1,dtype=torch.int)\n",
    "print(x.dtype)"
   ],
   "metadata": {
    "colab": {
     "base_uri": "https://localhost:8080/"
    },
    "id": "fvIZIY0Vasw0",
    "outputId": "bca4c056-ba74-4ccb-b8f9-dc3799708b1e",
    "ExecuteTime": {
     "end_time": "2024-07-10T21:08:29.708651Z",
     "start_time": "2024-07-10T21:08:29.704977Z"
    }
   },
   "outputs": [
    {
     "name": "stdout",
     "output_type": "stream",
     "text": [
      "torch.int32\n"
     ]
    }
   ],
   "execution_count": 11
  },
  {
   "cell_type": "code",
   "source": [
    "x=torch.ones(1,1,dtype=torch.float16)\n",
    "print(x.dtype)"
   ],
   "metadata": {
    "colab": {
     "base_uri": "https://localhost:8080/"
    },
    "id": "xXrAJqLSa5xE",
    "outputId": "7bccff4b-48ab-4680-8e40-9b46859a0a9d",
    "ExecuteTime": {
     "end_time": "2024-07-10T21:08:32.944846Z",
     "start_time": "2024-07-10T21:08:32.940773Z"
    }
   },
   "outputs": [
    {
     "name": "stdout",
     "output_type": "stream",
     "text": [
      "torch.float16\n"
     ]
    }
   ],
   "execution_count": 12
  },
  {
   "cell_type": "markdown",
   "source": [
    "Checking the size of a tensor"
   ],
   "metadata": {
    "id": "iIqoqh0Ka78S"
   }
  },
  {
   "cell_type": "code",
   "source": [
    "x=torch.ones(2,2)\n",
    "print(x.size())"
   ],
   "metadata": {
    "colab": {
     "base_uri": "https://localhost:8080/"
    },
    "id": "IvEexuYCa_AG",
    "outputId": "b78f6e24-dda5-48e5-b526-563a11d2132b",
    "ExecuteTime": {
     "end_time": "2024-07-10T21:08:35.067135Z",
     "start_time": "2024-07-10T21:08:35.063456Z"
    }
   },
   "outputs": [
    {
     "name": "stdout",
     "output_type": "stream",
     "text": [
      "torch.Size([2, 2])\n"
     ]
    }
   ],
   "execution_count": 13
  },
  {
   "cell_type": "markdown",
   "source": [
    "Initializing Tensor with Values"
   ],
   "metadata": {
    "id": "jxESNoW2bGyR"
   }
  },
  {
   "cell_type": "code",
   "source": [
    "x=torch.tensor([2.5,0.1])\n",
    "print(x)\n",
    "print(x.size())\n",
    "print(x.dtype)"
   ],
   "metadata": {
    "colab": {
     "base_uri": "https://localhost:8080/"
    },
    "id": "TZIheTPpbJqL",
    "outputId": "06778464-1892-4887-861b-324dd5be6e2a",
    "ExecuteTime": {
     "end_time": "2024-07-10T21:08:36.659591Z",
     "start_time": "2024-07-10T21:08:36.654216Z"
    }
   },
   "outputs": [
    {
     "name": "stdout",
     "output_type": "stream",
     "text": [
      "tensor([2.5000, 0.1000])\n",
      "torch.Size([2])\n",
      "torch.float32\n"
     ]
    }
   ],
   "execution_count": 14
  },
  {
   "cell_type": "markdown",
   "source": [
    "Adding two Tensors"
   ],
   "metadata": {
    "id": "AXnGk0b1LIyK"
   }
  },
  {
   "cell_type": "code",
   "source": [
    "x=torch.rand(2,2)\n",
    "y=torch.rand(2,2)\n",
    "print('X = ',x)\n",
    "print('Y = ',y)\n",
    "w = x+y #Both the function and normal addition would perform the same action\n",
    "z=torch.add(x,y)\n",
    "print('W = ',w)\n",
    "print('Z = ',z)"
   ],
   "metadata": {
    "colab": {
     "base_uri": "https://localhost:8080/"
    },
    "id": "vP4sYNcRLLlJ",
    "outputId": "aedcf78d-c1f0-4f1f-b279-2889c662c07f",
    "ExecuteTime": {
     "end_time": "2024-07-10T21:08:41.780608Z",
     "start_time": "2024-07-10T21:08:41.774802Z"
    }
   },
   "outputs": [
    {
     "name": "stdout",
     "output_type": "stream",
     "text": [
      "X =  tensor([[0.5623, 0.3964],\n",
      "        [0.9499, 0.6885]])\n",
      "Y =  tensor([[0.3318, 0.6896],\n",
      "        [0.2617, 0.9293]])\n",
      "W =  tensor([[0.8942, 1.0859],\n",
      "        [1.2116, 1.6178]])\n",
      "Z =  tensor([[0.8942, 1.0859],\n",
      "        [1.2116, 1.6178]])\n"
     ]
    }
   ],
   "execution_count": 16
  },
  {
   "cell_type": "markdown",
   "source": [
    "Inline Addition"
   ],
   "metadata": {
    "id": "EA8ChsWzMcrF"
   }
  },
  {
   "cell_type": "code",
   "source": [
    "x=torch.rand(2,2)\n",
    "y=torch.rand(2,2)\n",
    "y.add_(x) #In PyTorch, every function that has a trailing underscore, will do an inplace operation, so this modify the variable that it is applied on.\n",
    "print(y)"
   ],
   "metadata": {
    "id": "GPzEUQS9Meyj",
    "ExecuteTime": {
     "end_time": "2024-07-10T21:08:43.847193Z",
     "start_time": "2024-07-10T21:08:43.841870Z"
    }
   },
   "outputs": [
    {
     "name": "stdout",
     "output_type": "stream",
     "text": [
      "tensor([[0.6927, 0.1526],\n",
      "        [0.9572, 1.4946]])\n"
     ]
    }
   ],
   "execution_count": 17
  },
  {
   "cell_type": "markdown",
   "source": [
    "Subtraction between two Tensors"
   ],
   "metadata": {
    "id": "8k6DHYBDNEpz"
   }
  },
  {
   "cell_type": "code",
   "source": [
    "x=torch.rand(2,2)\n",
    "y=torch.rand(2,2)\n",
    "print('X = ',x)\n",
    "print('Y = ',y)\n",
    "w = x-y #Both the function and normal subtraction would perform the same action\n",
    "z=torch.sub(x,y)\n",
    "print('W = ',w)\n",
    "print('Z = ',z)"
   ],
   "metadata": {
    "colab": {
     "base_uri": "https://localhost:8080/"
    },
    "id": "e2ShhOzJNH9U",
    "outputId": "cf22b74f-3ea1-4931-9d73-b7dcb911b45b",
    "ExecuteTime": {
     "end_time": "2024-07-10T21:08:46.206782Z",
     "start_time": "2024-07-10T21:08:46.199469Z"
    }
   },
   "outputs": [
    {
     "name": "stdout",
     "output_type": "stream",
     "text": [
      "X =  tensor([[0.8761, 0.2499],\n",
      "        [0.6651, 0.5706]])\n",
      "Y =  tensor([[0.6675, 0.6374],\n",
      "        [0.2322, 0.3076]])\n",
      "W =  tensor([[ 0.2085, -0.3874],\n",
      "        [ 0.4329,  0.2630]])\n",
      "Z =  tensor([[ 0.2085, -0.3874],\n",
      "        [ 0.4329,  0.2630]])\n"
     ]
    }
   ],
   "execution_count": 18
  },
  {
   "cell_type": "markdown",
   "source": [
    "Multiplication between two Tensors"
   ],
   "metadata": {
    "id": "UpFLVdnhNQ17"
   }
  },
  {
   "cell_type": "code",
   "source": [
    "x=torch.rand(2,2)\n",
    "y=torch.rand(2,2)\n",
    "print('X = ',x)\n",
    "print('Y = ',y)\n",
    "w = x*y #Both the function and normal mutiplication would perform the same action\n",
    "z=torch.mul(x,y)\n",
    "print('W = ',w)\n",
    "print('Z = ',z)"
   ],
   "metadata": {
    "colab": {
     "base_uri": "https://localhost:8080/"
    },
    "id": "ItAkw-RVNTvQ",
    "outputId": "54382eea-d9fe-4bb8-dba1-b7fa3e2c6422",
    "ExecuteTime": {
     "end_time": "2024-07-10T21:08:51.648112Z",
     "start_time": "2024-07-10T21:08:51.642579Z"
    }
   },
   "outputs": [
    {
     "name": "stdout",
     "output_type": "stream",
     "text": [
      "X =  tensor([[0.9292, 0.6600],\n",
      "        [0.8788, 0.2529]])\n",
      "Y =  tensor([[0.7099, 0.0764],\n",
      "        [0.3451, 0.5080]])\n",
      "W =  tensor([[0.6596, 0.0504],\n",
      "        [0.3032, 0.1285]])\n",
      "Z =  tensor([[0.6596, 0.0504],\n",
      "        [0.3032, 0.1285]])\n"
     ]
    }
   ],
   "execution_count": 19
  },
  {
   "cell_type": "markdown",
   "source": [
    "Division between two Tensors"
   ],
   "metadata": {
    "id": "j246GFCDNa7i"
   }
  },
  {
   "cell_type": "code",
   "source": [
    "x=torch.rand(2,2)\n",
    "y=torch.rand(2,2)\n",
    "print('X = ',x)\n",
    "print('Y = ',y)\n",
    "w = x/y #Both the function and normal division would perform the same action\n",
    "z=torch.div(x,y)\n",
    "print('W = ',w)\n",
    "print('Z = ',z)"
   ],
   "metadata": {
    "colab": {
     "base_uri": "https://localhost:8080/"
    },
    "id": "o8WTKYZONd0Y",
    "outputId": "029cb2b6-976e-4dea-8420-4885861ce94a",
    "ExecuteTime": {
     "end_time": "2024-07-10T21:08:53.718178Z",
     "start_time": "2024-07-10T21:08:53.710808Z"
    }
   },
   "outputs": [
    {
     "name": "stdout",
     "output_type": "stream",
     "text": [
      "X =  tensor([[0.4458, 0.4692],\n",
      "        [0.1529, 0.9606]])\n",
      "Y =  tensor([[0.5491, 0.6020],\n",
      "        [0.8268, 0.7643]])\n",
      "W =  tensor([[0.8118, 0.7793],\n",
      "        [0.1850, 1.2568]])\n",
      "Z =  tensor([[0.8118, 0.7793],\n",
      "        [0.1850, 1.2568]])\n"
     ]
    }
   ],
   "execution_count": 20
  },
  {
   "cell_type": "markdown",
   "source": [
    "Slicing Operation"
   ],
   "metadata": {
    "id": "lwM2F3idNl62"
   }
  },
  {
   "cell_type": "code",
   "source": [
    "x=torch.rand(5,3)\n",
    "print('X = ',x)\n",
    "print('\\n','First column but all the rows =',x[:,0])\n",
    "print('\\n','First row but all the columns = ',x[0,:])\n",
    "print('\\n','Element at position [2,2] = ',x[2,2])\n",
    "print('\\n','Actual Value at position [2,2] = ',x[2,2].item()) #Item function can only be used if we have one element"
   ],
   "metadata": {
    "colab": {
     "base_uri": "https://localhost:8080/"
    },
    "id": "sNhdRHG3NoUB",
    "outputId": "e350d1bc-582f-4874-8b21-bc07489528dd",
    "ExecuteTime": {
     "end_time": "2024-07-10T21:08:55.737897Z",
     "start_time": "2024-07-10T21:08:55.727900Z"
    }
   },
   "outputs": [
    {
     "name": "stdout",
     "output_type": "stream",
     "text": [
      "X =  tensor([[0.5516, 0.7369, 0.2873],\n",
      "        [0.1280, 0.2162, 0.4320],\n",
      "        [0.4588, 0.4802, 0.8661],\n",
      "        [0.0431, 0.5528, 0.4727],\n",
      "        [0.4522, 0.1092, 0.1005]])\n",
      "\n",
      " First column but all the rows = tensor([0.5516, 0.1280, 0.4588, 0.0431, 0.4522])\n",
      "\n",
      " First row but all the columns =  tensor([0.5516, 0.7369, 0.2873])\n",
      "\n",
      " Element at position [2,2] =  tensor(0.8661)\n",
      "\n",
      " Actual Value at position [2,2] =  0.866091787815094\n"
     ]
    }
   ],
   "execution_count": 21
  },
  {
   "cell_type": "markdown",
   "source": [
    "Reshaping a Tensor"
   ],
   "metadata": {
    "id": "BSeGmPRoPVoF"
   }
  },
  {
   "cell_type": "code",
   "source": [
    "x=torch.rand(4,4) # 4x4\n",
    "print(x)\n",
    "y=x.view(16) # 16 (The no. of elements must remain the same)\n",
    "print(y)\n",
    "z=x.view(-1, 8) # Using -1 will cause PyTorch to automatically detect the number of rows (or cols) that are necessary (which is 2 in this case)\n",
    "print(z)"
   ],
   "metadata": {
    "colab": {
     "base_uri": "https://localhost:8080/"
    },
    "id": "JU7Cr7joPX62",
    "outputId": "53ebc089-cc09-44af-9067-035bfff02bd1",
    "ExecuteTime": {
     "end_time": "2024-07-10T21:08:58.103225Z",
     "start_time": "2024-07-10T21:08:58.097137Z"
    }
   },
   "outputs": [
    {
     "name": "stdout",
     "output_type": "stream",
     "text": [
      "tensor([[0.4272, 0.6778, 0.1179, 0.1375],\n",
      "        [0.3437, 0.8250, 0.8385, 0.5482],\n",
      "        [0.2544, 0.1341, 0.4080, 0.7286],\n",
      "        [0.2790, 0.8377, 0.4167, 0.5629]])\n",
      "tensor([0.4272, 0.6778, 0.1179, 0.1375, 0.3437, 0.8250, 0.8385, 0.5482, 0.2544,\n",
      "        0.1341, 0.4080, 0.7286, 0.2790, 0.8377, 0.4167, 0.5629])\n",
      "tensor([[0.4272, 0.6778, 0.1179, 0.1375, 0.3437, 0.8250, 0.8385, 0.5482],\n",
      "        [0.2544, 0.1341, 0.4080, 0.7286, 0.2790, 0.8377, 0.4167, 0.5629]])\n"
     ]
    }
   ],
   "execution_count": 22
  },
  {
   "cell_type": "markdown",
   "source": [
    "Converting from Torch Tensor to NumPy ndarray"
   ],
   "metadata": {
    "id": "M4xVsnRWQFVO"
   }
  },
  {
   "cell_type": "code",
   "source": [
    "#Importing NumPy\n",
    "import numpy as np"
   ],
   "metadata": {
    "id": "gW8La8_UQK-Y",
    "ExecuteTime": {
     "end_time": "2024-07-10T21:09:00.600970Z",
     "start_time": "2024-07-10T21:09:00.597721Z"
    }
   },
   "outputs": [],
   "execution_count": 23
  },
  {
   "cell_type": "code",
   "source": [
    "x=torch.ones(5)\n",
    "print('Torch = ',x)\n",
    "y=x.numpy()\n",
    "print('NumPy Array = ',y)\n",
    "print(y)\n",
    "print('Y type = ', type(y))"
   ],
   "metadata": {
    "colab": {
     "base_uri": "https://localhost:8080/"
    },
    "id": "989NpsFoQQSi",
    "outputId": "a393c554-6bba-499b-b43c-6a54bf771a22",
    "ExecuteTime": {
     "end_time": "2024-07-10T21:09:02.813356Z",
     "start_time": "2024-07-10T21:09:02.805170Z"
    }
   },
   "outputs": [
    {
     "name": "stdout",
     "output_type": "stream",
     "text": [
      "Torch =  tensor([1., 1., 1., 1., 1.])\n",
      "NumPy Array =  [1. 1. 1. 1. 1.]\n",
      "[1. 1. 1. 1. 1.]\n",
      "Y type =  <class 'numpy.ndarray'>\n"
     ]
    }
   ],
   "execution_count": 24
  },
  {
   "cell_type": "markdown",
   "source": [
    "Both the Ndarray and the Tensor both point to the same memory location"
   ],
   "metadata": {
    "id": "fCbm0GqWaIy_"
   }
  },
  {
   "cell_type": "code",
   "source": [
    "x=torch.ones(5)\n",
    "print('Torch = ',x)\n",
    "y=x.numpy()\n",
    "print('NumPy Array = ',y)\n",
    "x.add_(1)\n",
    "print('After Addition: ')\n",
    "print('Torch = ',x)\n",
    "print('NumPy Array = ',y)"
   ],
   "metadata": {
    "colab": {
     "base_uri": "https://localhost:8080/"
    },
    "id": "3PC87uz1aWlW",
    "outputId": "9aee9082-5d27-472a-9e80-a1cf69a7b558",
    "ExecuteTime": {
     "end_time": "2024-07-10T21:09:06.698292Z",
     "start_time": "2024-07-10T21:09:06.693597Z"
    }
   },
   "outputs": [
    {
     "name": "stdout",
     "output_type": "stream",
     "text": [
      "Torch =  tensor([1., 1., 1., 1., 1.])\n",
      "NumPy Array =  [1. 1. 1. 1. 1.]\n",
      "After Addition: \n",
      "Torch =  tensor([2., 2., 2., 2., 2.])\n",
      "NumPy Array =  [2. 2. 2. 2. 2.]\n"
     ]
    }
   ],
   "execution_count": 25
  },
  {
   "cell_type": "markdown",
   "source": [
    "NumPy Array to Tensor"
   ],
   "metadata": {
    "id": "pnYeQjlVaw90"
   }
  },
  {
   "cell_type": "code",
   "source": [
    "x=np.ones(5)\n",
    "print('NumPy Array = ',x)\n",
    "y=torch.from_numpy(x)\n",
    "print('Torch = ',y)\n",
    "x+=1\n",
    "print('After Addition: ')\n",
    "print('Torch = ',x)\n",
    "print('NumPy Array = ',y) #This only happens if the tensor is on the CPU"
   ],
   "metadata": {
    "colab": {
     "base_uri": "https://localhost:8080/"
    },
    "id": "HmDkId-OazeA",
    "outputId": "b8656c68-3014-4d1c-fb42-44fe4155e812",
    "ExecuteTime": {
     "end_time": "2024-07-10T21:09:08.808779Z",
     "start_time": "2024-07-10T21:09:08.802087Z"
    }
   },
   "outputs": [
    {
     "name": "stdout",
     "output_type": "stream",
     "text": [
      "NumPy Array =  [1. 1. 1. 1. 1.]\n",
      "Torch =  tensor([1., 1., 1., 1., 1.], dtype=torch.float64)\n",
      "After Addition: \n",
      "Torch =  [2. 2. 2. 2. 2.]\n",
      "NumPy Array =  tensor([2., 2., 2., 2., 2.], dtype=torch.float64)\n"
     ]
    }
   ],
   "execution_count": 26
  },
  {
   "cell_type": "markdown",
   "source": [
    "Checking if CUDA is available"
   ],
   "metadata": {
    "id": "qk5Wj_2Zbv59"
   }
  },
  {
   "cell_type": "code",
   "source": [
    "if torch.cuda.is_available():\n",
    "  print('True')\n",
    "else:\n",
    "  print('False')"
   ],
   "metadata": {
    "colab": {
     "base_uri": "https://localhost:8080/"
    },
    "id": "3LsyZC-wbzCJ",
    "outputId": "f34b03db-3549-4c25-c2ad-19a867b9c566",
    "ExecuteTime": {
     "end_time": "2024-07-10T21:09:10.714819Z",
     "start_time": "2024-07-10T21:09:10.633722Z"
    }
   },
   "outputs": [
    {
     "name": "stdout",
     "output_type": "stream",
     "text": [
      "True\n"
     ]
    }
   ],
   "execution_count": 27
  },
  {
   "cell_type": "markdown",
   "source": [
    "Shifting/Initializing Tensor to GPU"
   ],
   "metadata": {
    "id": "DiBzG2_2cWGm"
   }
  },
  {
   "cell_type": "code",
   "source": [
    "device=torch.device(\"cuda\")\n",
    "x = torch.ones(5, device=device)\n",
    "y = torch.ones(5)\n",
    "y = y.to(device)\n",
    "z = x + y\n",
    "#z.numpy() # Will give error as you cant convert a GPU tensor back to NumPy\n",
    "z = z.to(\"cpu\") # Tensor will be back to CPU again\n",
    "z.numpy() # Will work"
   ],
   "metadata": {
    "id": "-NdsComNcZYP",
    "ExecuteTime": {
     "end_time": "2024-07-10T21:09:28.433524Z",
     "start_time": "2024-07-10T21:09:28.422117Z"
    }
   },
   "outputs": [
    {
     "data": {
      "text/plain": [
       "array([2., 2., 2., 2., 2.], dtype=float32)"
      ]
     },
     "execution_count": 29,
     "metadata": {},
     "output_type": "execute_result"
    }
   ],
   "execution_count": 29
  },
  {
   "cell_type": "markdown",
   "source": [
    "Tells PyTorch that it will need to calculate the gradients for the Tensor later in Optimization steps (When a variable needs Optimization)"
   ],
   "metadata": {
    "id": "zpDkRp0IdFNX"
   }
  },
  {
   "cell_type": "code",
   "source": [
    "x=torch.ones(5, requires_grad=True)\n",
    "print(x)"
   ],
   "metadata": {
    "colab": {
     "base_uri": "https://localhost:8080/"
    },
    "id": "8MRlWHTydIkK",
    "outputId": "8b912dad-3fd5-4a29-ed9f-7bc97812d17c",
    "ExecuteTime": {
     "end_time": "2024-07-10T21:09:35.721102Z",
     "start_time": "2024-07-10T21:09:35.716933Z"
    }
   },
   "outputs": [
    {
     "name": "stdout",
     "output_type": "stream",
     "text": [
      "tensor([1., 1., 1., 1., 1.], requires_grad=True)\n"
     ]
    }
   ],
   "execution_count": 30
  }
 ]
}
