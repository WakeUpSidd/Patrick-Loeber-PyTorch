{
  "nbformat": 4,
  "nbformat_minor": 0,
  "metadata": {
    "colab": {
      "provenance": []
    },
    "kernelspec": {
      "name": "python3",
      "display_name": "Python 3"
    },
    "language_info": {
      "name": "python"
    }
  },
  "cells": [
    {
      "cell_type": "markdown",
      "source": [
        "# **Tensor Basics - Patrick Loeber**"
      ],
      "metadata": {
        "id": "6syUOvk3OIR2"
      }
    },
    {
      "cell_type": "markdown",
      "source": [
        "Importing torch"
      ],
      "metadata": {
        "id": "WaGFntgDOcc1"
      }
    },
    {
      "cell_type": "code",
      "source": [
        "import torch"
      ],
      "metadata": {
        "id": "FRaKs2PbObun"
      },
      "execution_count": 1,
      "outputs": []
    },
    {
      "cell_type": "markdown",
      "source": [
        "Printing empty tensor"
      ],
      "metadata": {
        "id": "g9yzuJSxOWuk"
      }
    },
    {
      "cell_type": "code",
      "source": [
        "x=torch.empty(1) #Size is 1\n",
        "print(x)"
      ],
      "metadata": {
        "colab": {
          "base_uri": "https://localhost:8080/"
        },
        "id": "J-pqjw1IOaz3",
        "outputId": "718f3476-8b6e-4b85-b8d4-49ece1e41844"
      },
      "execution_count": null,
      "outputs": [
        {
          "output_type": "stream",
          "name": "stdout",
          "text": [
            "tensor([0.])\n"
          ]
        }
      ]
    },
    {
      "cell_type": "markdown",
      "source": [
        "Printing empty tensor with size (3)"
      ],
      "metadata": {
        "id": "SzLECkuvO4C8"
      }
    },
    {
      "cell_type": "code",
      "source": [
        "x=torch.empty(3) #Size is 3\n",
        "print(x) #The Garbage Values [3.8877e-33,  4.3299e-41, -5.8776e-27] indicate that the values in the tensor are not initialized"
      ],
      "metadata": {
        "colab": {
          "base_uri": "https://localhost:8080/"
        },
        "id": "BXVsjCosO82a",
        "outputId": "2a10d0b5-37a5-40a9-facb-df73b656f899"
      },
      "execution_count": null,
      "outputs": [
        {
          "output_type": "stream",
          "name": "stdout",
          "text": [
            "tensor([ 3.8877e-33,  4.3299e-41, -5.8776e-27])\n"
          ]
        }
      ]
    },
    {
      "cell_type": "markdown",
      "source": [
        "Printing empty tensor with size (2,3)"
      ],
      "metadata": {
        "id": "W8UdY-0FO-7S"
      }
    },
    {
      "cell_type": "code",
      "source": [
        "x=torch.empty(2,3) #2D Vector\n",
        "print(x)"
      ],
      "metadata": {
        "colab": {
          "base_uri": "https://localhost:8080/"
        },
        "id": "Vb6G0AMYPErq",
        "outputId": "995e2319-7778-49a2-8b13-8121c4d9ab10"
      },
      "execution_count": null,
      "outputs": [
        {
          "output_type": "stream",
          "name": "stdout",
          "text": [
            "tensor([[-7.8999e-27,  3.2268e-41, -8.0566e-27],\n",
            "        [ 3.2268e-41,  1.9540e-33,  4.3299e-41]])\n"
          ]
        }
      ]
    },
    {
      "cell_type": "markdown",
      "source": [
        "Printing empty tensor with size (2,2,3)"
      ],
      "metadata": {
        "id": "3_mLr5TKPMTT"
      }
    },
    {
      "cell_type": "code",
      "source": [
        "x=torch.empty(2,2,3) #3D Vector\n",
        "print(x)"
      ],
      "metadata": {
        "colab": {
          "base_uri": "https://localhost:8080/"
        },
        "id": "tyqcpBFvPas-",
        "outputId": "c8fc4620-8ce4-4bdf-b8d6-4ca5e74defbf"
      },
      "execution_count": null,
      "outputs": [
        {
          "output_type": "stream",
          "name": "stdout",
          "text": [
            "tensor([[[ 0.0000e+00,  0.0000e+00, -5.8778e-27],\n",
            "         [ 3.2268e-41, -1.1302e-27,  3.2268e-41]],\n",
            "\n",
            "        [[ 1.3769e-24,  4.3297e-41,  1.4013e-45],\n",
            "         [ 0.0000e+00,  8.4078e-45,  0.0000e+00]]])\n"
          ]
        }
      ]
    },
    {
      "cell_type": "markdown",
      "source": [
        "Random Values in Tensor"
      ],
      "metadata": {
        "id": "Vr4OeM0FPvgt"
      }
    },
    {
      "cell_type": "code",
      "source": [
        "x=torch.rand(2,2) #The values intialized in the Tensor are Randomized\n",
        "print(x)"
      ],
      "metadata": {
        "colab": {
          "base_uri": "https://localhost:8080/"
        },
        "id": "jvk6RvKMQLth",
        "outputId": "0561f0a0-2ac2-47f1-9e3f-043b328f9141"
      },
      "execution_count": null,
      "outputs": [
        {
          "output_type": "stream",
          "name": "stdout",
          "text": [
            "tensor([[0.4796, 0.7553],\n",
            "        [0.9538, 0.8422]])\n"
          ]
        }
      ]
    },
    {
      "cell_type": "markdown",
      "source": [
        "All values in Tensor are Zero"
      ],
      "metadata": {
        "id": "Z4q3_kazQTmI"
      }
    },
    {
      "cell_type": "code",
      "source": [
        "x=torch.zeros(2,2) #All the values initalized in the Tensor are Zero\n",
        "print(x)"
      ],
      "metadata": {
        "colab": {
          "base_uri": "https://localhost:8080/"
        },
        "id": "UiF-qi6mQedg",
        "outputId": "248e6078-240e-42bf-9dc1-935214246398"
      },
      "execution_count": null,
      "outputs": [
        {
          "output_type": "stream",
          "name": "stdout",
          "text": [
            "tensor([[0., 0.],\n",
            "        [0., 0.]])\n"
          ]
        }
      ]
    },
    {
      "cell_type": "markdown",
      "source": [
        "All values in Tensor are One"
      ],
      "metadata": {
        "id": "8qi2iwxsQkV3"
      }
    },
    {
      "cell_type": "code",
      "source": [
        "x=torch.ones(2,2) #All the values initalized in the Tensor are One\n",
        "print(x)"
      ],
      "metadata": {
        "colab": {
          "base_uri": "https://localhost:8080/"
        },
        "id": "3AfE1KwgQoEo",
        "outputId": "97b05367-25b2-4aa1-817d-a321bd2c7aad"
      },
      "execution_count": null,
      "outputs": [
        {
          "output_type": "stream",
          "name": "stdout",
          "text": [
            "tensor([[1., 1.],\n",
            "        [1., 1.]])\n"
          ]
        }
      ]
    },
    {
      "cell_type": "markdown",
      "source": [
        "Checking the datatype used by Tensor"
      ],
      "metadata": {
        "id": "72E4-3r3aW8t"
      }
    },
    {
      "cell_type": "code",
      "source": [
        "x=torch.ones(2,2)\n",
        "print(x.dtype)"
      ],
      "metadata": {
        "colab": {
          "base_uri": "https://localhost:8080/"
        },
        "id": "NxEyRxwcabK8",
        "outputId": "b742a717-53d2-49fd-b3f8-3896490c9900"
      },
      "execution_count": null,
      "outputs": [
        {
          "output_type": "stream",
          "name": "stdout",
          "text": [
            "torch.float32\n"
          ]
        }
      ]
    },
    {
      "cell_type": "markdown",
      "source": [
        "Initializing the datatype to be used by Tensor"
      ],
      "metadata": {
        "id": "P315prEZamvD"
      }
    },
    {
      "cell_type": "code",
      "source": [
        "x=torch.ones(1,1,dtype=torch.int)\n",
        "print(x.dtype)"
      ],
      "metadata": {
        "colab": {
          "base_uri": "https://localhost:8080/"
        },
        "id": "fvIZIY0Vasw0",
        "outputId": "bca4c056-ba74-4ccb-b8f9-dc3799708b1e"
      },
      "execution_count": null,
      "outputs": [
        {
          "output_type": "stream",
          "name": "stdout",
          "text": [
            "torch.int32\n"
          ]
        }
      ]
    },
    {
      "cell_type": "code",
      "source": [
        "x=torch.ones(1,1,dtype=torch.float16)\n",
        "print(x.dtype)"
      ],
      "metadata": {
        "colab": {
          "base_uri": "https://localhost:8080/"
        },
        "id": "xXrAJqLSa5xE",
        "outputId": "7bccff4b-48ab-4680-8e40-9b46859a0a9d"
      },
      "execution_count": null,
      "outputs": [
        {
          "output_type": "stream",
          "name": "stdout",
          "text": [
            "torch.float16\n"
          ]
        }
      ]
    },
    {
      "cell_type": "markdown",
      "source": [
        "Checking the size of a tensor"
      ],
      "metadata": {
        "id": "iIqoqh0Ka78S"
      }
    },
    {
      "cell_type": "code",
      "source": [
        "x=torch.ones(2,2)\n",
        "print(x.size())"
      ],
      "metadata": {
        "colab": {
          "base_uri": "https://localhost:8080/"
        },
        "id": "IvEexuYCa_AG",
        "outputId": "b78f6e24-dda5-48e5-b526-563a11d2132b"
      },
      "execution_count": null,
      "outputs": [
        {
          "output_type": "stream",
          "name": "stdout",
          "text": [
            "torch.Size([2, 2])\n"
          ]
        }
      ]
    },
    {
      "cell_type": "markdown",
      "source": [
        "Initializing Tensor with Values"
      ],
      "metadata": {
        "id": "jxESNoW2bGyR"
      }
    },
    {
      "cell_type": "code",
      "source": [
        "x=torch.tensor([2.5,0.1])\n",
        "print(x)\n",
        "print(x.size())\n",
        "print(x.dtype)"
      ],
      "metadata": {
        "colab": {
          "base_uri": "https://localhost:8080/"
        },
        "id": "TZIheTPpbJqL",
        "outputId": "06778464-1892-4887-861b-324dd5be6e2a"
      },
      "execution_count": null,
      "outputs": [
        {
          "output_type": "stream",
          "name": "stdout",
          "text": [
            "tensor([2.5000, 0.1000])\n",
            "torch.Size([2])\n",
            "torch.float32\n"
          ]
        }
      ]
    },
    {
      "cell_type": "markdown",
      "source": [
        "Adding two Tensors"
      ],
      "metadata": {
        "id": "AXnGk0b1LIyK"
      }
    },
    {
      "cell_type": "code",
      "source": [
        "x=torch.rand(2,2)\n",
        "y=torch.rand(2,2)\n",
        "print('X = ',x)\n",
        "print('Y = ',y)\n",
        "w = x+y #Both the function and normal addition would perform the same action\n",
        "z=torch.add(x,y)\n",
        "print('W = ',w)\n",
        "print('Z = ',z)"
      ],
      "metadata": {
        "colab": {
          "base_uri": "https://localhost:8080/"
        },
        "id": "vP4sYNcRLLlJ",
        "outputId": "aedcf78d-c1f0-4f1f-b279-2889c662c07f"
      },
      "execution_count": null,
      "outputs": [
        {
          "output_type": "stream",
          "name": "stdout",
          "text": [
            "X =  tensor([[0.1651, 0.6446],\n",
            "        [0.4482, 0.1896]])\n",
            "Y =  tensor([[0.6428, 0.0550],\n",
            "        [0.5726, 0.4584]])\n",
            "W =  tensor([[0.8079, 0.6995],\n",
            "        [1.0208, 0.6480]])\n",
            "Z =  tensor([[0.8079, 0.6995],\n",
            "        [1.0208, 0.6480]])\n"
          ]
        }
      ]
    },
    {
      "cell_type": "markdown",
      "source": [
        "Inline Addition"
      ],
      "metadata": {
        "id": "EA8ChsWzMcrF"
      }
    },
    {
      "cell_type": "code",
      "source": [
        "x=torch.rand(2,2)\n",
        "y=torch.rand(2,2)\n",
        "y.add_(x) #In PyTorch, every function that has a trailing underscore, will do an inplace operation, so this modify the variable that it is applied on.\n",
        "print(y)"
      ],
      "metadata": {
        "id": "GPzEUQS9Meyj"
      },
      "execution_count": null,
      "outputs": []
    },
    {
      "cell_type": "markdown",
      "source": [
        "Subtraction between two Tensors"
      ],
      "metadata": {
        "id": "8k6DHYBDNEpz"
      }
    },
    {
      "cell_type": "code",
      "source": [
        "x=torch.rand(2,2)\n",
        "y=torch.rand(2,2)\n",
        "print('X = ',x)\n",
        "print('Y = ',y)\n",
        "w = x-y #Both the function and normal subtraction would perform the same action\n",
        "z=torch.sub(x,y)\n",
        "print('W = ',w)\n",
        "print('Z = ',z)"
      ],
      "metadata": {
        "colab": {
          "base_uri": "https://localhost:8080/"
        },
        "id": "e2ShhOzJNH9U",
        "outputId": "cf22b74f-3ea1-4931-9d73-b7dcb911b45b"
      },
      "execution_count": null,
      "outputs": [
        {
          "output_type": "stream",
          "name": "stdout",
          "text": [
            "X =  tensor([[0.8941, 0.8697],\n",
            "        [0.4215, 0.8450]])\n",
            "Y =  tensor([[0.6848, 0.6828],\n",
            "        [0.5594, 0.6638]])\n",
            "W =  tensor([[ 0.2092,  0.1870],\n",
            "        [-0.1379,  0.1811]])\n",
            "Z =  tensor([[ 0.2092,  0.1870],\n",
            "        [-0.1379,  0.1811]])\n"
          ]
        }
      ]
    },
    {
      "cell_type": "markdown",
      "source": [
        "Multiplication between two Tensors"
      ],
      "metadata": {
        "id": "UpFLVdnhNQ17"
      }
    },
    {
      "cell_type": "code",
      "source": [
        "x=torch.rand(2,2)\n",
        "y=torch.rand(2,2)\n",
        "print('X = ',x)\n",
        "print('Y = ',y)\n",
        "w = x*y #Both the function and normal mutiplication would perform the same action\n",
        "z=torch.mul(x,y)\n",
        "print('W = ',w)\n",
        "print('Z = ',z)"
      ],
      "metadata": {
        "colab": {
          "base_uri": "https://localhost:8080/"
        },
        "id": "ItAkw-RVNTvQ",
        "outputId": "54382eea-d9fe-4bb8-dba1-b7fa3e2c6422"
      },
      "execution_count": null,
      "outputs": [
        {
          "output_type": "stream",
          "name": "stdout",
          "text": [
            "X =  tensor([[0.0011, 0.0098],\n",
            "        [0.7291, 0.3177]])\n",
            "Y =  tensor([[0.2120, 0.9313],\n",
            "        [0.4382, 0.3805]])\n",
            "W =  tensor([[2.3369e-04, 9.1611e-03],\n",
            "        [3.1952e-01, 1.2088e-01]])\n",
            "Z =  tensor([[2.3369e-04, 9.1611e-03],\n",
            "        [3.1952e-01, 1.2088e-01]])\n"
          ]
        }
      ]
    },
    {
      "cell_type": "markdown",
      "source": [
        "Division between two Tensors"
      ],
      "metadata": {
        "id": "j246GFCDNa7i"
      }
    },
    {
      "cell_type": "code",
      "source": [
        "x=torch.rand(2,2)\n",
        "y=torch.rand(2,2)\n",
        "print('X = ',x)\n",
        "print('Y = ',y)\n",
        "w = x/y #Both the function and normal division would perform the same action\n",
        "z=torch.div(x,y)\n",
        "print('W = ',w)\n",
        "print('Z = ',z)"
      ],
      "metadata": {
        "colab": {
          "base_uri": "https://localhost:8080/"
        },
        "id": "o8WTKYZONd0Y",
        "outputId": "029cb2b6-976e-4dea-8420-4885861ce94a"
      },
      "execution_count": null,
      "outputs": [
        {
          "output_type": "stream",
          "name": "stdout",
          "text": [
            "X =  tensor([[0.9655, 0.0313],\n",
            "        [0.9090, 0.1272]])\n",
            "Y =  tensor([[0.5466, 0.2458],\n",
            "        [0.2764, 0.2043]])\n",
            "W =  tensor([[1.7664, 0.1275],\n",
            "        [3.2884, 0.6225]])\n",
            "Z =  tensor([[1.7664, 0.1275],\n",
            "        [3.2884, 0.6225]])\n"
          ]
        }
      ]
    },
    {
      "cell_type": "markdown",
      "source": [
        "Slicing Operation"
      ],
      "metadata": {
        "id": "lwM2F3idNl62"
      }
    },
    {
      "cell_type": "code",
      "source": [
        "x=torch.rand(5,3)\n",
        "print('X = ',x)\n",
        "print('\\n','First column but all the rows =',x[:,0])\n",
        "print('\\n','First row but all the columns = ',x[0,:])\n",
        "print('\\n','Element at position [2,2] = ',x[2,2])\n",
        "print('\\n','Actual Value at position [2,2] = ',x[2,2].item()) #Item function can only be used if we have one element"
      ],
      "metadata": {
        "colab": {
          "base_uri": "https://localhost:8080/"
        },
        "id": "sNhdRHG3NoUB",
        "outputId": "e350d1bc-582f-4874-8b21-bc07489528dd"
      },
      "execution_count": null,
      "outputs": [
        {
          "output_type": "stream",
          "name": "stdout",
          "text": [
            "X =  tensor([[0.8932, 0.4202, 0.0333],\n",
            "        [0.1977, 0.4520, 0.8605],\n",
            "        [0.5320, 0.8825, 0.3459],\n",
            "        [0.3275, 0.2141, 0.5736],\n",
            "        [0.2555, 0.0528, 0.4362]])\n",
            "\n",
            " First column but all the rows = tensor([0.8932, 0.1977, 0.5320, 0.3275, 0.2555])\n",
            "\n",
            " First row but all the columns =  tensor([0.8932, 0.4202, 0.0333])\n",
            "\n",
            " Element at position [2,2] =  tensor(0.3459)\n",
            "\n",
            " Actual Element at position [2,2] =  0.34587931632995605\n"
          ]
        }
      ]
    },
    {
      "cell_type": "markdown",
      "source": [
        "Reshaping a Tensor"
      ],
      "metadata": {
        "id": "BSeGmPRoPVoF"
      }
    },
    {
      "cell_type": "code",
      "source": [
        "x=torch.rand(4,4) # 4x4\n",
        "print(x)\n",
        "y=x.view(16) # 16 (The no. of elements must remain the same)\n",
        "print(y)\n",
        "z=x.view(-1, 8) # Using -1 will cause PyTorch to automatically detect the number of rows (or cols) that are necessary (which is 2 in this case)\n",
        "print(z)"
      ],
      "metadata": {
        "colab": {
          "base_uri": "https://localhost:8080/"
        },
        "id": "JU7Cr7joPX62",
        "outputId": "53ebc089-cc09-44af-9067-035bfff02bd1"
      },
      "execution_count": null,
      "outputs": [
        {
          "output_type": "stream",
          "name": "stdout",
          "text": [
            "tensor([[0.3990, 0.2560, 0.1742, 0.6463],\n",
            "        [0.7546, 0.7894, 0.6502, 0.0173],\n",
            "        [0.2612, 0.8166, 0.8616, 0.2496],\n",
            "        [0.1979, 0.0141, 0.6136, 0.5746]])\n",
            "tensor([0.3990, 0.2560, 0.1742, 0.6463, 0.7546, 0.7894, 0.6502, 0.0173, 0.2612,\n",
            "        0.8166, 0.8616, 0.2496, 0.1979, 0.0141, 0.6136, 0.5746])\n",
            "tensor([[0.3990, 0.2560, 0.1742, 0.6463, 0.7546, 0.7894, 0.6502, 0.0173],\n",
            "        [0.2612, 0.8166, 0.8616, 0.2496, 0.1979, 0.0141, 0.6136, 0.5746]])\n"
          ]
        }
      ]
    },
    {
      "cell_type": "markdown",
      "source": [
        "Converting from Torch Tensor to NumPy ndarray"
      ],
      "metadata": {
        "id": "M4xVsnRWQFVO"
      }
    },
    {
      "cell_type": "code",
      "source": [
        "#Importing NumPy\n",
        "import numpy as np"
      ],
      "metadata": {
        "id": "gW8La8_UQK-Y"
      },
      "execution_count": 2,
      "outputs": []
    },
    {
      "cell_type": "code",
      "source": [
        "x=torch.ones(5)\n",
        "print('Torch = ',x)\n",
        "y=x.numpy()\n",
        "print('NumPy Array = ',y)\n",
        "print(y)\n",
        "print('Y type = ', type(y))"
      ],
      "metadata": {
        "colab": {
          "base_uri": "https://localhost:8080/"
        },
        "id": "989NpsFoQQSi",
        "outputId": "a393c554-6bba-499b-b43c-6a54bf771a22"
      },
      "execution_count": null,
      "outputs": [
        {
          "output_type": "stream",
          "name": "stdout",
          "text": [
            "Torch =  tensor([1., 1., 1., 1., 1.])\n",
            "NumPy Array =  [1. 1. 1. 1. 1.]\n",
            "[1. 1. 1. 1. 1.]\n",
            "Y type =  <class 'numpy.ndarray'>\n"
          ]
        }
      ]
    },
    {
      "cell_type": "markdown",
      "source": [
        "Both the Ndarray and the Tensor both point to the same memory location"
      ],
      "metadata": {
        "id": "fCbm0GqWaIy_"
      }
    },
    {
      "cell_type": "code",
      "source": [
        "x=torch.ones(5)\n",
        "print('Torch = ',x)\n",
        "y=x.numpy()\n",
        "print('NumPy Array = ',y)\n",
        "x.add_(1)\n",
        "print('After Addition: ')\n",
        "print('Torch = ',x)\n",
        "print('NumPy Array = ',y)"
      ],
      "metadata": {
        "colab": {
          "base_uri": "https://localhost:8080/"
        },
        "id": "3PC87uz1aWlW",
        "outputId": "9aee9082-5d27-472a-9e80-a1cf69a7b558"
      },
      "execution_count": 6,
      "outputs": [
        {
          "output_type": "stream",
          "name": "stdout",
          "text": [
            "Torch =  tensor([1., 1., 1., 1., 1.])\n",
            "NumPy Array =  [1. 1. 1. 1. 1.]\n",
            "After Addition: \n",
            "Torch =  tensor([2., 2., 2., 2., 2.])\n",
            "NumPy Array =  [2. 2. 2. 2. 2.]\n"
          ]
        }
      ]
    },
    {
      "cell_type": "markdown",
      "source": [
        "NumPy Array to Tensor"
      ],
      "metadata": {
        "id": "pnYeQjlVaw90"
      }
    },
    {
      "cell_type": "code",
      "source": [
        "x=np.ones(5)\n",
        "print('NumPy Array = ',x)\n",
        "y=torch.from_numpy(x)\n",
        "print('Torch = ',y)\n",
        "x+=1\n",
        "print('After Addition: ')\n",
        "print('Torch = ',x)\n",
        "print('NumPy Array = ',y) #This only happens if the tensor is on the CPU"
      ],
      "metadata": {
        "colab": {
          "base_uri": "https://localhost:8080/"
        },
        "id": "HmDkId-OazeA",
        "outputId": "b8656c68-3014-4d1c-fb42-44fe4155e812"
      },
      "execution_count": 10,
      "outputs": [
        {
          "output_type": "stream",
          "name": "stdout",
          "text": [
            "NumPy Array =  [1. 1. 1. 1. 1.]\n",
            "Torch =  tensor([1., 1., 1., 1., 1.], dtype=torch.float64)\n",
            "After Addition: \n",
            "Torch =  [2. 2. 2. 2. 2.]\n",
            "NumPy Array =  tensor([2., 2., 2., 2., 2.], dtype=torch.float64)\n"
          ]
        }
      ]
    },
    {
      "cell_type": "markdown",
      "source": [
        "Checking if CUDA is available"
      ],
      "metadata": {
        "id": "qk5Wj_2Zbv59"
      }
    },
    {
      "cell_type": "code",
      "source": [
        "if torch.cuda.is_available():\n",
        "  print('True')\n",
        "else:\n",
        "  print('False')"
      ],
      "metadata": {
        "colab": {
          "base_uri": "https://localhost:8080/"
        },
        "id": "3LsyZC-wbzCJ",
        "outputId": "f34b03db-3549-4c25-c2ad-19a867b9c566"
      },
      "execution_count": 12,
      "outputs": [
        {
          "output_type": "stream",
          "name": "stdout",
          "text": [
            "False\n"
          ]
        }
      ]
    },
    {
      "cell_type": "markdown",
      "source": [
        "Shifting/Initializing Tensor to GPU"
      ],
      "metadata": {
        "id": "DiBzG2_2cWGm"
      }
    },
    {
      "cell_type": "code",
      "source": [
        "device=torch.device(\"cuda\")\n",
        "x = torch.ones(5, device=device)\n",
        "y = torch.ones(5)\n",
        "y = y.to(device)\n",
        "z = x + y\n",
        "z.numpy() # Will give error as you cant convert a GPU tensor back to NumPy\n",
        "z = z.to(\"cpu\") # Tensor will be back to CPU again\n",
        "z.numpy() # Will work"
      ],
      "metadata": {
        "id": "-NdsComNcZYP"
      },
      "execution_count": null,
      "outputs": []
    },
    {
      "cell_type": "markdown",
      "source": [
        "Tells PyTorch that it will need to calculate the gradients for the Tensor later in Optimization steps (When a variable needs Optimization)"
      ],
      "metadata": {
        "id": "zpDkRp0IdFNX"
      }
    },
    {
      "cell_type": "code",
      "source": [
        "x=torch.ones(5, requires_grad=True)\n",
        "print(x)"
      ],
      "metadata": {
        "colab": {
          "base_uri": "https://localhost:8080/"
        },
        "id": "8MRlWHTydIkK",
        "outputId": "8b912dad-3fd5-4a29-ed9f-7bc97812d17c"
      },
      "execution_count": 15,
      "outputs": [
        {
          "output_type": "stream",
          "name": "stdout",
          "text": [
            "tensor([1., 1., 1., 1., 1.], requires_grad=True)\n"
          ]
        }
      ]
    }
  ]
}