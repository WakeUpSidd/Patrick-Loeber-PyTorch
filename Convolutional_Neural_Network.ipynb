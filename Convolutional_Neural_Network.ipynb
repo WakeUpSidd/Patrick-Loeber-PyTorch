{
 "cells": [
  {
   "metadata": {},
   "cell_type": "markdown",
   "source": "Importing PyTorch and other important modules",
   "id": "ba594072be5376c2"
  },
  {
   "cell_type": "code",
   "id": "initial_id",
   "metadata": {
    "collapsed": true,
    "ExecuteTime": {
     "end_time": "2024-08-08T18:39:47.643008Z",
     "start_time": "2024-08-08T18:39:47.639704Z"
    }
   },
   "source": [
    "import torch\n",
    "import torch.nn as nn\n",
    "import torch.nn.functional as F\n",
    "import torchvision\n",
    "import torchvision.transforms as transforms\n",
    "import matplotlib.pyplot as plt\n",
    "import numpy as np"
   ],
   "outputs": [],
   "execution_count": 30
  },
  {
   "metadata": {},
   "cell_type": "markdown",
   "source": "Device Configuration",
   "id": "72c5057f1fd8ce8e"
  },
  {
   "metadata": {
    "ExecuteTime": {
     "end_time": "2024-08-08T18:39:48.988484Z",
     "start_time": "2024-08-08T18:39:48.985377Z"
    }
   },
   "cell_type": "code",
   "source": "device = torch.device('cuda' if torch.cuda.is_available() else 'cpu')",
   "id": "c94f92c6afafcf98",
   "outputs": [],
   "execution_count": 31
  },
  {
   "metadata": {},
   "cell_type": "markdown",
   "source": "Hyper Parameters",
   "id": "62fec5ae27ce3c90"
  },
  {
   "metadata": {
    "ExecuteTime": {
     "end_time": "2024-08-08T18:39:50.045894Z",
     "start_time": "2024-08-08T18:39:50.042389Z"
    }
   },
   "cell_type": "code",
   "source": [
    "num_epochs = 10\n",
    "batch_size = 5\n",
    "learning_rate = 0.001"
   ],
   "id": "b03077f18735731b",
   "outputs": [],
   "execution_count": 32
  },
  {
   "metadata": {},
   "cell_type": "markdown",
   "source": "Transformer",
   "id": "9401be3da2c15204"
  },
  {
   "metadata": {
    "ExecuteTime": {
     "end_time": "2024-08-08T18:39:51.562498Z",
     "start_time": "2024-08-08T18:39:51.559262Z"
    }
   },
   "cell_type": "code",
   "source": [
    "# Dataset has PILImage of images of range [0, 1].\n",
    "# We transform them to Tensors of normalized range [-1, 1].\n",
    "\n",
    "transform = transforms.Compose([transforms.ToTensor(), transforms.Normalize((0.5, 0.5, 0.5), (0.5, 0.5, 0.5))])"
   ],
   "id": "8384bc3a14cf137d",
   "outputs": [],
   "execution_count": 33
  },
  {
   "metadata": {},
   "cell_type": "markdown",
   "source": "Importing the CIFAR Dataset",
   "id": "a64ddc97eafd040c"
  },
  {
   "metadata": {
    "ExecuteTime": {
     "end_time": "2024-08-08T18:39:54.261760Z",
     "start_time": "2024-08-08T18:39:52.857550Z"
    }
   },
   "cell_type": "code",
   "source": [
    "train_dataset = torchvision.datasets.CIFAR10(root='./CIFAR', train=True, transform=transform, download=True)\n",
    "test_dataset = torchvision.datasets.CIFAR10(root='./CIFAR', train=False, transform=transform, download=True)\n",
    "\n",
    "train_loader = torch.utils.data.DataLoader(dataset=train_dataset, batch_size=batch_size, shuffle=True)\n",
    "test_loader = torch.utils.data.DataLoader(dataset=test_dataset, batch_size=batch_size, shuffle=True)"
   ],
   "id": "69d1dffe2c8015ea",
   "outputs": [
    {
     "name": "stdout",
     "output_type": "stream",
     "text": [
      "Files already downloaded and verified\n",
      "Files already downloaded and verified\n"
     ]
    }
   ],
   "execution_count": 34
  },
  {
   "metadata": {},
   "cell_type": "markdown",
   "source": "",
   "id": "40a68d5a594d8ea0"
  },
  {
   "metadata": {
    "ExecuteTime": {
     "end_time": "2024-08-08T18:39:56.336441Z",
     "start_time": "2024-08-08T18:39:56.333498Z"
    }
   },
   "cell_type": "code",
   "source": "classes = ('Plane', 'Car', 'Bird', 'Cat', 'Deer', 'Dog', 'Frog', 'House', 'Ship', 'Truck')",
   "id": "f2bf3c87a79ed14a",
   "outputs": [],
   "execution_count": 35
  },
  {
   "metadata": {},
   "cell_type": "markdown",
   "source": "Implementing the Convolutional Neural Network",
   "id": "ec388b94b0e8c98e"
  },
  {
   "metadata": {
    "ExecuteTime": {
     "end_time": "2024-08-08T18:39:57.512930Z",
     "start_time": "2024-08-08T18:39:57.505546Z"
    }
   },
   "cell_type": "code",
   "source": [
    "class ConvNet(nn.Module):\n",
    "    def __init__(self):\n",
    "        super(ConvNet, self).__init__()\n",
    "        self.conv1 = nn.Conv2d(3, 6, 5) # 3 input channels, 6 output channels, 5x5 kernel size\n",
    "        self.pool = nn.MaxPool2d(2, 2) # 2x2 kernel size and stride of 2\n",
    "        self.conv2 = nn.Conv2d(6, 16, 5) # 6 input channels, 16 output channels, 5x5 kernel size\n",
    "        self.fc1 = nn.Linear(16 * 5 * 5, 120) # Fully connected layer 1        \n",
    "        self.fc2 = nn.Linear(120, 84) # Fully connected layer 2\n",
    "        self.fc3 = nn.Linear(84, 10) # Fully connected layer 3, 10 because 10 different classes\n",
    "    def forward(self, x):\n",
    "        x = self.pool(F.relu(self.conv1(x))) # Convolution -> ReLU -> Pooling\n",
    "        x = self.pool(F.relu(self.conv2(x))) # Convolution -> ReLU -> Pooling\n",
    "        x = x.view(-1, 16 * 5 * 5) # Flatten the tensor\n",
    "        x = F.relu(self.fc1(x)) # Fully connected layer 1 -> ReLU\n",
    "        x = F.relu(self.fc2(x)) # Fully connected layer 2 -> ReLU\n",
    "        x = self.fc3(x) # Fully connected layer 3\n",
    "        return x\n",
    "    \n",
    "model = ConvNet().to(device)"
   ],
   "id": "c260bf2845707f62",
   "outputs": [],
   "execution_count": 36
  },
  {
   "metadata": {},
   "cell_type": "markdown",
   "source": "Loss and Optimizer",
   "id": "a8ff6683fc03abc7"
  },
  {
   "metadata": {
    "ExecuteTime": {
     "end_time": "2024-08-08T18:39:59.827323Z",
     "start_time": "2024-08-08T18:39:59.823808Z"
    }
   },
   "cell_type": "code",
   "source": [
    "criterion = nn.CrossEntropyLoss()\n",
    "optimizer = torch.optim.SGD(model.parameters(), lr=learning_rate)"
   ],
   "id": "9ed073ae3910911",
   "outputs": [],
   "execution_count": 37
  },
  {
   "metadata": {},
   "cell_type": "markdown",
   "source": "Training Loop",
   "id": "2d9d01070657be16"
  },
  {
   "metadata": {
    "ExecuteTime": {
     "end_time": "2024-08-08T18:45:22.200450Z",
     "start_time": "2024-08-08T18:40:01.368882Z"
    }
   },
   "cell_type": "code",
   "source": [
    "total_steps = len(train_loader)\n",
    "\n",
    "for epoch in range(num_epochs):\n",
    "    for i, (images, labels) in enumerate(train_loader):\n",
    "        # Origin Shape : [4, 3, 32, 32] = 4, 3, 1024\n",
    "        # Input Layer: 3 Input Channels, 6 Output Channels, 5 Kernel Size\n",
    "        images = images.to(device)\n",
    "        labels = labels.to(device)\n",
    "        \n",
    "        # Forward Pass\n",
    "        outputs = model(images)\n",
    "        loss = criterion(outputs, labels)\n",
    "        \n",
    "        # Backward Pass\n",
    "        optimizer.zero_grad()\n",
    "        loss.backward()\n",
    "        optimizer.step()\n",
    "        \n",
    "        if (i+1) % 1000 == 0:\n",
    "            print(f'Epoch [{epoch+1}/{num_epochs}], Step [{i+1}/{total_steps}], Loss: {loss.item():.4f}')\n",
    "            \n",
    "print(\"Finished Training\")"
   ],
   "id": "9ce00e3e6e39f22c",
   "outputs": [
    {
     "name": "stdout",
     "output_type": "stream",
     "text": [
      "Epoch [1/10], Step [1000/10000], Loss: 2.2788\n",
      "Epoch [1/10], Step [2000/10000], Loss: 2.3020\n",
      "Epoch [1/10], Step [3000/10000], Loss: 2.2476\n",
      "Epoch [1/10], Step [4000/10000], Loss: 2.2988\n",
      "Epoch [1/10], Step [5000/10000], Loss: 2.3162\n",
      "Epoch [1/10], Step [6000/10000], Loss: 2.3136\n",
      "Epoch [1/10], Step [7000/10000], Loss: 2.2830\n",
      "Epoch [1/10], Step [8000/10000], Loss: 2.2759\n",
      "Epoch [1/10], Step [9000/10000], Loss: 2.2565\n",
      "Epoch [1/10], Step [10000/10000], Loss: 2.1875\n",
      "Epoch [2/10], Step [1000/10000], Loss: 1.9657\n",
      "Epoch [2/10], Step [2000/10000], Loss: 1.5606\n",
      "Epoch [2/10], Step [3000/10000], Loss: 2.2168\n",
      "Epoch [2/10], Step [4000/10000], Loss: 2.0860\n",
      "Epoch [2/10], Step [5000/10000], Loss: 1.7632\n",
      "Epoch [2/10], Step [6000/10000], Loss: 2.5107\n",
      "Epoch [2/10], Step [7000/10000], Loss: 1.7151\n",
      "Epoch [2/10], Step [8000/10000], Loss: 1.6992\n",
      "Epoch [2/10], Step [9000/10000], Loss: 1.6865\n",
      "Epoch [2/10], Step [10000/10000], Loss: 1.6567\n",
      "Epoch [3/10], Step [1000/10000], Loss: 1.4870\n",
      "Epoch [3/10], Step [2000/10000], Loss: 1.6620\n",
      "Epoch [3/10], Step [3000/10000], Loss: 1.8455\n",
      "Epoch [3/10], Step [4000/10000], Loss: 1.3157\n",
      "Epoch [3/10], Step [5000/10000], Loss: 1.5762\n",
      "Epoch [3/10], Step [6000/10000], Loss: 1.8051\n",
      "Epoch [3/10], Step [7000/10000], Loss: 1.7923\n",
      "Epoch [3/10], Step [8000/10000], Loss: 1.5637\n",
      "Epoch [3/10], Step [9000/10000], Loss: 1.4956\n",
      "Epoch [3/10], Step [10000/10000], Loss: 1.4233\n",
      "Epoch [4/10], Step [1000/10000], Loss: 1.5399\n",
      "Epoch [4/10], Step [2000/10000], Loss: 0.9397\n",
      "Epoch [4/10], Step [3000/10000], Loss: 1.4056\n",
      "Epoch [4/10], Step [4000/10000], Loss: 1.5907\n",
      "Epoch [4/10], Step [5000/10000], Loss: 1.2756\n",
      "Epoch [4/10], Step [6000/10000], Loss: 1.1947\n",
      "Epoch [4/10], Step [7000/10000], Loss: 1.1544\n",
      "Epoch [4/10], Step [8000/10000], Loss: 1.0183\n",
      "Epoch [4/10], Step [9000/10000], Loss: 1.1241\n",
      "Epoch [4/10], Step [10000/10000], Loss: 2.1879\n",
      "Epoch [5/10], Step [1000/10000], Loss: 1.8234\n",
      "Epoch [5/10], Step [2000/10000], Loss: 1.1721\n",
      "Epoch [5/10], Step [3000/10000], Loss: 1.6065\n",
      "Epoch [5/10], Step [4000/10000], Loss: 1.2332\n",
      "Epoch [5/10], Step [5000/10000], Loss: 1.8103\n",
      "Epoch [5/10], Step [6000/10000], Loss: 1.6926\n",
      "Epoch [5/10], Step [7000/10000], Loss: 1.7146\n",
      "Epoch [5/10], Step [8000/10000], Loss: 1.1416\n",
      "Epoch [5/10], Step [9000/10000], Loss: 1.2254\n",
      "Epoch [5/10], Step [10000/10000], Loss: 1.4613\n",
      "Epoch [6/10], Step [1000/10000], Loss: 1.2403\n",
      "Epoch [6/10], Step [2000/10000], Loss: 1.4370\n",
      "Epoch [6/10], Step [3000/10000], Loss: 1.5484\n",
      "Epoch [6/10], Step [4000/10000], Loss: 1.5337\n",
      "Epoch [6/10], Step [5000/10000], Loss: 1.3737\n",
      "Epoch [6/10], Step [6000/10000], Loss: 1.5983\n",
      "Epoch [6/10], Step [7000/10000], Loss: 1.0149\n",
      "Epoch [6/10], Step [8000/10000], Loss: 0.9927\n",
      "Epoch [6/10], Step [9000/10000], Loss: 0.5710\n",
      "Epoch [6/10], Step [10000/10000], Loss: 1.2466\n",
      "Epoch [7/10], Step [1000/10000], Loss: 1.7414\n",
      "Epoch [7/10], Step [2000/10000], Loss: 0.9721\n",
      "Epoch [7/10], Step [3000/10000], Loss: 1.2918\n",
      "Epoch [7/10], Step [4000/10000], Loss: 1.6411\n",
      "Epoch [7/10], Step [5000/10000], Loss: 0.8827\n",
      "Epoch [7/10], Step [6000/10000], Loss: 1.8867\n",
      "Epoch [7/10], Step [7000/10000], Loss: 1.1602\n",
      "Epoch [7/10], Step [8000/10000], Loss: 1.5099\n",
      "Epoch [7/10], Step [9000/10000], Loss: 0.9409\n",
      "Epoch [7/10], Step [10000/10000], Loss: 1.7852\n",
      "Epoch [8/10], Step [1000/10000], Loss: 0.9061\n",
      "Epoch [8/10], Step [2000/10000], Loss: 0.8065\n",
      "Epoch [8/10], Step [3000/10000], Loss: 0.7852\n",
      "Epoch [8/10], Step [4000/10000], Loss: 0.8048\n",
      "Epoch [8/10], Step [5000/10000], Loss: 1.2004\n",
      "Epoch [8/10], Step [6000/10000], Loss: 1.6573\n",
      "Epoch [8/10], Step [7000/10000], Loss: 1.3479\n",
      "Epoch [8/10], Step [8000/10000], Loss: 1.1147\n",
      "Epoch [8/10], Step [9000/10000], Loss: 0.7859\n",
      "Epoch [8/10], Step [10000/10000], Loss: 0.9193\n",
      "Epoch [9/10], Step [1000/10000], Loss: 1.6904\n",
      "Epoch [9/10], Step [2000/10000], Loss: 1.7288\n",
      "Epoch [9/10], Step [3000/10000], Loss: 1.0760\n",
      "Epoch [9/10], Step [4000/10000], Loss: 1.2950\n",
      "Epoch [9/10], Step [5000/10000], Loss: 0.7593\n",
      "Epoch [9/10], Step [6000/10000], Loss: 1.4125\n",
      "Epoch [9/10], Step [7000/10000], Loss: 2.2473\n",
      "Epoch [9/10], Step [8000/10000], Loss: 1.1170\n",
      "Epoch [9/10], Step [9000/10000], Loss: 1.0189\n",
      "Epoch [9/10], Step [10000/10000], Loss: 0.6643\n",
      "Epoch [10/10], Step [1000/10000], Loss: 1.6912\n",
      "Epoch [10/10], Step [2000/10000], Loss: 1.2986\n",
      "Epoch [10/10], Step [3000/10000], Loss: 0.9456\n",
      "Epoch [10/10], Step [4000/10000], Loss: 2.0113\n",
      "Epoch [10/10], Step [5000/10000], Loss: 0.9469\n",
      "Epoch [10/10], Step [6000/10000], Loss: 1.0450\n",
      "Epoch [10/10], Step [7000/10000], Loss: 1.1353\n",
      "Epoch [10/10], Step [8000/10000], Loss: 0.7474\n",
      "Epoch [10/10], Step [9000/10000], Loss: 0.5226\n",
      "Epoch [10/10], Step [10000/10000], Loss: 1.4794\n",
      "Finished Training\n"
     ]
    }
   ],
   "execution_count": 38
  },
  {
   "metadata": {},
   "cell_type": "markdown",
   "source": "Evaluate the Model",
   "id": "670ad7d53fc9c25e"
  },
  {
   "metadata": {
    "ExecuteTime": {
     "end_time": "2024-08-08T18:50:35.118096Z",
     "start_time": "2024-08-08T18:50:29.803266Z"
    }
   },
   "cell_type": "code",
   "source": [
    "model.eval()\n",
    "with torch.no_grad():\n",
    "    n_correct = 0\n",
    "    n_samples = 0\n",
    "    n_class_correct = [0 for i in range(10)]\n",
    "    n_class_samples = [0 for i in range(10)]\n",
    "    for images, labels in test_loader:\n",
    "        images = images.to(device)\n",
    "        labels = labels.to(device)\n",
    "        outputs = model(images)\n",
    "        \n",
    "        # Max Returns (Value, Index)\n",
    "        \n",
    "        _, predicted = torch.max(outputs, 1)\n",
    "        n_samples += labels.size(0)\n",
    "        n_correct += (predicted == labels).sum().item()\n",
    "        \n",
    "        for i in range(batch_size):\n",
    "            label = labels[i]\n",
    "            pred = predicted[i]\n",
    "            if(label == pred):\n",
    "                n_class_correct[label] += 1\n",
    "            n_class_samples[label] += 1\n",
    "    \n",
    "    acc = 100 * n_correct / n_samples\n",
    "    print(f'Accuracy on the test set: {acc} %')\n",
    "    \n",
    "    for i in range(10):\n",
    "        acc = 100.0 * n_class_correct[i] / n_class_samples[i]\n",
    "        print(f'Accuracy of {classes[i]}: {acc} %')"
   ],
   "id": "17f92b8c65416652",
   "outputs": [
    {
     "name": "stdout",
     "output_type": "stream",
     "text": [
      "Accuracy on the test set: 55.0 %\n",
      "Accuracy of Plane: 56.5 %\n",
      "Accuracy of Car: 55.6 %\n",
      "Accuracy of Bird: 46.7 %\n",
      "Accuracy of Cat: 35.3 %\n",
      "Accuracy of Deer: 25.0 %\n",
      "Accuracy of Dog: 39.4 %\n",
      "Accuracy of Frog: 71.4 %\n",
      "Accuracy of House: 67.0 %\n",
      "Accuracy of Ship: 77.7 %\n",
      "Accuracy of Truck: 75.4 %\n"
     ]
    }
   ],
   "execution_count": 39
  }
 ],
 "metadata": {
  "kernelspec": {
   "display_name": "Python 3",
   "language": "python",
   "name": "python3"
  },
  "language_info": {
   "codemirror_mode": {
    "name": "ipython",
    "version": 2
   },
   "file_extension": ".py",
   "mimetype": "text/x-python",
   "name": "python",
   "nbconvert_exporter": "python",
   "pygments_lexer": "ipython2",
   "version": "2.7.6"
  }
 },
 "nbformat": 4,
 "nbformat_minor": 5
}
