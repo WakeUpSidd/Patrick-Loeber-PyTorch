{
 "cells": [
  {
   "metadata": {},
   "cell_type": "markdown",
   "source": "# **Gradient Calculation with Autograd - Patrick Loeber**",
   "id": "f4f5a8e9cd5ff522"
  },
  {
   "metadata": {},
   "cell_type": "markdown",
   "source": "Importing torch",
   "id": "5e4a931df9af3de3"
  },
  {
   "metadata": {
    "ExecuteTime": {
     "end_time": "2024-07-11T19:17:40.652463Z",
     "start_time": "2024-07-11T19:17:26.862996Z"
    }
   },
   "cell_type": "code",
   "source": "import torch",
   "id": "e9cbc9ce684c43fc",
   "outputs": [],
   "execution_count": 1
  },
  {
   "metadata": {},
   "cell_type": "markdown",
   "source": "Gradient Calculation",
   "id": "2ad0d39370322427"
  },
  {
   "metadata": {
    "ExecuteTime": {
     "end_time": "2024-07-11T19:41:01.337541Z",
     "start_time": "2024-07-11T19:41:01.331903Z"
    }
   },
   "cell_type": "code",
   "source": [
    "x=torch.randn(3, requires_grad=True)\n",
    "print(x)\n",
    "\n",
    "y=x+2\n",
    "print(y)\n",
    "\n",
    "z=y*y*2\n",
    "#z=z.mean()\n",
    "print(z) # z is a scalar value (when z=z.mean()) and vector value (when z=y*y*2)\n",
    "v=torch.tensor([0.1, 1.0, 0.001], dtype=torch.float32)\n",
    "z.backward(v) # dz/dx (No argument needed in the function when Z only has one value i.e. due to z=z.mean()) (\n",
    "print(x.grad) # Creates a vector Jacobean product to get the gradients\n",
    "\n",
    "# Jacobean Matrix w/ partial derivatives * Gradient Vector = Final Gradients (a.k.a Chain Rule)"
   ],
   "id": "d82d8463f6a55b74",
   "outputs": [
    {
     "name": "stdout",
     "output_type": "stream",
     "text": [
      "tensor([0.0157, 0.1505, 0.0531], requires_grad=True)\n",
      "tensor([2.0157, 2.1505, 2.0531], grad_fn=<AddBackward0>)\n",
      "tensor([8.1261, 9.2490, 8.4306], grad_fn=<MulBackward0>)\n",
      "tensor([8.0628e-01, 8.6018e+00, 8.2125e-03])\n"
     ]
    }
   ],
   "execution_count": 10
  },
  {
   "metadata": {},
   "cell_type": "markdown",
   "source": "Preventing Gradient History",
   "id": "2ce7224d5e96a9fc"
  },
  {
   "metadata": {
    "ExecuteTime": {
     "end_time": "2024-07-11T19:44:43.292156Z",
     "start_time": "2024-07-11T19:44:43.285798Z"
    }
   },
   "cell_type": "code",
   "source": [
    "x=torch.randn(3, requires_grad=True)\n",
    "print('X = ',x)\n",
    "\n",
    "# x.requires_grad(False)\n",
    "# x.detach()\n",
    "# with torch.no_grad():\n",
    "\n",
    "x.requires_grad_(False)\n",
    "print('X = ',x)\n",
    "\n",
    "y=x.detach()\n",
    "print('Y = ',y)\n",
    "\n",
    "with torch.no_grad():\n",
    "    z = x + 2\n",
    "    print('Z = ',z)"
   ],
   "id": "e8b11387f21fd167",
   "outputs": [
    {
     "name": "stdout",
     "output_type": "stream",
     "text": [
      "X =  tensor([-0.0121,  1.8233, -1.5379], requires_grad=True)\n",
      "X =  tensor([-0.0121,  1.8233, -1.5379])\n",
      "Y =  tensor([-0.0121,  1.8233, -1.5379])\n",
      "Z =  tensor([1.9879, 3.8233, 0.4621])\n"
     ]
    }
   ],
   "execution_count": 13
  },
  {
   "metadata": {},
   "cell_type": "markdown",
   "source": "Training Example (Zeroing Gradient)",
   "id": "60963feabc02f3fb"
  },
  {
   "metadata": {
    "ExecuteTime": {
     "end_time": "2024-07-11T19:50:58.128659Z",
     "start_time": "2024-07-11T19:50:58.122184Z"
    }
   },
   "cell_type": "code",
   "source": [
    "weights = torch.ones(4, requires_grad=True)\n",
    "\n",
    "for epoch in range(3):\n",
    "    model_output = (weights*3).sum() # This computes the sum of the tensor obtained by multiplying weights by 3.\n",
    "    model_output.backward() # This computes the gradient of model_output w.r.t weights. Since model_output is a scalar, it produces a gradient tensor of the same shape as weights\n",
    "    print(weights.grad) # This prints the gradient of weights. Without zeroing the gradients, this would show accumulated gradients.\n",
    "    weights.grad.zero_() # This manually sets the gradients of weights to zero."
   ],
   "id": "210d2b369c2c0a78",
   "outputs": [
    {
     "name": "stdout",
     "output_type": "stream",
     "text": [
      "tensor([3., 3., 3., 3.])\n",
      "tensor([3., 3., 3., 3.])\n",
      "tensor([3., 3., 3., 3.])\n"
     ]
    }
   ],
   "execution_count": 19
  },
  {
   "metadata": {},
   "cell_type": "markdown",
   "source": "",
   "id": "4c95b68e06109bbb"
  },
  {
   "metadata": {},
   "cell_type": "markdown",
   "source": [
    "**Why Zeroing Gradients is Necessary**\n",
    "- Gradient Accumulation: PyTorch accumulates gradients on subsequent backward passes. If you don't zero out the gradients, they will keep accumulating, which will give incorrect gradients and thus incorrect weight updates.\n",
    "- Correct Gradient Calculation: By zeroing the gradients after each backward pass, you ensure that each epoch starts with a fresh gradient calculation, providing accurate gradients for each epoch"
   ],
   "id": "cac13bf22cc6be76"
  }
 ],
 "metadata": {
  "kernelspec": {
   "display_name": "Python 3",
   "language": "python",
   "name": "python3"
  },
  "language_info": {
   "codemirror_mode": {
    "name": "ipython",
    "version": 2
   },
   "file_extension": ".py",
   "mimetype": "text/x-python",
   "name": "python",
   "nbconvert_exporter": "python",
   "pygments_lexer": "ipython2",
   "version": "2.7.6"
  }
 },
 "nbformat": 4,
 "nbformat_minor": 5
}
