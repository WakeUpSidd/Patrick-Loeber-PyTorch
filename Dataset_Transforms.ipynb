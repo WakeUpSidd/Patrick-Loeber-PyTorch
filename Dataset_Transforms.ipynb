{
 "cells": [
  {
   "metadata": {},
   "cell_type": "markdown",
   "source": "Importing Torch, Torch Vision, Dataset and Dataloader, NumPy and Math",
   "id": "c3b7ff48ef7d595b"
  },
  {
   "cell_type": "code",
   "id": "initial_id",
   "metadata": {
    "collapsed": true,
    "ExecuteTime": {
     "end_time": "2024-08-04T13:32:27.432361Z",
     "start_time": "2024-08-04T13:32:27.428665Z"
    }
   },
   "source": [
    "import torch\n",
    "import torchvision\n",
    "from torch.utils.data import Dataset, DataLoader\n",
    "import numpy as np\n",
    "import math"
   ],
   "outputs": [],
   "execution_count": 15
  },
  {
   "metadata": {},
   "cell_type": "markdown",
   "source": "Creating Wine Dataset Class",
   "id": "fe9662a8c2dad949"
  },
  {
   "metadata": {
    "ExecuteTime": {
     "end_time": "2024-08-04T13:32:28.212082Z",
     "start_time": "2024-08-04T13:32:28.207668Z"
    }
   },
   "cell_type": "code",
   "source": [
    "class WineDataset(Dataset):\n",
    "    def __init__(self, transform=None):\n",
    "        # Data Loading\n",
    "        xy = np.loadtxt('wine.csv', delimiter=',', dtype=np.float32, skiprows=1) # delimiter=',', as CSV is a comma seperated file\n",
    "        self.x = xy[:,1:]\n",
    "        self.y = xy[:,[0]] # n_samples, 1\n",
    "        self.n_samples = xy.shape[0]\n",
    "        \n",
    "        self.transform = transform\n",
    "        \n",
    "    def __getitem__(self, index):\n",
    "        # Dataset [0], Will help in Indexing Later\n",
    "        sample =  self.x[index], self.y[index]\n",
    "        if self.transform:\n",
    "            sample = self.transform(sample)\n",
    "        return sample\n",
    "    \n",
    "    def __len__(self):\n",
    "        # Len(dataset)\n",
    "        return self.n_samples"
   ],
   "id": "b37531a40a25a5f5",
   "outputs": [],
   "execution_count": 16
  },
  {
   "metadata": {},
   "cell_type": "markdown",
   "source": "Custom Transform Class",
   "id": "e83d00a67c19446e"
  },
  {
   "metadata": {
    "ExecuteTime": {
     "end_time": "2024-08-04T13:32:29.768395Z",
     "start_time": "2024-08-04T13:32:29.765602Z"
    }
   },
   "cell_type": "code",
   "source": [
    "class ToTensor():\n",
    "    def __call__(self, sample):\n",
    "        inputs, target = sample\n",
    "        return torch.from_numpy(inputs), torch.from_numpy(target)"
   ],
   "id": "585b5b78e6510617",
   "outputs": [],
   "execution_count": 17
  },
  {
   "metadata": {},
   "cell_type": "markdown",
   "source": "Multiplication Transform",
   "id": "a3a4039e045519ac"
  },
  {
   "metadata": {
    "ExecuteTime": {
     "end_time": "2024-08-04T13:32:30.923925Z",
     "start_time": "2024-08-04T13:32:30.920107Z"
    }
   },
   "cell_type": "code",
   "source": [
    "class MulTransform:\n",
    "    def __init__(self, factor):\n",
    "        self.factor = factor\n",
    "    def __call__(self, sample):\n",
    "        inputs, target = sample\n",
    "        inputs = inputs * self.factor\n",
    "        return inputs, target"
   ],
   "id": "414f218c2d83accd",
   "outputs": [],
   "execution_count": 18
  },
  {
   "metadata": {},
   "cell_type": "markdown",
   "source": "Importing the dataset, and using the Transform function",
   "id": "2a81428e33416ade"
  },
  {
   "metadata": {
    "ExecuteTime": {
     "end_time": "2024-08-04T13:32:51.219272Z",
     "start_time": "2024-08-04T13:32:51.214688Z"
    }
   },
   "cell_type": "code",
   "source": [
    "dataset = WineDataset(transform=ToTensor())\n",
    "first_data = dataset[0]\n",
    "features, lables = first_data\n",
    "print(features)\n",
    "print(type(features), type(lables))"
   ],
   "id": "432c8f33fcfd0295",
   "outputs": [
    {
     "name": "stdout",
     "output_type": "stream",
     "text": [
      "tensor([1.4230e+01, 1.7100e+00, 2.4300e+00, 1.5600e+01, 1.2700e+02, 2.8000e+00,\n",
      "        3.0600e+00, 2.8000e-01, 2.2900e+00, 5.6400e+00, 1.0400e+00, 3.9200e+00,\n",
      "        1.0650e+03])\n",
      "<class 'torch.Tensor'> <class 'torch.Tensor'>\n"
     ]
    }
   ],
   "execution_count": 23
  },
  {
   "metadata": {},
   "cell_type": "markdown",
   "source": "",
   "id": "f62eea641c74c940"
  },
  {
   "metadata": {
    "ExecuteTime": {
     "end_time": "2024-08-04T13:33:14.047442Z",
     "start_time": "2024-08-04T13:33:14.042839Z"
    }
   },
   "cell_type": "code",
   "source": [
    "composed = torchvision.transforms.Compose([ToTensor(), MulTransform(2)])\n",
    "dataset = WineDataset(transform=composed)\n",
    "first_data = dataset[0]\n",
    "features, lables = first_data\n",
    "print(features)\n",
    "print(type(features), type(lables))"
   ],
   "id": "344f27aa3fc82cda",
   "outputs": [
    {
     "name": "stdout",
     "output_type": "stream",
     "text": [
      "tensor([2.8460e+01, 3.4200e+00, 4.8600e+00, 3.1200e+01, 2.5400e+02, 5.6000e+00,\n",
      "        6.1200e+00, 5.6000e-01, 4.5800e+00, 1.1280e+01, 2.0800e+00, 7.8400e+00,\n",
      "        2.1300e+03])\n",
      "<class 'torch.Tensor'> <class 'torch.Tensor'>\n"
     ]
    }
   ],
   "execution_count": 29
  }
 ],
 "metadata": {
  "kernelspec": {
   "display_name": "Python 3",
   "language": "python",
   "name": "python3"
  },
  "language_info": {
   "codemirror_mode": {
    "name": "ipython",
    "version": 2
   },
   "file_extension": ".py",
   "mimetype": "text/x-python",
   "name": "python",
   "nbconvert_exporter": "python",
   "pygments_lexer": "ipython2",
   "version": "2.7.6"
  }
 },
 "nbformat": 4,
 "nbformat_minor": 5
}
