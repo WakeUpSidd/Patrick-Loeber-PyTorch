{
 "cells": [
  {
   "metadata": {},
   "cell_type": "markdown",
   "source": "Importing Torch, Torch Vision, Dataset and Dataloader, NumPy and Math",
   "id": "c3b7ff48ef7d595b"
  },
  {
   "cell_type": "code",
   "id": "initial_id",
   "metadata": {
    "collapsed": true,
    "ExecuteTime": {
     "end_time": "2024-08-03T12:14:32.873416Z",
     "start_time": "2024-08-03T12:14:32.870361Z"
    }
   },
   "source": [
    "import torch\n",
    "import torchvision\n",
    "from torch.utils.data import Dataset, DataLoader\n",
    "import numpy as np\n",
    "import math"
   ],
   "outputs": [],
   "execution_count": 11
  },
  {
   "metadata": {},
   "cell_type": "markdown",
   "source": "Creating Wine Dataset Class",
   "id": "fe9662a8c2dad949"
  },
  {
   "metadata": {
    "ExecuteTime": {
     "end_time": "2024-08-03T12:14:33.599239Z",
     "start_time": "2024-08-03T12:14:33.593801Z"
    }
   },
   "cell_type": "code",
   "source": [
    "class WineDataset(Dataset):\n",
    "    def __init__(self):\n",
    "        # Data Loading\n",
    "        xy = np.loadtxt('wine.csv', delimiter=',', dtype=np.float32, skiprows=1) # delimiter=',', as CSV is a comma seperated file\n",
    "        self.x = torch.from_numpy(xy[:,1:])\n",
    "        self.y = torch.from_numpy(xy[:,[0]]) # n_samples, 1\n",
    "        self.n_samples = xy.shape[0]\n",
    "    def __getitem__(self, index):\n",
    "        # Dataset [0], Will help in Indexing Later\n",
    "        return self.x[index], self.y[index]\n",
    "    def __len__(self):\n",
    "        # Len(dataset)\n",
    "        return self.n_samples"
   ],
   "id": "b37531a40a25a5f5",
   "outputs": [],
   "execution_count": 12
  },
  {
   "metadata": {},
   "cell_type": "markdown",
   "source": "Importing the dataset, and defining the features and labels",
   "id": "2a81428e33416ade"
  },
  {
   "metadata": {
    "ExecuteTime": {
     "end_time": "2024-08-03T12:14:34.832135Z",
     "start_time": "2024-08-03T12:14:34.827215Z"
    }
   },
   "cell_type": "code",
   "source": [
    "dataset = WineDataset()\n",
    "first_data = dataset[0]\n",
    "features, lables = first_data\n",
    "print(features, lables)"
   ],
   "id": "432c8f33fcfd0295",
   "outputs": [
    {
     "name": "stdout",
     "output_type": "stream",
     "text": [
      "tensor([1.4230e+01, 1.7100e+00, 2.4300e+00, 1.5600e+01, 1.2700e+02, 2.8000e+00,\n",
      "        3.0600e+00, 2.8000e-01, 2.2900e+00, 5.6400e+00, 1.0400e+00, 3.9200e+00,\n",
      "        1.0650e+03]) tensor([1.])\n"
     ]
    }
   ],
   "execution_count": 13
  },
  {
   "metadata": {},
   "cell_type": "markdown",
   "source": "Adding the Dataloader",
   "id": "a67ff3c25225d32"
  },
  {
   "metadata": {
    "ExecuteTime": {
     "end_time": "2024-08-03T12:17:00.048013Z",
     "start_time": "2024-08-03T12:17:00.045589Z"
    }
   },
   "cell_type": "code",
   "source": "dataloader = DataLoader(dataset=dataset, batch_size=4, shuffle=True, num_workers=0) # The course had num_workers = 2, it gave an error in the next code snippet, so I changed num_workers=0, and the code worked",
   "id": "bdeae537acc7e189",
   "outputs": [],
   "execution_count": 19
  },
  {
   "metadata": {},
   "cell_type": "markdown",
   "source": "Using the Dataloader",
   "id": "4be405445860a61"
  },
  {
   "metadata": {
    "ExecuteTime": {
     "end_time": "2024-08-03T12:17:01.110475Z",
     "start_time": "2024-08-03T12:17:01.099312Z"
    }
   },
   "cell_type": "code",
   "source": [
    "dataiter = iter(dataloader)\n",
    "data = next(dataiter)\n",
    "features, labels = data\n",
    "print(features, labels)"
   ],
   "id": "48d61533a98f067a",
   "outputs": [
    {
     "name": "stdout",
     "output_type": "stream",
     "text": [
      "tensor([[1.1840e+01, 8.9000e-01, 2.5800e+00, 1.8000e+01, 9.4000e+01, 2.2000e+00,\n",
      "         2.2100e+00, 2.2000e-01, 2.3500e+00, 3.0500e+00, 7.9000e-01, 3.0800e+00,\n",
      "         5.2000e+02],\n",
      "        [1.3050e+01, 2.0500e+00, 3.2200e+00, 2.5000e+01, 1.2400e+02, 2.6300e+00,\n",
      "         2.6800e+00, 4.7000e-01, 1.9200e+00, 3.5800e+00, 1.1300e+00, 3.2000e+00,\n",
      "         8.3000e+02],\n",
      "        [1.3110e+01, 1.0100e+00, 1.7000e+00, 1.5000e+01, 7.8000e+01, 2.9800e+00,\n",
      "         3.1800e+00, 2.6000e-01, 2.2800e+00, 5.3000e+00, 1.1200e+00, 3.1800e+00,\n",
      "         5.0200e+02],\n",
      "        [1.4020e+01, 1.6800e+00, 2.2100e+00, 1.6000e+01, 9.6000e+01, 2.6500e+00,\n",
      "         2.3300e+00, 2.6000e-01, 1.9800e+00, 4.7000e+00, 1.0400e+00, 3.5900e+00,\n",
      "         1.0350e+03]]) tensor([[2.],\n",
      "        [1.],\n",
      "        [2.],\n",
      "        [1.]])\n"
     ]
    }
   ],
   "execution_count": 20
  },
  {
   "metadata": {},
   "cell_type": "markdown",
   "source": "Dummy Training Loop (To check the epochs and iterations)",
   "id": "20c1123d86dd73c5"
  },
  {
   "metadata": {
    "ExecuteTime": {
     "end_time": "2024-08-03T12:23:04.804291Z",
     "start_time": "2024-08-03T12:23:04.795103Z"
    }
   },
   "cell_type": "code",
   "source": [
    "num_epochs = 2\n",
    "total_samples = len(dataset)\n",
    "n_iterations = math.ceil(total_samples/4)\n",
    "print(total_samples, n_iterations)\n",
    "for epoch in range(num_epochs):\n",
    "    for i, (inputs, labels) in enumerate(dataloader):\n",
    "        # Forward and Backward Pass, and then Update Weights\n",
    "        if (i+1)%5 == 0:\n",
    "            print(f'Epoch {epoch+1}/{num_epochs}, Step {i+1}/{n_iterations}, Inputs {inputs.shape}')"
   ],
   "id": "77c3019bd849af59",
   "outputs": [
    {
     "name": "stdout",
     "output_type": "stream",
     "text": [
      "178 45\n",
      "Epoch 1/2, Step 5/45, Inputs torch.Size([4, 13])\n",
      "Epoch 1/2, Step 10/45, Inputs torch.Size([4, 13])\n",
      "Epoch 1/2, Step 15/45, Inputs torch.Size([4, 13])\n",
      "Epoch 1/2, Step 20/45, Inputs torch.Size([4, 13])\n",
      "Epoch 1/2, Step 25/45, Inputs torch.Size([4, 13])\n",
      "Epoch 1/2, Step 30/45, Inputs torch.Size([4, 13])\n",
      "Epoch 1/2, Step 35/45, Inputs torch.Size([4, 13])\n",
      "Epoch 1/2, Step 40/45, Inputs torch.Size([4, 13])\n",
      "Epoch 1/2, Step 45/45, Inputs torch.Size([2, 13])\n",
      "Epoch 2/2, Step 5/45, Inputs torch.Size([4, 13])\n",
      "Epoch 2/2, Step 10/45, Inputs torch.Size([4, 13])\n",
      "Epoch 2/2, Step 15/45, Inputs torch.Size([4, 13])\n",
      "Epoch 2/2, Step 20/45, Inputs torch.Size([4, 13])\n",
      "Epoch 2/2, Step 25/45, Inputs torch.Size([4, 13])\n",
      "Epoch 2/2, Step 30/45, Inputs torch.Size([4, 13])\n",
      "Epoch 2/2, Step 35/45, Inputs torch.Size([4, 13])\n",
      "Epoch 2/2, Step 40/45, Inputs torch.Size([4, 13])\n",
      "Epoch 2/2, Step 45/45, Inputs torch.Size([2, 13])\n"
     ]
    }
   ],
   "execution_count": 21
  }
 ],
 "metadata": {
  "kernelspec": {
   "display_name": "Python 3",
   "language": "python",
   "name": "python3"
  },
  "language_info": {
   "codemirror_mode": {
    "name": "ipython",
    "version": 2
   },
   "file_extension": ".py",
   "mimetype": "text/x-python",
   "name": "python",
   "nbconvert_exporter": "python",
   "pygments_lexer": "ipython2",
   "version": "2.7.6"
  }
 },
 "nbformat": 4,
 "nbformat_minor": 5
}
