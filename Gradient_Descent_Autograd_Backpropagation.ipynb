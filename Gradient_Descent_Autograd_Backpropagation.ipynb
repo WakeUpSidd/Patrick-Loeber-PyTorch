{
 "cells": [
  {
   "metadata": {},
   "cell_type": "markdown",
   "source": "# **Gradient Descent with Autograd and Backpropagation**",
   "id": "9c04a712bff0915b"
  },
  {
   "metadata": {},
   "cell_type": "markdown",
   "source": [
    "**Step 1**\n",
    "- Prediction: Manually\n",
    "- Gradient Computation: Manually\n",
    "- Loss Computation: Manually\n",
    "- Parameters Updates: Manually"
   ],
   "id": "cbf863e69227a2f7"
  },
  {
   "metadata": {},
   "cell_type": "markdown",
   "source": "Importing NumPy",
   "id": "ed0f1569816c4954"
  },
  {
   "metadata": {
    "ExecuteTime": {
     "end_time": "2024-07-13T12:38:31.178076Z",
     "start_time": "2024-07-13T12:38:31.174969Z"
    }
   },
   "cell_type": "code",
   "source": "import numpy as np",
   "id": "23cc451927e2bcb6",
   "outputs": [],
   "execution_count": 3
  },
  {
   "metadata": {},
   "cell_type": "markdown",
   "source": "Function and Value Declaration",
   "id": "d957b9ba109befd0"
  },
  {
   "metadata": {
    "ExecuteTime": {
     "end_time": "2024-07-13T12:38:32.884277Z",
     "start_time": "2024-07-13T12:38:32.880370Z"
    }
   },
   "cell_type": "code",
   "source": [
    "# Function = w * x\n",
    "# w = 2\n",
    "\n",
    "X = np.array([1,2,3,4], dtype=np.float32)\n",
    "Y = np.array([2,4,6,8], dtype=np.float32)\n",
    "\n",
    "w = 0.0"
   ],
   "id": "56368d403666d7c0",
   "outputs": [],
   "execution_count": 4
  },
  {
   "metadata": {},
   "cell_type": "markdown",
   "source": "Forward Function",
   "id": "2eb808c1a638d85"
  },
  {
   "metadata": {
    "ExecuteTime": {
     "end_time": "2024-07-13T12:38:35.316023Z",
     "start_time": "2024-07-13T12:38:35.312452Z"
    }
   },
   "cell_type": "code",
   "source": [
    "def forward(x):\n",
    "    return w * x"
   ],
   "id": "53699fef7c164004",
   "outputs": [],
   "execution_count": 5
  },
  {
   "metadata": {},
   "cell_type": "markdown",
   "source": "Loss Function",
   "id": "762e297633074eba"
  },
  {
   "metadata": {
    "ExecuteTime": {
     "end_time": "2024-07-13T12:38:42.221289Z",
     "start_time": "2024-07-13T12:38:42.218199Z"
    }
   },
   "cell_type": "code",
   "source": [
    "def loss(y, y_pred):\n",
    "    return ((y_pred - y)**2).mean()\n",
    "\n",
    "# MSE = 1/N * (w*x - y)**2\n",
    "# dJ/dw = 1/N 2x (w*x - y) "
   ],
   "id": "bb714575d08b258c",
   "outputs": [],
   "execution_count": 7
  },
  {
   "metadata": {},
   "cell_type": "markdown",
   "source": "Gradient Descent",
   "id": "1b93e914c8a9a507"
  },
  {
   "metadata": {
    "ExecuteTime": {
     "end_time": "2024-07-13T12:38:43.763120Z",
     "start_time": "2024-07-13T12:38:43.760499Z"
    }
   },
   "cell_type": "code",
   "source": [
    "def gradient(x, y, y_pred):\n",
    "    return np.dot(2*x, y_pred - y).mean()"
   ],
   "id": "809ebc5998931d46",
   "outputs": [],
   "execution_count": 8
  },
  {
   "metadata": {},
   "cell_type": "markdown",
   "source": "Prediction before Training",
   "id": "3bb1bece03c89cce"
  },
  {
   "metadata": {
    "ExecuteTime": {
     "end_time": "2024-07-13T12:38:45.598992Z",
     "start_time": "2024-07-13T12:38:45.594727Z"
    }
   },
   "cell_type": "code",
   "source": "print(f'Prediction before Traning: f(5) = {forward(5):.3f}')",
   "id": "80998fff66a352c4",
   "outputs": [
    {
     "name": "stdout",
     "output_type": "stream",
     "text": [
      "Prediction before Traning: f(5) = 0.000\n"
     ]
    }
   ],
   "execution_count": 9
  },
  {
   "metadata": {},
   "cell_type": "markdown",
   "source": "Training",
   "id": "e5998e191d4ae1a2"
  },
  {
   "metadata": {
    "ExecuteTime": {
     "end_time": "2024-07-13T13:27:43.777169Z",
     "start_time": "2024-07-13T13:27:43.772130Z"
    }
   },
   "cell_type": "code",
   "source": [
    "learning_rate = 0.01\n",
    "n_iters = 20\n",
    "\n",
    "for epoch in range(n_iters):\n",
    "    # Prediction = Forward Pass\n",
    "    y_pred = forward(X)\n",
    "    \n",
    "    #Loss\n",
    "    l = loss(Y, y_pred)\n",
    "    \n",
    "    # Gradients = Backward Pass\n",
    "    dw = gradient(X, Y, y_pred)\n",
    "    \n",
    "    #Update Weights\n",
    "    w = w - (learning_rate * dw)\n",
    "    \n",
    "    if epoch % 2 == 0:\n",
    "        print(f'epoch {epoch + 1}: w= {w:.3f}, loss = {l:.8f}')"
   ],
   "id": "9c63bbc5e099beb0",
   "outputs": [
    {
     "name": "stdout",
     "output_type": "stream",
     "text": [
      "epoch 1: w= 2.000, loss = 0.00000033\n",
      "epoch 3: w= 2.000, loss = 0.00000001\n",
      "epoch 5: w= 2.000, loss = 0.00000000\n",
      "epoch 7: w= 2.000, loss = 0.00000000\n",
      "epoch 9: w= 2.000, loss = 0.00000000\n",
      "epoch 11: w= 2.000, loss = 0.00000000\n",
      "epoch 13: w= 2.000, loss = 0.00000000\n",
      "epoch 15: w= 2.000, loss = 0.00000000\n",
      "epoch 17: w= 2.000, loss = 0.00000000\n",
      "epoch 19: w= 2.000, loss = 0.00000000\n"
     ]
    }
   ],
   "execution_count": 13
  },
  {
   "metadata": {},
   "cell_type": "markdown",
   "source": "Prediction after Training",
   "id": "80025ce8da277f39"
  },
  {
   "metadata": {
    "ExecuteTime": {
     "end_time": "2024-07-13T13:27:45.768392Z",
     "start_time": "2024-07-13T13:27:45.765750Z"
    }
   },
   "cell_type": "code",
   "source": "print(f'Prediction after Traning: f(5) = {forward(5):.3f}')",
   "id": "bf122147f2db7a63",
   "outputs": [
    {
     "name": "stdout",
     "output_type": "stream",
     "text": [
      "Prediction after Traning: f(5) = 10.000\n"
     ]
    }
   ],
   "execution_count": 14
  },
  {
   "metadata": {},
   "cell_type": "markdown",
   "source": [
    "**Step 1**\n",
    "- Prediction: Manually\n",
    "- Gradient Computation: Autograd\n",
    "- Loss Computation: Manually\n",
    "- Parameters Updates: Manually"
   ],
   "id": "eec374a26b5bd0a3"
  },
  {
   "metadata": {},
   "cell_type": "markdown",
   "source": "Importing Torch",
   "id": "95e91da01c618647"
  },
  {
   "metadata": {
    "ExecuteTime": {
     "end_time": "2024-07-13T13:55:58.432550Z",
     "start_time": "2024-07-13T13:55:58.429254Z"
    }
   },
   "cell_type": "code",
   "source": "import torch",
   "id": "c155c2b342af4fa6",
   "outputs": [],
   "execution_count": 36
  },
  {
   "metadata": {},
   "cell_type": "markdown",
   "source": "Function and Value Declaration",
   "id": "bec4792f7796bf3a"
  },
  {
   "metadata": {
    "ExecuteTime": {
     "end_time": "2024-07-13T13:55:59.582410Z",
     "start_time": "2024-07-13T13:55:59.578420Z"
    }
   },
   "cell_type": "code",
   "source": [
    "# Function = w * x\n",
    "# w = 2\n",
    "\n",
    "X = torch.tensor([1,2,3,4], dtype=torch.float32)\n",
    "Y = torch.tensor([2,4,6,8], dtype=torch.float32)\n",
    "\n",
    "w = torch.tensor(0.0, dtype=torch.float32, requires_grad=True)"
   ],
   "id": "35bb723f1ed41299",
   "outputs": [],
   "execution_count": 37
  },
  {
   "metadata": {},
   "cell_type": "markdown",
   "source": "Forward function",
   "id": "108c4a7d670a0d7d"
  },
  {
   "metadata": {
    "ExecuteTime": {
     "end_time": "2024-07-13T13:56:00.884534Z",
     "start_time": "2024-07-13T13:56:00.881548Z"
    }
   },
   "cell_type": "code",
   "source": [
    "def forward(x):\n",
    "    return w * x"
   ],
   "id": "fa405c63dcb7a5bf",
   "outputs": [],
   "execution_count": 38
  },
  {
   "metadata": {},
   "cell_type": "markdown",
   "source": "Loss Function",
   "id": "d5e800d2b729e112"
  },
  {
   "metadata": {
    "ExecuteTime": {
     "end_time": "2024-07-13T13:56:02.167598Z",
     "start_time": "2024-07-13T13:56:02.163971Z"
    }
   },
   "cell_type": "code",
   "source": [
    "def loss(y, y_pred):\n",
    "    return ((y_pred - y)**2).mean()\n",
    "\n",
    "# MSE = 1/N * (w*x - y)**2\n",
    "# dJ/dw = 1/N 2x (w*x - y) "
   ],
   "id": "2a83d83915a249fe",
   "outputs": [],
   "execution_count": 39
  },
  {
   "metadata": {},
   "cell_type": "markdown",
   "source": "Prediction before Training",
   "id": "5d62616c20e2911e"
  },
  {
   "metadata": {
    "ExecuteTime": {
     "end_time": "2024-07-13T13:56:03.421323Z",
     "start_time": "2024-07-13T13:56:03.418007Z"
    }
   },
   "cell_type": "code",
   "source": "print(f'Prediction before Traning: f(5) = {forward(5):.3f}')",
   "id": "e029a3fba705b56",
   "outputs": [
    {
     "name": "stdout",
     "output_type": "stream",
     "text": [
      "Prediction before Traning: f(5) = 0.000\n"
     ]
    }
   ],
   "execution_count": 40
  },
  {
   "metadata": {},
   "cell_type": "markdown",
   "source": "Training",
   "id": "4fd5f0af828699a8"
  },
  {
   "metadata": {
    "ExecuteTime": {
     "end_time": "2024-07-13T13:57:39.106937Z",
     "start_time": "2024-07-13T13:57:39.083948Z"
    }
   },
   "cell_type": "code",
   "source": [
    "learning_rate = 0.01\n",
    "n_iters = 100\n",
    "\n",
    "for epoch in range(n_iters):\n",
    "    # Prediction = Forward Pass\n",
    "    y_pred = forward(X)\n",
    "    \n",
    "    #Loss\n",
    "    l = loss(Y, y_pred)\n",
    "    \n",
    "    # Gradients = Backward Pass\n",
    "    l.backward()\n",
    "    \n",
    "    #Update Weights\n",
    "    with torch.no_grad():\n",
    "        w-= (learning_rate * w.grad)\n",
    "        \n",
    "    # Zeroing the Gradients\n",
    "    w.grad.zero_()\n",
    "    \n",
    "    if epoch % 10 == 0:\n",
    "        print(f'epoch {epoch + 1}: w= {w:.3f}, loss = {l:.8f}')"
   ],
   "id": "a87bca674a9ae748",
   "outputs": [
    {
     "name": "stdout",
     "output_type": "stream",
     "text": [
      "epoch 1: w= 1.934, loss = 0.04506890\n",
      "epoch 11: w= 1.987, loss = 0.00174685\n",
      "epoch 21: w= 1.997, loss = 0.00006770\n",
      "epoch 31: w= 1.999, loss = 0.00000262\n",
      "epoch 41: w= 2.000, loss = 0.00000010\n",
      "epoch 51: w= 2.000, loss = 0.00000000\n",
      "epoch 61: w= 2.000, loss = 0.00000000\n",
      "epoch 71: w= 2.000, loss = 0.00000000\n",
      "epoch 81: w= 2.000, loss = 0.00000000\n",
      "epoch 91: w= 2.000, loss = 0.00000000\n"
     ]
    }
   ],
   "execution_count": 43
  },
  {
   "metadata": {},
   "cell_type": "markdown",
   "source": "Prediction after Training",
   "id": "21dbd5df03640955"
  },
  {
   "metadata": {
    "ExecuteTime": {
     "end_time": "2024-07-13T13:57:40.928733Z",
     "start_time": "2024-07-13T13:57:40.925077Z"
    }
   },
   "cell_type": "code",
   "source": "print(f'Prediction after Traning: f(5) = {forward(5):.3f}')",
   "id": "ea28bf6cac9b38e3",
   "outputs": [
    {
     "name": "stdout",
     "output_type": "stream",
     "text": [
      "Prediction after Traning: f(5) = 10.000\n"
     ]
    }
   ],
   "execution_count": 44
  },
  {
   "metadata": {},
   "cell_type": "markdown",
   "source": "The prediction is not completely correct because the backward propagation is not as exact as the numerical gradient computation (in case of 20 iterations i.e. n_iters = 20)",
   "id": "cd4afd6ef6c68283"
  }
 ],
 "metadata": {
  "kernelspec": {
   "display_name": "Python 3",
   "language": "python",
   "name": "python3"
  },
  "language_info": {
   "codemirror_mode": {
    "name": "ipython",
    "version": 2
   },
   "file_extension": ".py",
   "mimetype": "text/x-python",
   "name": "python",
   "nbconvert_exporter": "python",
   "pygments_lexer": "ipython2",
   "version": "2.7.6"
  }
 },
 "nbformat": 4,
 "nbformat_minor": 5
}
