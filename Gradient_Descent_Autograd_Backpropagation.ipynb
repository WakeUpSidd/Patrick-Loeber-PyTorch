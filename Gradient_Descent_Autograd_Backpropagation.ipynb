{
 "cells": [
  {
   "metadata": {},
   "cell_type": "markdown",
   "source": "# **Gradient Descent with Autograd and Backpropagation**",
   "id": "9c04a712bff0915b"
  },
  {
   "metadata": {},
   "cell_type": "markdown",
   "source": [
    "**Step 1**\n",
    "- Prediction: Manually\n",
    "- Gradient Computation: Manually\n",
    "- Loss Computation: Manually\n",
    "- Parameters Updates: Manually"
   ],
   "id": "cbf863e69227a2f7"
  },
  {
   "metadata": {},
   "cell_type": "markdown",
   "source": "Importing NumPy",
   "id": "ed0f1569816c4954"
  },
  {
   "metadata": {
    "ExecuteTime": {
     "end_time": "2024-07-13T12:38:31.178076Z",
     "start_time": "2024-07-13T12:38:31.174969Z"
    }
   },
   "cell_type": "code",
   "source": "import numpy as np",
   "id": "23cc451927e2bcb6",
   "outputs": [],
   "execution_count": 3
  },
  {
   "metadata": {},
   "cell_type": "markdown",
   "source": "Function and Value Declaration",
   "id": "d957b9ba109befd0"
  },
  {
   "metadata": {
    "ExecuteTime": {
     "end_time": "2024-07-13T12:38:32.884277Z",
     "start_time": "2024-07-13T12:38:32.880370Z"
    }
   },
   "cell_type": "code",
   "source": [
    "# Function = w * x\n",
    "# w = 2\n",
    "\n",
    "X = np.array([1,2,3,4], dtype=np.float32)\n",
    "Y = np.array([2,4,6,8], dtype=np.float32)\n",
    "\n",
    "w = 0.0"
   ],
   "id": "56368d403666d7c0",
   "outputs": [],
   "execution_count": 4
  },
  {
   "metadata": {},
   "cell_type": "markdown",
   "source": "Forward Function",
   "id": "2eb808c1a638d85"
  },
  {
   "metadata": {
    "ExecuteTime": {
     "end_time": "2024-07-13T12:38:35.316023Z",
     "start_time": "2024-07-13T12:38:35.312452Z"
    }
   },
   "cell_type": "code",
   "source": [
    "def forward(x):\n",
    "    return w * x"
   ],
   "id": "53699fef7c164004",
   "outputs": [],
   "execution_count": 5
  },
  {
   "metadata": {},
   "cell_type": "markdown",
   "source": "Loss Function",
   "id": "762e297633074eba"
  },
  {
   "metadata": {
    "ExecuteTime": {
     "end_time": "2024-07-13T12:38:42.221289Z",
     "start_time": "2024-07-13T12:38:42.218199Z"
    }
   },
   "cell_type": "code",
   "source": [
    "def loss(y, y_pred):\n",
    "    return ((y_pred - y)**2).mean()\n",
    "\n",
    "# MSE = 1/N * (w*x - y)**2\n",
    "# dJ/dw = 1/N 2x (w*x - y) "
   ],
   "id": "bb714575d08b258c",
   "outputs": [],
   "execution_count": 7
  },
  {
   "metadata": {},
   "cell_type": "markdown",
   "source": "Gradient Descent",
   "id": "1b93e914c8a9a507"
  },
  {
   "metadata": {
    "ExecuteTime": {
     "end_time": "2024-07-13T12:38:43.763120Z",
     "start_time": "2024-07-13T12:38:43.760499Z"
    }
   },
   "cell_type": "code",
   "source": [
    "def gradient(x, y, y_pred):\n",
    "    return np.dot(2*x, y_pred - y).mean()"
   ],
   "id": "809ebc5998931d46",
   "outputs": [],
   "execution_count": 8
  },
  {
   "metadata": {},
   "cell_type": "markdown",
   "source": "Prediction before Training",
   "id": "3bb1bece03c89cce"
  },
  {
   "metadata": {
    "ExecuteTime": {
     "end_time": "2024-07-13T12:38:45.598992Z",
     "start_time": "2024-07-13T12:38:45.594727Z"
    }
   },
   "cell_type": "code",
   "source": "print(f'Prediction before Traning: f(5) = {forward(5):.3f}')",
   "id": "80998fff66a352c4",
   "outputs": [
    {
     "name": "stdout",
     "output_type": "stream",
     "text": [
      "Prediction before Traning: f(5) = 0.000\n"
     ]
    }
   ],
   "execution_count": 9
  },
  {
   "metadata": {},
   "cell_type": "markdown",
   "source": "Training",
   "id": "e5998e191d4ae1a2"
  },
  {
   "metadata": {
    "ExecuteTime": {
     "end_time": "2024-07-13T13:27:43.777169Z",
     "start_time": "2024-07-13T13:27:43.772130Z"
    }
   },
   "cell_type": "code",
   "source": [
    "learning_rate = 0.01\n",
    "n_iters = 20\n",
    "\n",
    "for epoch in range(n_iters):\n",
    "    # Prediction = Forward Pass\n",
    "    y_pred = forward(X)\n",
    "    \n",
    "    #Loss\n",
    "    l = loss(Y, y_pred)\n",
    "    \n",
    "    # Gradients = Backward Pass\n",
    "    dw = gradient(X, Y, y_pred)\n",
    "    \n",
    "    #Update Weights\n",
    "    w = w - (learning_rate * dw)\n",
    "    \n",
    "    if epoch % 2 == 0:\n",
    "        print(f'epoch {epoch + 1}: w= {w:.3f}, loss = {l:.8f}')"
   ],
   "id": "9c63bbc5e099beb0",
   "outputs": [
    {
     "name": "stdout",
     "output_type": "stream",
     "text": [
      "epoch 1: w= 2.000, loss = 0.00000033\n",
      "epoch 3: w= 2.000, loss = 0.00000001\n",
      "epoch 5: w= 2.000, loss = 0.00000000\n",
      "epoch 7: w= 2.000, loss = 0.00000000\n",
      "epoch 9: w= 2.000, loss = 0.00000000\n",
      "epoch 11: w= 2.000, loss = 0.00000000\n",
      "epoch 13: w= 2.000, loss = 0.00000000\n",
      "epoch 15: w= 2.000, loss = 0.00000000\n",
      "epoch 17: w= 2.000, loss = 0.00000000\n",
      "epoch 19: w= 2.000, loss = 0.00000000\n"
     ]
    }
   ],
   "execution_count": 13
  },
  {
   "metadata": {},
   "cell_type": "markdown",
   "source": "Prediction after Training",
   "id": "80025ce8da277f39"
  },
  {
   "metadata": {
    "ExecuteTime": {
     "end_time": "2024-07-13T13:27:45.768392Z",
     "start_time": "2024-07-13T13:27:45.765750Z"
    }
   },
   "cell_type": "code",
   "source": "print(f'Prediction after Traning: f(5) = {forward(5):.3f}')",
   "id": "bf122147f2db7a63",
   "outputs": [
    {
     "name": "stdout",
     "output_type": "stream",
     "text": [
      "Prediction after Traning: f(5) = 10.000\n"
     ]
    }
   ],
   "execution_count": 14
  },
  {
   "metadata": {},
   "cell_type": "markdown",
   "source": [
    "**Step 2**\n",
    "- Prediction: Manually\n",
    "- Gradient Computation: Autograd\n",
    "- Loss Computation: Manually\n",
    "- Parameters Updates: Manually"
   ],
   "id": "eec374a26b5bd0a3"
  },
  {
   "metadata": {},
   "cell_type": "markdown",
   "source": "Importing Torch",
   "id": "95e91da01c618647"
  },
  {
   "metadata": {
    "ExecuteTime": {
     "end_time": "2024-07-13T13:55:58.432550Z",
     "start_time": "2024-07-13T13:55:58.429254Z"
    }
   },
   "cell_type": "code",
   "source": "import torch",
   "id": "c155c2b342af4fa6",
   "outputs": [],
   "execution_count": 36
  },
  {
   "metadata": {},
   "cell_type": "markdown",
   "source": "Function and Value Declaration",
   "id": "bec4792f7796bf3a"
  },
  {
   "metadata": {
    "ExecuteTime": {
     "end_time": "2024-07-13T13:55:59.582410Z",
     "start_time": "2024-07-13T13:55:59.578420Z"
    }
   },
   "cell_type": "code",
   "source": [
    "# Function = w * x\n",
    "# w = 2\n",
    "\n",
    "X = torch.tensor([1,2,3,4], dtype=torch.float32)\n",
    "Y = torch.tensor([2,4,6,8], dtype=torch.float32)\n",
    "\n",
    "w = torch.tensor(0.0, dtype=torch.float32, requires_grad=True)"
   ],
   "id": "35bb723f1ed41299",
   "outputs": [],
   "execution_count": 37
  },
  {
   "metadata": {},
   "cell_type": "markdown",
   "source": "Forward function",
   "id": "108c4a7d670a0d7d"
  },
  {
   "metadata": {
    "ExecuteTime": {
     "end_time": "2024-07-13T13:56:00.884534Z",
     "start_time": "2024-07-13T13:56:00.881548Z"
    }
   },
   "cell_type": "code",
   "source": [
    "def forward(x):\n",
    "    return w * x"
   ],
   "id": "fa405c63dcb7a5bf",
   "outputs": [],
   "execution_count": 38
  },
  {
   "metadata": {},
   "cell_type": "markdown",
   "source": "Loss Function",
   "id": "d5e800d2b729e112"
  },
  {
   "metadata": {
    "ExecuteTime": {
     "end_time": "2024-07-13T13:56:02.167598Z",
     "start_time": "2024-07-13T13:56:02.163971Z"
    }
   },
   "cell_type": "code",
   "source": [
    "def loss(y, y_pred):\n",
    "    return ((y_pred - y)**2).mean()\n",
    "\n",
    "# MSE = 1/N * (w*x - y)**2\n",
    "# dJ/dw = 1/N 2x (w*x - y) "
   ],
   "id": "2a83d83915a249fe",
   "outputs": [],
   "execution_count": 39
  },
  {
   "metadata": {},
   "cell_type": "markdown",
   "source": "Prediction before Training",
   "id": "5d62616c20e2911e"
  },
  {
   "metadata": {
    "ExecuteTime": {
     "end_time": "2024-07-13T13:56:03.421323Z",
     "start_time": "2024-07-13T13:56:03.418007Z"
    }
   },
   "cell_type": "code",
   "source": "print(f'Prediction before Traning: f(5) = {forward(5):.3f}')",
   "id": "e029a3fba705b56",
   "outputs": [
    {
     "name": "stdout",
     "output_type": "stream",
     "text": [
      "Prediction before Traning: f(5) = 0.000\n"
     ]
    }
   ],
   "execution_count": 40
  },
  {
   "metadata": {},
   "cell_type": "markdown",
   "source": "Training",
   "id": "4fd5f0af828699a8"
  },
  {
   "metadata": {
    "ExecuteTime": {
     "end_time": "2024-07-13T13:57:39.106937Z",
     "start_time": "2024-07-13T13:57:39.083948Z"
    }
   },
   "cell_type": "code",
   "source": [
    "learning_rate = 0.01\n",
    "n_iters = 100\n",
    "\n",
    "for epoch in range(n_iters):\n",
    "    # Prediction = Forward Pass\n",
    "    y_pred = forward(X)\n",
    "    \n",
    "    #Loss\n",
    "    l = loss(Y, y_pred)\n",
    "    \n",
    "    # Gradients = Backward Pass\n",
    "    l.backward()\n",
    "    \n",
    "    #Update Weights\n",
    "    with torch.no_grad():\n",
    "        w-= (learning_rate * w.grad)\n",
    "        \n",
    "    # Zeroing the Gradients\n",
    "    w.grad.zero_()\n",
    "    \n",
    "    if epoch % 10 == 0:\n",
    "        print(f'epoch {epoch + 1}: w= {w:.3f}, loss = {l:.8f}')"
   ],
   "id": "a87bca674a9ae748",
   "outputs": [
    {
     "name": "stdout",
     "output_type": "stream",
     "text": [
      "epoch 1: w= 1.934, loss = 0.04506890\n",
      "epoch 11: w= 1.987, loss = 0.00174685\n",
      "epoch 21: w= 1.997, loss = 0.00006770\n",
      "epoch 31: w= 1.999, loss = 0.00000262\n",
      "epoch 41: w= 2.000, loss = 0.00000010\n",
      "epoch 51: w= 2.000, loss = 0.00000000\n",
      "epoch 61: w= 2.000, loss = 0.00000000\n",
      "epoch 71: w= 2.000, loss = 0.00000000\n",
      "epoch 81: w= 2.000, loss = 0.00000000\n",
      "epoch 91: w= 2.000, loss = 0.00000000\n"
     ]
    }
   ],
   "execution_count": 43
  },
  {
   "metadata": {},
   "cell_type": "markdown",
   "source": "Prediction after Training",
   "id": "21dbd5df03640955"
  },
  {
   "metadata": {
    "ExecuteTime": {
     "end_time": "2024-07-13T13:57:40.928733Z",
     "start_time": "2024-07-13T13:57:40.925077Z"
    }
   },
   "cell_type": "code",
   "source": "print(f'Prediction after Traning: f(5) = {forward(5):.3f}')",
   "id": "ea28bf6cac9b38e3",
   "outputs": [
    {
     "name": "stdout",
     "output_type": "stream",
     "text": [
      "Prediction after Traning: f(5) = 10.000\n"
     ]
    }
   ],
   "execution_count": 44
  },
  {
   "metadata": {},
   "cell_type": "markdown",
   "source": "The prediction is not completely correct because the backward propagation is not as exact as the numerical gradient computation (in case of 20 iterations i.e. n_iters = 20)",
   "id": "cd4afd6ef6c68283"
  },
  {
   "metadata": {},
   "cell_type": "markdown",
   "source": [
    "**Step 3**\n",
    "- Prediction: Manually\n",
    "- Gradient Computation: Autograd\n",
    "- Loss Computation: PyTorch Loss\n",
    "- Parameters Updates: PyTorch Optimizer"
   ],
   "id": "d44ae27dd52a3b6c"
  },
  {
   "metadata": {},
   "cell_type": "markdown",
   "source": "Importing Torch and Neural Network Module",
   "id": "a66bfbb4ff2d3bb8"
  },
  {
   "metadata": {
    "ExecuteTime": {
     "end_time": "2024-07-13T17:51:01.462100Z",
     "start_time": "2024-07-13T17:51:01.458554Z"
    }
   },
   "cell_type": "code",
   "source": [
    "import torch\n",
    "import torch.nn as nn"
   ],
   "id": "cbf262aee9db4f01",
   "outputs": [],
   "execution_count": 51
  },
  {
   "metadata": {},
   "cell_type": "markdown",
   "source": "Function and Value Declaration",
   "id": "a92b9e5e225201ba"
  },
  {
   "metadata": {
    "ExecuteTime": {
     "end_time": "2024-07-13T17:51:03.248559Z",
     "start_time": "2024-07-13T17:51:03.245342Z"
    }
   },
   "cell_type": "code",
   "source": [
    "# Function = w * x\n",
    "# w = 2\n",
    "\n",
    "X = torch.tensor([1,2,3,4], dtype=torch.float32)\n",
    "Y = torch.tensor([2,4,6,8], dtype=torch.float32)\n",
    "\n",
    "w = torch.tensor(0.0, dtype=torch.float32, requires_grad=True)"
   ],
   "id": "ce51df55f1f2ec64",
   "outputs": [],
   "execution_count": 52
  },
  {
   "metadata": {},
   "cell_type": "markdown",
   "source": "Forward function",
   "id": "31ffd5b66627f432"
  },
  {
   "metadata": {
    "ExecuteTime": {
     "end_time": "2024-07-13T17:51:04.197647Z",
     "start_time": "2024-07-13T17:51:04.195041Z"
    }
   },
   "cell_type": "code",
   "source": [
    "def forward(x):\n",
    "    return w * x"
   ],
   "id": "b81539ad794d5790",
   "outputs": [],
   "execution_count": 53
  },
  {
   "metadata": {},
   "cell_type": "markdown",
   "source": "Prediction before Training",
   "id": "83a6f0cc37fdbde1"
  },
  {
   "metadata": {
    "ExecuteTime": {
     "end_time": "2024-07-13T17:51:05.400111Z",
     "start_time": "2024-07-13T17:51:05.396613Z"
    }
   },
   "cell_type": "code",
   "source": "print(f'Prediction before Traning: f(5) = {forward(5):.3f}')",
   "id": "8a293b3b2df8f56b",
   "outputs": [
    {
     "name": "stdout",
     "output_type": "stream",
     "text": [
      "Prediction before Traning: f(5) = 0.000\n"
     ]
    }
   ],
   "execution_count": 54
  },
  {
   "metadata": {},
   "cell_type": "markdown",
   "source": "Training",
   "id": "d06a89b046ab4fc5"
  },
  {
   "metadata": {
    "ExecuteTime": {
     "end_time": "2024-07-13T17:51:08.049588Z",
     "start_time": "2024-07-13T17:51:06.572673Z"
    }
   },
   "cell_type": "code",
   "source": [
    "learning_rate = 0.01\n",
    "n_iters = 100\n",
    "\n",
    "loss = nn.MSELoss()\n",
    "optimizer = torch.optim.SGD([w], lr=learning_rate)\n",
    "\n",
    "for epoch in range(n_iters):\n",
    "    # Predictiopn = Forward Pass\n",
    "    y_pred = forward(X)\n",
    "    \n",
    "    # Loss\n",
    "    l = loss(Y, y_pred)\n",
    "    \n",
    "    # Gradients = Backward Pass\n",
    "    l.backward()\n",
    "    \n",
    "    # Update Weights\n",
    "    optimizer.step()\n",
    "    \n",
    "    # Zero Gradients\n",
    "    optimizer.zero_grad()\n",
    "    \n",
    "    if epoch % 10 == 0:\n",
    "        print(f'Epoch = {epoch + 1}: w= {w:.3f}, loss = {l:.8f}')"
   ],
   "id": "64d417d8ff888fcd",
   "outputs": [
    {
     "name": "stdout",
     "output_type": "stream",
     "text": [
      "Epoch = 1: w= 0.300, loss = 30.00000000\n",
      "Epoch = 11: w= 1.665, loss = 1.16278565\n",
      "Epoch = 21: w= 1.934, loss = 0.04506890\n",
      "Epoch = 31: w= 1.987, loss = 0.00174685\n",
      "Epoch = 41: w= 1.997, loss = 0.00006770\n",
      "Epoch = 51: w= 1.999, loss = 0.00000262\n",
      "Epoch = 61: w= 2.000, loss = 0.00000010\n",
      "Epoch = 71: w= 2.000, loss = 0.00000000\n",
      "Epoch = 81: w= 2.000, loss = 0.00000000\n",
      "Epoch = 91: w= 2.000, loss = 0.00000000\n"
     ]
    }
   ],
   "execution_count": 55
  },
  {
   "metadata": {},
   "cell_type": "markdown",
   "source": "Prediction after Training",
   "id": "e5b60eb0041ecf69"
  },
  {
   "metadata": {
    "ExecuteTime": {
     "end_time": "2024-07-13T17:51:38.779797Z",
     "start_time": "2024-07-13T17:51:38.776040Z"
    }
   },
   "cell_type": "code",
   "source": "print(f'Prediction after Traning: f(5) = {forward(5):.3f}')",
   "id": "4f6e4f4d3cabd9ca",
   "outputs": [
    {
     "name": "stdout",
     "output_type": "stream",
     "text": [
      "Prediction after Traning: f(5) = 10.000\n"
     ]
    }
   ],
   "execution_count": 56
  },
  {
   "metadata": {},
   "cell_type": "markdown",
   "source": [
    "**Step 4**\n",
    "- Prediction: PyTorch Model\n",
    "- Gradient Computation: Autograd\n",
    "- Loss Computation: PyTorch Loss\n",
    "- Parameters Updates: PyTorch Optimizer"
   ],
   "id": "20374d3e4b0142d7"
  },
  {
   "metadata": {},
   "cell_type": "markdown",
   "source": "Importing Torch and Neural Network Module",
   "id": "b783f41fd86fab7c"
  },
  {
   "metadata": {
    "ExecuteTime": {
     "end_time": "2024-07-13T18:19:11.010781Z",
     "start_time": "2024-07-13T18:19:11.008411Z"
    }
   },
   "cell_type": "code",
   "source": [
    "import torch\n",
    "import torch.nn as nn"
   ],
   "id": "2cca8fa9e84a0fa4",
   "outputs": [],
   "execution_count": 131
  },
  {
   "metadata": {},
   "cell_type": "markdown",
   "source": "Function and Variable Declaration (Changing the shape of X and Y tensors for the model)",
   "id": "d35649c6ae2d51cd"
  },
  {
   "metadata": {
    "ExecuteTime": {
     "end_time": "2024-07-13T18:19:12.035714Z",
     "start_time": "2024-07-13T18:19:12.031753Z"
    }
   },
   "cell_type": "code",
   "source": [
    "# Function = w * x\n",
    "# w = 2\n",
    "\n",
    "X = torch.tensor([[1],[2],[3],[4]], dtype=torch.float32)\n",
    "Y = torch.tensor([[2],[4],[6],[8]], dtype=torch.float32)\n",
    "\n",
    "X_test = torch.tensor([5], dtype=torch.float32)\n",
    "\n",
    "n_samples, n_features = X.shape\n",
    "print(n_samples, n_features)"
   ],
   "id": "16f7018ada0fcc77",
   "outputs": [
    {
     "name": "stdout",
     "output_type": "stream",
     "text": [
      "4 1\n"
     ]
    }
   ],
   "execution_count": 132
  },
  {
   "metadata": {},
   "cell_type": "markdown",
   "source": "Adding the model",
   "id": "679220a2da5ee8d"
  },
  {
   "metadata": {
    "ExecuteTime": {
     "end_time": "2024-07-13T18:19:13.376796Z",
     "start_time": "2024-07-13T18:19:13.374296Z"
    }
   },
   "cell_type": "code",
   "source": [
    "input_size = n_features\n",
    "output_size = n_features\n",
    "#model = nn.Linear(input_size, output_size)"
   ],
   "id": "d0695ae9f1ead2ce",
   "outputs": [],
   "execution_count": 133
  },
  {
   "metadata": {},
   "cell_type": "markdown",
   "source": "Adding a Linear Regression Model",
   "id": "54a06c8541cc3e53"
  },
  {
   "metadata": {
    "ExecuteTime": {
     "end_time": "2024-07-13T18:19:14.757860Z",
     "start_time": "2024-07-13T18:19:14.754527Z"
    }
   },
   "cell_type": "code",
   "source": [
    "class LinearRegression(nn.Module):\n",
    "    def __init__(self, input_dim, output_dim):\n",
    "        super(LinearRegression, self).__init__()\n",
    "        self.lin = nn.Linear(input_dim, output_dim)\n",
    "    def forward(self, x):\n",
    "        return self.lin(x)\n",
    "    \n",
    "model = LinearRegression(input_size, output_size)"
   ],
   "id": "b0593b22749234a5",
   "outputs": [],
   "execution_count": 134
  },
  {
   "metadata": {},
   "cell_type": "markdown",
   "source": "Prediction before Training",
   "id": "d0220fed1e88c869"
  },
  {
   "metadata": {
    "ExecuteTime": {
     "end_time": "2024-07-13T18:19:16.615457Z",
     "start_time": "2024-07-13T18:19:16.612298Z"
    }
   },
   "cell_type": "code",
   "source": "print(f'Prediction before Testing: f(5) = {model(X_test).item():.3f}')",
   "id": "8fc12a01e6128774",
   "outputs": [
    {
     "name": "stdout",
     "output_type": "stream",
     "text": [
      "Prediction before Testing: f(5) = 3.078\n"
     ]
    }
   ],
   "execution_count": 135
  },
  {
   "metadata": {},
   "cell_type": "markdown",
   "source": "Training",
   "id": "98bffe12a92c3697"
  },
  {
   "metadata": {
    "ExecuteTime": {
     "end_time": "2024-07-13T18:19:19.236737Z",
     "start_time": "2024-07-13T18:19:17.651745Z"
    }
   },
   "cell_type": "code",
   "source": [
    "learning_rate = 0.05\n",
    "n_iters = 5000\n",
    "\n",
    "loss = nn.MSELoss()\n",
    "optimizer = torch.optim.SGD(model.parameters(), lr=learning_rate)\n",
    "\n",
    "for epoch in range(n_iters):\n",
    "    \n",
    "    y_pred = model(X)\n",
    "    \n",
    "    l = loss(Y, y_pred)\n",
    "    \n",
    "    l.backward()\n",
    "    \n",
    "    optimizer.step()\n",
    "    \n",
    "    optimizer.zero_grad()\n",
    "    \n",
    "    if epoch % 100 == 0:\n",
    "        [w, b] = model.parameters()\n",
    "        print(f'Epoch {epoch + 1}: w= {w[0][0].item():.3f}, loss = {l:.8f}')"
   ],
   "id": "d58fd90ed3b10b2b",
   "outputs": [
    {
     "name": "stdout",
     "output_type": "stream",
     "text": [
      "Epoch 1: w= 1.449, loss = 12.62087822\n",
      "Epoch 101: w= 1.920, loss = 0.00946851\n",
      "Epoch 201: w= 1.982, loss = 0.00046368\n",
      "Epoch 301: w= 1.996, loss = 0.00002271\n",
      "Epoch 401: w= 1.999, loss = 0.00000111\n",
      "Epoch 501: w= 2.000, loss = 0.00000005\n",
      "Epoch 601: w= 2.000, loss = 0.00000000\n",
      "Epoch 701: w= 2.000, loss = 0.00000000\n",
      "Epoch 801: w= 2.000, loss = 0.00000000\n",
      "Epoch 901: w= 2.000, loss = 0.00000000\n",
      "Epoch 1001: w= 2.000, loss = 0.00000000\n",
      "Epoch 1101: w= 2.000, loss = 0.00000000\n",
      "Epoch 1201: w= 2.000, loss = 0.00000000\n",
      "Epoch 1301: w= 2.000, loss = 0.00000000\n",
      "Epoch 1401: w= 2.000, loss = 0.00000000\n",
      "Epoch 1501: w= 2.000, loss = 0.00000000\n",
      "Epoch 1601: w= 2.000, loss = 0.00000000\n",
      "Epoch 1701: w= 2.000, loss = 0.00000000\n",
      "Epoch 1801: w= 2.000, loss = 0.00000000\n",
      "Epoch 1901: w= 2.000, loss = 0.00000000\n",
      "Epoch 2001: w= 2.000, loss = 0.00000000\n",
      "Epoch 2101: w= 2.000, loss = 0.00000000\n",
      "Epoch 2201: w= 2.000, loss = 0.00000000\n",
      "Epoch 2301: w= 2.000, loss = 0.00000000\n",
      "Epoch 2401: w= 2.000, loss = 0.00000000\n",
      "Epoch 2501: w= 2.000, loss = 0.00000000\n",
      "Epoch 2601: w= 2.000, loss = 0.00000000\n",
      "Epoch 2701: w= 2.000, loss = 0.00000000\n",
      "Epoch 2801: w= 2.000, loss = 0.00000000\n",
      "Epoch 2901: w= 2.000, loss = 0.00000000\n",
      "Epoch 3001: w= 2.000, loss = 0.00000000\n",
      "Epoch 3101: w= 2.000, loss = 0.00000000\n",
      "Epoch 3201: w= 2.000, loss = 0.00000000\n",
      "Epoch 3301: w= 2.000, loss = 0.00000000\n",
      "Epoch 3401: w= 2.000, loss = 0.00000000\n",
      "Epoch 3501: w= 2.000, loss = 0.00000000\n",
      "Epoch 3601: w= 2.000, loss = 0.00000000\n",
      "Epoch 3701: w= 2.000, loss = 0.00000000\n",
      "Epoch 3801: w= 2.000, loss = 0.00000000\n",
      "Epoch 3901: w= 2.000, loss = 0.00000000\n",
      "Epoch 4001: w= 2.000, loss = 0.00000000\n",
      "Epoch 4101: w= 2.000, loss = 0.00000000\n",
      "Epoch 4201: w= 2.000, loss = 0.00000000\n",
      "Epoch 4301: w= 2.000, loss = 0.00000000\n",
      "Epoch 4401: w= 2.000, loss = 0.00000000\n",
      "Epoch 4501: w= 2.000, loss = 0.00000000\n",
      "Epoch 4601: w= 2.000, loss = 0.00000000\n",
      "Epoch 4701: w= 2.000, loss = 0.00000000\n",
      "Epoch 4801: w= 2.000, loss = 0.00000000\n",
      "Epoch 4901: w= 2.000, loss = 0.00000000\n"
     ]
    }
   ],
   "execution_count": 136
  },
  {
   "metadata": {},
   "cell_type": "markdown",
   "source": "Prediction after Training",
   "id": "ea84bc182c46e3d3"
  },
  {
   "metadata": {
    "ExecuteTime": {
     "end_time": "2024-07-13T18:19:22.881504Z",
     "start_time": "2024-07-13T18:19:22.878049Z"
    }
   },
   "cell_type": "code",
   "source": "print(f'Prediction after Training: f(5) = {model(X_test).item():.3f}')",
   "id": "88d9e7d86966ce39",
   "outputs": [
    {
     "name": "stdout",
     "output_type": "stream",
     "text": [
      "Prediction after Testing: f(5) = 10.000\n"
     ]
    }
   ],
   "execution_count": 137
  }
 ],
 "metadata": {
  "kernelspec": {
   "display_name": "Python 3",
   "language": "python",
   "name": "python3"
  },
  "language_info": {
   "codemirror_mode": {
    "name": "ipython",
    "version": 2
   },
   "file_extension": ".py",
   "mimetype": "text/x-python",
   "name": "python",
   "nbconvert_exporter": "python",
   "pygments_lexer": "ipython2",
   "version": "2.7.6"
  }
 },
 "nbformat": 4,
 "nbformat_minor": 5
}
