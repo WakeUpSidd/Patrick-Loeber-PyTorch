{
 "cells": [
  {
   "cell_type": "code",
   "id": "initial_id",
   "metadata": {
    "collapsed": true,
    "ExecuteTime": {
     "end_time": "2024-08-05T20:34:26.127214Z",
     "start_time": "2024-08-05T20:34:26.124478Z"
    }
   },
   "source": [
    "import torch\n",
    "import torchvision\n",
    "import torch.nn as nn\n",
    "import torchvision.transforms as transforms\n",
    "import matplotlib.pyplot as plt"
   ],
   "outputs": [],
   "execution_count": 144
  },
  {
   "metadata": {},
   "cell_type": "markdown",
   "source": "Device configuration",
   "id": "24735208a3e15a80"
  },
  {
   "metadata": {
    "ExecuteTime": {
     "end_time": "2024-08-05T20:34:27.029969Z",
     "start_time": "2024-08-05T20:34:27.025937Z"
    }
   },
   "cell_type": "code",
   "source": [
    "device = torch.device(\"cuda\" if torch.cuda.is_available() else \"cpu\")\n",
    "if torch.cuda.is_available():\n",
    "    print('CUDA is available')"
   ],
   "id": "10efd19c6a280109",
   "outputs": [
    {
     "name": "stdout",
     "output_type": "stream",
     "text": [
      "CUDA is available\n"
     ]
    }
   ],
   "execution_count": 145
  },
  {
   "metadata": {},
   "cell_type": "markdown",
   "source": "Hyper Parameters",
   "id": "2eb5f6c94bf3fd57"
  },
  {
   "metadata": {
    "ExecuteTime": {
     "end_time": "2024-08-05T20:34:28.071422Z",
     "start_time": "2024-08-05T20:34:28.067917Z"
    }
   },
   "cell_type": "code",
   "source": [
    "input_size = 784 # 28x28 image size\n",
    "hidden_size1 = 256\n",
    "hidden_size2 = 128\n",
    "hidden_size3 = 64\n",
    "hidden_size4 = 64\n",
    "num_classes = 10\n",
    "num_epochs = 2\n",
    "batch_size = 100\n",
    "learning_rate = 0.001"
   ],
   "id": "ea01c2514148c2af",
   "outputs": [],
   "execution_count": 146
  },
  {
   "metadata": {},
   "cell_type": "markdown",
   "source": "Importing the MNIST Dataset",
   "id": "940fba3503863ddd"
  },
  {
   "metadata": {
    "ExecuteTime": {
     "end_time": "2024-08-05T20:34:29.406607Z",
     "start_time": "2024-08-05T20:34:29.326659Z"
    }
   },
   "cell_type": "code",
   "source": [
    "train_dataset = torchvision.datasets.MNIST(root='./data', train=True, transform=transforms.ToTensor(), download=True)\n",
    "test_dataset = torchvision.datasets.MNIST(root='./data', train=False, transform=transforms.ToTensor())\n",
    "train_loader = torch.utils.data.DataLoader(dataset=train_dataset, batch_size=batch_size, shuffle=True) # Shuffle = True is good for training\n",
    "test_loader = torch.utils.data.DataLoader(dataset=test_dataset, batch_size=batch_size, shuffle=False)\n",
    "examples = iter(train_loader)\n",
    "samples, labels = next(examples)\n",
    "print(samples.shape, labels.shape)"
   ],
   "id": "b2c6ca8b6233c35",
   "outputs": [
    {
     "name": "stdout",
     "output_type": "stream",
     "text": [
      "torch.Size([100, 1, 28, 28]) torch.Size([100])\n"
     ]
    }
   ],
   "execution_count": 147
  },
  {
   "metadata": {},
   "cell_type": "markdown",
   "source": "Plot the Images",
   "id": "6243450b606dac36"
  },
  {
   "metadata": {
    "ExecuteTime": {
     "end_time": "2024-08-05T20:34:30.700034Z",
     "start_time": "2024-08-05T20:34:30.412186Z"
    }
   },
   "cell_type": "code",
   "source": [
    "for i in range(6):\n",
    "    plt.subplot(2, 3, i+1)\n",
    "    plt.imshow(samples[i][0], cmap='gray')\n",
    "plt.show"
   ],
   "id": "ef286ba3b8c97c63",
   "outputs": [
    {
     "data": {
      "text/plain": [
       "<function matplotlib.pyplot.show(close=None, block=None)>"
      ]
     },
     "execution_count": 148,
     "metadata": {},
     "output_type": "execute_result"
    },
    {
     "data": {
      "text/plain": [
       "<Figure size 640x480 with 6 Axes>"
      ],
      "image/png": "[encoded data removed]"
     },
     "metadata": {},
     "output_type": "display_data"
    }
   ],
   "execution_count": 148
  },
  {
   "metadata": {},
   "cell_type": "markdown",
   "source": "Creating the Neural Network",
   "id": "fe220c9a3e2591cd"
  },
  {
   "metadata": {
    "ExecuteTime": {
     "end_time": "2024-08-05T20:34:32.587371Z",
     "start_time": "2024-08-05T20:34:32.582704Z"
    }
   },
   "cell_type": "code",
   "source": [
    "class NeuralNet(nn.Module):\n",
    "    def __init__(self, input_size, hidden_size1, hidden_size2, hidden_size3, hidden_size4, num_classes):\n",
    "        super(NeuralNet, self).__init__()\n",
    "        self.l1 = nn.Linear(input_size, hidden_size1)\n",
    "        self.relu1 = nn.LeakyReLU()\n",
    "        self.l2 = nn.Linear(hidden_size1, hidden_size2)\n",
    "        self.relu2 = nn.LeakyReLU()\n",
    "        self.l3 = nn.Linear(hidden_size2, hidden_size3)\n",
    "        self.relu3 = nn.LeakyReLU()\n",
    "        self.l4 = nn.Linear(hidden_size3, num_classes)\n",
    "    def forward(self, x):\n",
    "        out = self.l1(x)\n",
    "        out = self.relu1(out)\n",
    "        out = self.relu2(out)\n",
    "        out = self.relu3(out)\n",
    "        out = self.l2(out)\n",
    "        return out"
   ],
   "id": "121fafd2b9310cc9",
   "outputs": [],
   "execution_count": 149
  },
  {
   "metadata": {
    "ExecuteTime": {
     "end_time": "2024-08-05T20:34:34.114517Z",
     "start_time": "2024-08-05T20:34:34.107435Z"
    }
   },
   "cell_type": "code",
   "source": "model = NeuralNet(input_size, hidden_size1, hidden_size2, hidden_size3, hidden_size4, num_classes).to(device)",
   "id": "b5d3feeefcedc3f8",
   "outputs": [],
   "execution_count": 150
  },
  {
   "metadata": {},
   "cell_type": "markdown",
   "source": "Loss and Optimizer",
   "id": "70239cdef47a5cca"
  },
  {
   "metadata": {
    "ExecuteTime": {
     "end_time": "2024-08-05T20:34:35.239024Z",
     "start_time": "2024-08-05T20:34:35.235242Z"
    }
   },
   "cell_type": "code",
   "source": [
    "criterion = nn.CrossEntropyLoss()\n",
    "optimizer=torch.optim.Adam(model.parameters(), lr=learning_rate)"
   ],
   "id": "23aa31e7bfc6a87d",
   "outputs": [],
   "execution_count": 151
  },
  {
   "metadata": {},
   "cell_type": "markdown",
   "source": "Training Loop",
   "id": "a3df7963a20c83db"
  },
  {
   "metadata": {
    "ExecuteTime": {
     "end_time": "2024-08-05T20:34:47.850785Z",
     "start_time": "2024-08-05T20:34:36.125832Z"
    }
   },
   "cell_type": "code",
   "source": [
    "n_total_steps = len(train_loader)\n",
    "\n",
    "for epoch in range(num_epochs):\n",
    "    for i, (images, lables) in enumerate(train_loader): # i = index , (images, labels) = data\n",
    "        # 100, 1, 28, 28\n",
    "        # 100, 784\n",
    "        images = images.reshape(-1, 28*28).to(device)\n",
    "        labels = labels.to(device)\n",
    "        \n",
    "        # Forward\n",
    "        outputs = model(images)\n",
    "        loss = criterion(outputs, labels)\n",
    "        \n",
    "        # Backwards\n",
    "        optimizer.zero_grad()\n",
    "        loss.backward()\n",
    "        optimizer.step()\n",
    "        if (i+1) % 100 == 0:\n",
    "            print(f'Epoch {epoch+1}/{num_epochs}, Step {i+1}/{n_total_steps}, Loss = {loss.item():.4f}')"
   ],
   "id": "133edd1456d11baf",
   "outputs": [
    {
     "name": "stdout",
     "output_type": "stream",
     "text": [
      "Epoch 1/2, Step 100/600, Loss = 2.2811\n",
      "Epoch 1/2, Step 200/600, Loss = 2.2855\n",
      "Epoch 1/2, Step 300/600, Loss = 2.3019\n",
      "Epoch 1/2, Step 400/600, Loss = 2.3026\n",
      "Epoch 1/2, Step 500/600, Loss = 2.2889\n",
      "Epoch 1/2, Step 600/600, Loss = 2.2930\n",
      "Epoch 2/2, Step 100/600, Loss = 2.2855\n",
      "Epoch 2/2, Step 200/600, Loss = 2.2725\n",
      "Epoch 2/2, Step 300/600, Loss = 2.2728\n",
      "Epoch 2/2, Step 400/600, Loss = 2.2880\n",
      "Epoch 2/2, Step 500/600, Loss = 2.2710\n",
      "Epoch 2/2, Step 600/600, Loss = 2.2944\n"
     ]
    }
   ],
   "execution_count": 152
  },
  {
   "metadata": {},
   "cell_type": "markdown",
   "source": "Testing and Evaluation",
   "id": "f604b824fc685641"
  },
  {
   "metadata": {
    "ExecuteTime": {
     "end_time": "2024-08-05T20:34:52.911921Z",
     "start_time": "2024-08-05T20:34:51.889479Z"
    }
   },
   "cell_type": "code",
   "source": [
    "with torch.no_grad():\n",
    "    n_correct = 0\n",
    "    n_samples = 0\n",
    "    for images, labels in test_loader:\n",
    "        images = images.reshape(-1, 28*28).to(device)\n",
    "        labels = labels.to(device)\n",
    "        outputs = model(images)\n",
    "        _, predicted = torch.max(outputs, 1) # Actual Predictions, torch.max => Value, Index\n",
    "        n_samples += labels.shape[0]\n",
    "        n_correct += (predicted == labels).sum().item()\n",
    "    acc = 100.0 * n_correct / n_samples\n",
    "    print(f'Accuracy : {acc:.2f}%')"
   ],
   "id": "b1d6d79122395b35",
   "outputs": [
    {
     "name": "stdout",
     "output_type": "stream",
     "text": [
      "Accuracy : 11.24%\n"
     ]
    }
   ],
   "execution_count": 153
  }
 ],
 "metadata": {
  "kernelspec": {
   "display_name": "Python 3",
   "language": "python",
   "name": "python3"
  },
  "language_info": {
   "codemirror_mode": {
    "name": "ipython",
    "version": 2
   },
   "file_extension": ".py",
   "mimetype": "text/x-python",
   "name": "python",
   "nbconvert_exporter": "python",
   "pygments_lexer": "ipython2",
   "version": "2.7.6"
  }
 },
 "nbformat": 4,
 "nbformat_minor": 5
}
