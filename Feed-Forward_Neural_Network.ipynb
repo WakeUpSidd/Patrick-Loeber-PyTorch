{
 "cells": [
  {
   "cell_type": "code",
   "id": "initial_id",
   "metadata": {
    "collapsed": true,
    "ExecuteTime": {
     "end_time": "2024-08-07T10:19:46.668643Z",
     "start_time": "2024-08-07T10:19:46.665036Z"
    }
   },
   "source": [
    "import torch\n",
    "import torchvision\n",
    "import torch.nn as nn\n",
    "import torchvision.transforms as transforms\n",
    "import matplotlib.pyplot as plt"
   ],
   "outputs": [],
   "execution_count": 42
  },
  {
   "metadata": {},
   "cell_type": "markdown",
   "source": "Device configuration",
   "id": "24735208a3e15a80"
  },
  {
   "metadata": {
    "ExecuteTime": {
     "end_time": "2024-08-07T10:19:47.697651Z",
     "start_time": "2024-08-07T10:19:47.694724Z"
    }
   },
   "cell_type": "code",
   "source": [
    "device = torch.device(\"cuda\" if torch.cuda.is_available() else \"cpu\")\n",
    "if torch.cuda.is_available():\n",
    "    print('CUDA is available')"
   ],
   "id": "10efd19c6a280109",
   "outputs": [
    {
     "name": "stdout",
     "output_type": "stream",
     "text": [
      "CUDA is available\n"
     ]
    }
   ],
   "execution_count": 43
  },
  {
   "metadata": {},
   "cell_type": "markdown",
   "source": "Hyper Parameters",
   "id": "2eb5f6c94bf3fd57"
  },
  {
   "metadata": {
    "ExecuteTime": {
     "end_time": "2024-08-07T10:19:49.045172Z",
     "start_time": "2024-08-07T10:19:49.042384Z"
    }
   },
   "cell_type": "code",
   "source": [
    "input_size = 784 # 28x28 image size\n",
    "hidden_size1 = 256\n",
    "hidden_size2 = 128\n",
    "hidden_size3 = 64\n",
    "hidden_size4 = 32\n",
    "num_classes = 10\n",
    "num_epochs = 5\n",
    "batch_size = 100\n",
    "learning_rate = 0.001"
   ],
   "id": "ea01c2514148c2af",
   "outputs": [],
   "execution_count": 44
  },
  {
   "metadata": {},
   "cell_type": "markdown",
   "source": "MNIST Dataset",
   "id": "940fba3503863ddd"
  },
  {
   "metadata": {
    "ExecuteTime": {
     "end_time": "2024-08-07T10:39:06.669101Z",
     "start_time": "2024-08-07T10:19:50.643793Z"
    }
   },
   "cell_type": "code",
   "source": [
    "train_dataset = torchvision.datasets.MNIST(root='./data', train=True, transform=transforms.ToTensor(), download=True)\n",
    "test_dataset = torchvision.datasets.MNIST(root='./data', train=False, transform=transforms.ToTensor())"
   ],
   "id": "b2c6ca8b6233c35",
   "outputs": [
    {
     "name": "stdout",
     "output_type": "stream",
     "text": [
      "Downloading http://yann.lecun.com/exdb/mnist/train-images-idx3-ubyte.gz\n",
      "Failed to download (trying next):\n",
      "HTTP Error 403: Forbidden\n",
      "\n",
      "Downloading https://ossci-datasets.s3.amazonaws.com/mnist/train-images-idx3-ubyte.gz\n",
      "Downloading https://ossci-datasets.s3.amazonaws.com/mnist/train-images-idx3-ubyte.gz to ./data\\MNIST\\raw\\train-images-idx3-ubyte.gz\n"
     ]
    },
    {
     "name": "stderr",
     "output_type": "stream",
     "text": [
      "100%|██████████| 9912422/9912422 [18:54<00:00, 8739.27it/s] \n"
     ]
    },
    {
     "name": "stdout",
     "output_type": "stream",
     "text": [
      "Extracting ./data\\MNIST\\raw\\train-images-idx3-ubyte.gz to ./data\\MNIST\\raw\n",
      "\n",
      "Downloading http://yann.lecun.com/exdb/mnist/train-labels-idx1-ubyte.gz\n",
      "Failed to download (trying next):\n",
      "HTTP Error 403: Forbidden\n",
      "\n",
      "Downloading https://ossci-datasets.s3.amazonaws.com/mnist/train-labels-idx1-ubyte.gz\n",
      "Downloading https://ossci-datasets.s3.amazonaws.com/mnist/train-labels-idx1-ubyte.gz to ./data\\MNIST\\raw\\train-labels-idx1-ubyte.gz\n"
     ]
    },
    {
     "name": "stderr",
     "output_type": "stream",
     "text": [
      "100%|██████████| 28881/28881 [00:00<00:00, 50896.75it/s]\n"
     ]
    },
    {
     "name": "stdout",
     "output_type": "stream",
     "text": [
      "Extracting ./data\\MNIST\\raw\\train-labels-idx1-ubyte.gz to ./data\\MNIST\\raw\n",
      "\n",
      "Downloading http://yann.lecun.com/exdb/mnist/t10k-images-idx3-ubyte.gz\n",
      "Failed to download (trying next):\n",
      "HTTP Error 403: Forbidden\n",
      "\n",
      "Downloading https://ossci-datasets.s3.amazonaws.com/mnist/t10k-images-idx3-ubyte.gz\n",
      "Downloading https://ossci-datasets.s3.amazonaws.com/mnist/t10k-images-idx3-ubyte.gz to ./data\\MNIST\\raw\\t10k-images-idx3-ubyte.gz\n"
     ]
    },
    {
     "name": "stderr",
     "output_type": "stream",
     "text": [
      "100%|██████████| 1648877/1648877 [00:01<00:00, 859405.40it/s] \n"
     ]
    },
    {
     "name": "stdout",
     "output_type": "stream",
     "text": [
      "Extracting ./data\\MNIST\\raw\\t10k-images-idx3-ubyte.gz to ./data\\MNIST\\raw\n",
      "\n",
      "Downloading http://yann.lecun.com/exdb/mnist/t10k-labels-idx1-ubyte.gz\n",
      "Failed to download (trying next):\n",
      "HTTP Error 403: Forbidden\n",
      "\n",
      "Downloading https://ossci-datasets.s3.amazonaws.com/mnist/t10k-labels-idx1-ubyte.gz\n",
      "Downloading https://ossci-datasets.s3.amazonaws.com/mnist/t10k-labels-idx1-ubyte.gz to ./data\\MNIST\\raw\\t10k-labels-idx1-ubyte.gz\n"
     ]
    },
    {
     "name": "stderr",
     "output_type": "stream",
     "text": [
      "100%|██████████| 4542/4542 [00:00<?, ?it/s]"
     ]
    },
    {
     "name": "stdout",
     "output_type": "stream",
     "text": [
      "Extracting ./data\\MNIST\\raw\\t10k-labels-idx1-ubyte.gz to ./data\\MNIST\\raw\n",
      "\n"
     ]
    },
    {
     "name": "stderr",
     "output_type": "stream",
     "text": [
      "\n"
     ]
    }
   ],
   "execution_count": 45
  },
  {
   "metadata": {},
   "cell_type": "markdown",
   "source": "Data Loader",
   "id": "d0341b35016d95a4"
  },
  {
   "metadata": {
    "ExecuteTime": {
     "end_time": "2024-08-07T11:04:16.353616Z",
     "start_time": "2024-08-07T11:04:16.349848Z"
    }
   },
   "cell_type": "code",
   "source": [
    "train_loader = torch.utils.data.DataLoader(dataset=train_dataset, batch_size=batch_size, shuffle=True)\n",
    "test_loader = torch.utils.data.DataLoader(dataset=test_dataset, batch_size=batch_size, shuffle=False)"
   ],
   "id": "8ac02e466ca4db72",
   "outputs": [],
   "execution_count": 46
  },
  {
   "metadata": {},
   "cell_type": "markdown",
   "source": "Plot the Images",
   "id": "6243450b606dac36"
  },
  {
   "metadata": {
    "ExecuteTime": {
     "end_time": "2024-08-07T11:04:18.910510Z",
     "start_time": "2024-08-07T11:04:18.435768Z"
    }
   },
   "cell_type": "code",
   "source": [
    "for i in range(6):\n",
    "    plt.subplot(2, 3, i+1)\n",
    "    plt.imshow(samples[i][0], cmap='gray')\n",
    "plt.show"
   ],
   "id": "ef286ba3b8c97c63",
   "outputs": [
    {
     "data": {
      "text/plain": [
       "<function matplotlib.pyplot.show(close=None, block=None)>"
      ]
     },
     "execution_count": 47,
     "metadata": {},
     "output_type": "execute_result"
    },
    {
     "data": {
      "text/plain": [
       "<Figure size 640x480 with 6 Axes>"
      ],
      "image/png": "[encoded data removed]"
     },
     "metadata": {},
     "output_type": "display_data"
    }
   ],
   "execution_count": 47
  },
  {
   "metadata": {},
   "cell_type": "markdown",
   "source": "Creating the Neural Network",
   "id": "fe220c9a3e2591cd"
  },
  {
   "metadata": {
    "ExecuteTime": {
     "end_time": "2024-08-07T11:04:21.087717Z",
     "start_time": "2024-08-07T11:04:21.083018Z"
    }
   },
   "cell_type": "code",
   "source": [
    "class NeuralNet(nn.Module):\n",
    "    def __init__(self, input_size, hidden_size1, hidden_size2, hidden_size3, hidden_size4, num_classes):\n",
    "        super(NeuralNet, self).__init__()\n",
    "        self.l1 = nn.Linear(input_size, hidden_size1)\n",
    "        self.relu1 = nn.ReLU()\n",
    "        self.l2 = nn.Linear(hidden_size1, hidden_size2)\n",
    "        self.relu2 = nn.ReLU()\n",
    "        self.l3 = nn.Linear(hidden_size2, hidden_size3)\n",
    "        self.relu3 = nn.ReLU()\n",
    "        self.l4 = nn.Linear(hidden_size3, hidden_size4)\n",
    "        self.relu4 = nn.ReLU()\n",
    "        self.l5 = nn.Linear(hidden_size4, num_classes)\n",
    "    \n",
    "    def forward(self, x):\n",
    "        out = self.l1(x)\n",
    "        out = self.relu1(out)\n",
    "        out = self.l2(out)\n",
    "        out = self.relu2(out)\n",
    "        out = self.l3(out)\n",
    "        out = self.relu3(out)\n",
    "        out = self.l4(out)\n",
    "        out = self.relu4(out)\n",
    "        out = self.l5(out)\n",
    "        return out"
   ],
   "id": "121fafd2b9310cc9",
   "outputs": [],
   "execution_count": 48
  },
  {
   "metadata": {
    "ExecuteTime": {
     "end_time": "2024-08-07T11:04:23.231644Z",
     "start_time": "2024-08-07T11:04:23.224354Z"
    }
   },
   "cell_type": "code",
   "source": "model = NeuralNet(input_size, hidden_size1, hidden_size2, hidden_size3, hidden_size4, num_classes).to(device)",
   "id": "b5d3feeefcedc3f8",
   "outputs": [],
   "execution_count": 49
  },
  {
   "metadata": {},
   "cell_type": "markdown",
   "source": "Loss and Optimizer",
   "id": "70239cdef47a5cca"
  },
  {
   "metadata": {
    "ExecuteTime": {
     "end_time": "2024-08-07T11:04:24.563007Z",
     "start_time": "2024-08-07T11:04:24.558805Z"
    }
   },
   "cell_type": "code",
   "source": [
    "criterion = nn.CrossEntropyLoss()\n",
    "optimizer=torch.optim.Adam(model.parameters(), lr=learning_rate)"
   ],
   "id": "23aa31e7bfc6a87d",
   "outputs": [],
   "execution_count": 50
  },
  {
   "metadata": {},
   "cell_type": "markdown",
   "source": "Training Loop",
   "id": "a3df7963a20c83db"
  },
  {
   "metadata": {
    "ExecuteTime": {
     "end_time": "2024-08-07T11:04:58.627960Z",
     "start_time": "2024-08-07T11:04:25.946861Z"
    }
   },
   "cell_type": "code",
   "source": [
    "total_step = len(train_loader)\n",
    "for epoch in range(num_epochs):\n",
    "    for i, (images, labels) in enumerate(train_loader):\n",
    "        images = images.reshape(-1, 28*28).to(device)\n",
    "        labels = labels.to(device)\n",
    "        \n",
    "        # Forward pass\n",
    "        outputs = model(images)\n",
    "        loss = criterion(outputs, labels)\n",
    "        \n",
    "        # Backward and optimize\n",
    "        optimizer.zero_grad()\n",
    "        loss.backward()\n",
    "        optimizer.step()\n",
    "        \n",
    "        if (i+1) % 100 == 0:\n",
    "            print(f'Epoch [{epoch+1}/{num_epochs}], Step [{i+1}/{total_step}], Loss: {loss.item():.4f}')"
   ],
   "id": "133edd1456d11baf",
   "outputs": [
    {
     "name": "stdout",
     "output_type": "stream",
     "text": [
      "Epoch [1/5], Step [100/600], Loss: 0.6697\n",
      "Epoch [1/5], Step [200/600], Loss: 0.4700\n",
      "Epoch [1/5], Step [300/600], Loss: 0.1749\n",
      "Epoch [1/5], Step [400/600], Loss: 0.1256\n",
      "Epoch [1/5], Step [500/600], Loss: 0.1177\n",
      "Epoch [1/5], Step [600/600], Loss: 0.3202\n",
      "Epoch [2/5], Step [100/600], Loss: 0.0691\n",
      "Epoch [2/5], Step [200/600], Loss: 0.1480\n",
      "Epoch [2/5], Step [300/600], Loss: 0.2763\n",
      "Epoch [2/5], Step [400/600], Loss: 0.1561\n",
      "Epoch [2/5], Step [500/600], Loss: 0.1355\n",
      "Epoch [2/5], Step [600/600], Loss: 0.0379\n",
      "Epoch [3/5], Step [100/600], Loss: 0.0259\n",
      "Epoch [3/5], Step [200/600], Loss: 0.0326\n",
      "Epoch [3/5], Step [300/600], Loss: 0.0515\n",
      "Epoch [3/5], Step [400/600], Loss: 0.0553\n",
      "Epoch [3/5], Step [500/600], Loss: 0.0848\n",
      "Epoch [3/5], Step [600/600], Loss: 0.1134\n",
      "Epoch [4/5], Step [100/600], Loss: 0.1135\n",
      "Epoch [4/5], Step [200/600], Loss: 0.0381\n",
      "Epoch [4/5], Step [300/600], Loss: 0.1066\n",
      "Epoch [4/5], Step [400/600], Loss: 0.0756\n",
      "Epoch [4/5], Step [500/600], Loss: 0.0485\n",
      "Epoch [4/5], Step [600/600], Loss: 0.1014\n",
      "Epoch [5/5], Step [100/600], Loss: 0.0507\n",
      "Epoch [5/5], Step [200/600], Loss: 0.0400\n",
      "Epoch [5/5], Step [300/600], Loss: 0.0368\n",
      "Epoch [5/5], Step [400/600], Loss: 0.0410\n",
      "Epoch [5/5], Step [500/600], Loss: 0.0305\n",
      "Epoch [5/5], Step [600/600], Loss: 0.0346\n"
     ]
    }
   ],
   "execution_count": 51
  },
  {
   "metadata": {},
   "cell_type": "markdown",
   "source": "Testing and Evaluation",
   "id": "f604b824fc685641"
  },
  {
   "metadata": {
    "ExecuteTime": {
     "end_time": "2024-08-07T11:05:06.821410Z",
     "start_time": "2024-08-07T11:05:05.732528Z"
    }
   },
   "cell_type": "code",
   "source": [
    "model.eval()\n",
    "with torch.no_grad():\n",
    "    correct = 0\n",
    "    total = 0\n",
    "    for images, labels in test_loader:\n",
    "        images = images.reshape(-1, 28*28).to(device)\n",
    "        labels = labels.to(device)\n",
    "        outputs = model(images)\n",
    "        _, predicted = torch.max(outputs.data, 1)\n",
    "        total += labels.size(0)\n",
    "        correct += (predicted == labels).sum().item()\n",
    "\n",
    "    print(f'Accuracy of the model on the 10000 test images: {100 * correct / total:.2f}%')"
   ],
   "id": "b1d6d79122395b35",
   "outputs": [
    {
     "name": "stdout",
     "output_type": "stream",
     "text": [
      "Accuracy of the model on the 10000 test images: 97.74%\n"
     ]
    }
   ],
   "execution_count": 52
  }
 ],
 "metadata": {
  "kernelspec": {
   "display_name": "Python 3",
   "language": "python",
   "name": "python3"
  },
  "language_info": {
   "codemirror_mode": {
    "name": "ipython",
    "version": 2
   },
   "file_extension": ".py",
   "mimetype": "text/x-python",
   "name": "python",
   "nbconvert_exporter": "python",
   "pygments_lexer": "ipython2",
   "version": "2.7.6"
  }
 },
 "nbformat": 4,
 "nbformat_minor": 5
}
