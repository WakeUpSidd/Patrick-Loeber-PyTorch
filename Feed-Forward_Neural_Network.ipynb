{
 "cells": [
  {
   "metadata": {},
   "cell_type": "markdown",
   "source": "Importing Frameworks",
   "id": "18cec803881d4863"
  },
  {
   "cell_type": "code",
   "id": "initial_id",
   "metadata": {
    "collapsed": true,
    "ExecuteTime": {
     "end_time": "2024-08-07T12:38:02.504611Z",
     "start_time": "2024-08-07T12:38:02.502015Z"
    }
   },
   "source": [
    "import torch\n",
    "import torchvision\n",
    "import torch.nn as nn\n",
    "import torchvision.transforms as transforms\n",
    "import matplotlib.pyplot as plt"
   ],
   "outputs": [],
   "execution_count": 21
  },
  {
   "metadata": {},
   "cell_type": "markdown",
   "source": "Device configuration",
   "id": "24735208a3e15a80"
  },
  {
   "metadata": {
    "ExecuteTime": {
     "end_time": "2024-08-07T12:38:03.392545Z",
     "start_time": "2024-08-07T12:38:03.389389Z"
    }
   },
   "cell_type": "code",
   "source": [
    "device = torch.device(\"cuda\" if torch.cuda.is_available() else \"cpu\")\n",
    "if torch.cuda.is_available():\n",
    "    print('CUDA is available')"
   ],
   "id": "10efd19c6a280109",
   "outputs": [
    {
     "name": "stdout",
     "output_type": "stream",
     "text": [
      "CUDA is available\n"
     ]
    }
   ],
   "execution_count": 22
  },
  {
   "metadata": {},
   "cell_type": "markdown",
   "source": "Hyper Parameters",
   "id": "2eb5f6c94bf3fd57"
  },
  {
   "metadata": {
    "ExecuteTime": {
     "end_time": "2024-08-07T12:38:04.588071Z",
     "start_time": "2024-08-07T12:38:04.583830Z"
    }
   },
   "cell_type": "code",
   "source": [
    "input_size = 784 # 28x28 image size\n",
    "hidden_size1 = 256\n",
    "hidden_size2 = 128\n",
    "hidden_size3 = 64\n",
    "hidden_size4 = 32\n",
    "num_classes = 10\n",
    "num_epochs = 10\n",
    "batch_size = 100\n",
    "learning_rate = 0.001"
   ],
   "id": "ea01c2514148c2af",
   "outputs": [],
   "execution_count": 23
  },
  {
   "metadata": {},
   "cell_type": "markdown",
   "source": "MNIST Dataset",
   "id": "940fba3503863ddd"
  },
  {
   "metadata": {
    "ExecuteTime": {
     "end_time": "2024-08-07T12:38:06.398442Z",
     "start_time": "2024-08-07T12:38:06.343502Z"
    }
   },
   "cell_type": "code",
   "source": [
    "train_dataset = torchvision.datasets.MNIST(root='./data', train=True, transform=transforms.ToTensor(), download=True)\n",
    "test_dataset = torchvision.datasets.MNIST(root='./data', train=False, transform=transforms.ToTensor())"
   ],
   "id": "b2c6ca8b6233c35",
   "outputs": [],
   "execution_count": 24
  },
  {
   "metadata": {},
   "cell_type": "markdown",
   "source": "Data Loader",
   "id": "d0341b35016d95a4"
  },
  {
   "metadata": {
    "ExecuteTime": {
     "end_time": "2024-08-07T12:38:07.672982Z",
     "start_time": "2024-08-07T12:38:07.669502Z"
    }
   },
   "cell_type": "code",
   "source": [
    "train_loader = torch.utils.data.DataLoader(dataset=train_dataset, batch_size=batch_size, shuffle=True)\n",
    "test_loader = torch.utils.data.DataLoader(dataset=test_dataset, batch_size=batch_size, shuffle=False)"
   ],
   "id": "8ac02e466ca4db72",
   "outputs": [],
   "execution_count": 25
  },
  {
   "metadata": {},
   "cell_type": "markdown",
   "source": "Plot the Images",
   "id": "6243450b606dac36"
  },
  {
   "metadata": {
    "ExecuteTime": {
     "end_time": "2024-08-07T12:38:09.141863Z",
     "start_time": "2024-08-07T12:38:08.804686Z"
    }
   },
   "cell_type": "code",
   "source": [
    "examples = iter(train_loader)\n",
    "samples, labels = next(examples)\n",
    "for i in range(6):\n",
    "    plt.subplot(2, 3, i+1)\n",
    "    plt.imshow(samples[i][0], cmap='gray')\n",
    "plt.show"
   ],
   "id": "ef286ba3b8c97c63",
   "outputs": [
    {
     "data": {
      "text/plain": [
       "<function matplotlib.pyplot.show(close=None, block=None)>"
      ]
     },
     "execution_count": 26,
     "metadata": {},
     "output_type": "execute_result"
    },
    {
     "data": {
      "text/plain": [
       "<Figure size 640x480 with 6 Axes>"
      ],
      "image/png": "[encoded data removed]"
     },
     "metadata": {},
     "output_type": "display_data"
    }
   ],
   "execution_count": 26
  },
  {
   "metadata": {},
   "cell_type": "markdown",
   "source": "Creating the Neural Network",
   "id": "fe220c9a3e2591cd"
  },
  {
   "metadata": {
    "ExecuteTime": {
     "end_time": "2024-08-07T12:38:10.793667Z",
     "start_time": "2024-08-07T12:38:10.788533Z"
    }
   },
   "cell_type": "code",
   "source": [
    "class NeuralNet(nn.Module):\n",
    "    def __init__(self, input_size, hidden_size1, hidden_size2, hidden_size3, hidden_size4, num_classes):\n",
    "        super(NeuralNet, self).__init__()\n",
    "        self.l1 = nn.Linear(input_size, hidden_size1)\n",
    "        self.relu1 = nn.LeakyReLU()\n",
    "        self.l2 = nn.Linear(hidden_size1, hidden_size2)\n",
    "        self.relu2 = nn.LeakyReLU()\n",
    "        self.l3 = nn.Linear(hidden_size2, hidden_size3)\n",
    "        self.relu3 = nn.LeakyReLU()\n",
    "        self.l4 = nn.Linear(hidden_size3, hidden_size4)\n",
    "        self.relu4 = nn.LeakyReLU()\n",
    "        self.l5 = nn.Linear(hidden_size4, num_classes)\n",
    "    \n",
    "    def forward(self, x):\n",
    "        out = self.l1(x)\n",
    "        out = self.relu1(out)\n",
    "        out = self.l2(out)\n",
    "        out = self.relu2(out)\n",
    "        out = self.l3(out)\n",
    "        out = self.relu3(out)\n",
    "        out = self.l4(out)\n",
    "        out = self.relu4(out)\n",
    "        out = self.l5(out)\n",
    "        return out"
   ],
   "id": "121fafd2b9310cc9",
   "outputs": [],
   "execution_count": 27
  },
  {
   "metadata": {
    "ExecuteTime": {
     "end_time": "2024-08-07T12:38:13.297032Z",
     "start_time": "2024-08-07T12:38:13.287584Z"
    }
   },
   "cell_type": "code",
   "source": "model = NeuralNet(input_size, hidden_size1, hidden_size2, hidden_size3, hidden_size4, num_classes).to(device)",
   "id": "b5d3feeefcedc3f8",
   "outputs": [],
   "execution_count": 28
  },
  {
   "metadata": {},
   "cell_type": "markdown",
   "source": "Loss and Optimizer",
   "id": "70239cdef47a5cca"
  },
  {
   "metadata": {
    "ExecuteTime": {
     "end_time": "2024-08-07T12:38:14.512316Z",
     "start_time": "2024-08-07T12:38:14.508944Z"
    }
   },
   "cell_type": "code",
   "source": [
    "criterion = nn.CrossEntropyLoss()\n",
    "optimizer=torch.optim.Adam(model.parameters(), lr=learning_rate)"
   ],
   "id": "23aa31e7bfc6a87d",
   "outputs": [],
   "execution_count": 29
  },
  {
   "metadata": {},
   "cell_type": "markdown",
   "source": "Training Loop",
   "id": "a3df7963a20c83db"
  },
  {
   "metadata": {
    "ExecuteTime": {
     "end_time": "2024-08-07T12:39:22.210638Z",
     "start_time": "2024-08-07T12:38:15.636446Z"
    }
   },
   "cell_type": "code",
   "source": [
    "total_step = len(train_loader)\n",
    "for epoch in range(num_epochs):\n",
    "    for i, (images, labels) in enumerate(train_loader):\n",
    "        images = images.reshape(-1, 28*28).to(device)\n",
    "        labels = labels.to(device)\n",
    "        \n",
    "        # Forward pass\n",
    "        outputs = model(images)\n",
    "        loss = criterion(outputs, labels)\n",
    "        \n",
    "        # Backward and optimize\n",
    "        optimizer.zero_grad()\n",
    "        loss.backward()\n",
    "        optimizer.step()\n",
    "        \n",
    "        if (i+1) % 100 == 0:\n",
    "            print(f'Epoch [{epoch+1}/{num_epochs}], Step [{i+1}/{total_step}], Loss: {loss.item():.4f}')"
   ],
   "id": "133edd1456d11baf",
   "outputs": [
    {
     "name": "stdout",
     "output_type": "stream",
     "text": [
      "Epoch [1/10], Step [100/600], Loss: 0.6293\n",
      "Epoch [1/10], Step [200/600], Loss: 0.2772\n",
      "Epoch [1/10], Step [300/600], Loss: 0.3191\n",
      "Epoch [1/10], Step [400/600], Loss: 0.4017\n",
      "Epoch [1/10], Step [500/600], Loss: 0.1708\n",
      "Epoch [1/10], Step [600/600], Loss: 0.1553\n",
      "Epoch [2/10], Step [100/600], Loss: 0.1122\n",
      "Epoch [2/10], Step [200/600], Loss: 0.2413\n",
      "Epoch [2/10], Step [300/600], Loss: 0.1010\n",
      "Epoch [2/10], Step [400/600], Loss: 0.1607\n",
      "Epoch [2/10], Step [500/600], Loss: 0.2152\n",
      "Epoch [2/10], Step [600/600], Loss: 0.0748\n",
      "Epoch [3/10], Step [100/600], Loss: 0.0425\n",
      "Epoch [3/10], Step [200/600], Loss: 0.0822\n",
      "Epoch [3/10], Step [300/600], Loss: 0.0486\n",
      "Epoch [3/10], Step [400/600], Loss: 0.0633\n",
      "Epoch [3/10], Step [500/600], Loss: 0.1355\n",
      "Epoch [3/10], Step [600/600], Loss: 0.1390\n",
      "Epoch [4/10], Step [100/600], Loss: 0.1587\n",
      "Epoch [4/10], Step [200/600], Loss: 0.0117\n",
      "Epoch [4/10], Step [300/600], Loss: 0.0172\n",
      "Epoch [4/10], Step [400/600], Loss: 0.0522\n",
      "Epoch [4/10], Step [500/600], Loss: 0.0437\n",
      "Epoch [4/10], Step [600/600], Loss: 0.0660\n",
      "Epoch [5/10], Step [100/600], Loss: 0.0301\n",
      "Epoch [5/10], Step [200/600], Loss: 0.0437\n",
      "Epoch [5/10], Step [300/600], Loss: 0.0160\n",
      "Epoch [5/10], Step [400/600], Loss: 0.0115\n",
      "Epoch [5/10], Step [500/600], Loss: 0.0249\n",
      "Epoch [5/10], Step [600/600], Loss: 0.0510\n",
      "Epoch [6/10], Step [100/600], Loss: 0.0252\n",
      "Epoch [6/10], Step [200/600], Loss: 0.0422\n",
      "Epoch [6/10], Step [300/600], Loss: 0.0344\n",
      "Epoch [6/10], Step [400/600], Loss: 0.0260\n",
      "Epoch [6/10], Step [500/600], Loss: 0.0179\n",
      "Epoch [6/10], Step [600/600], Loss: 0.0965\n",
      "Epoch [7/10], Step [100/600], Loss: 0.0250\n",
      "Epoch [7/10], Step [200/600], Loss: 0.0614\n",
      "Epoch [7/10], Step [300/600], Loss: 0.0095\n",
      "Epoch [7/10], Step [400/600], Loss: 0.0039\n",
      "Epoch [7/10], Step [500/600], Loss: 0.0050\n",
      "Epoch [7/10], Step [600/600], Loss: 0.0886\n",
      "Epoch [8/10], Step [100/600], Loss: 0.0253\n",
      "Epoch [8/10], Step [200/600], Loss: 0.0149\n",
      "Epoch [8/10], Step [300/600], Loss: 0.0232\n",
      "Epoch [8/10], Step [400/600], Loss: 0.0201\n",
      "Epoch [8/10], Step [500/600], Loss: 0.0041\n",
      "Epoch [8/10], Step [600/600], Loss: 0.0273\n",
      "Epoch [9/10], Step [100/600], Loss: 0.0090\n",
      "Epoch [9/10], Step [200/600], Loss: 0.0074\n",
      "Epoch [9/10], Step [300/600], Loss: 0.0123\n",
      "Epoch [9/10], Step [400/600], Loss: 0.0093\n",
      "Epoch [9/10], Step [500/600], Loss: 0.0033\n",
      "Epoch [9/10], Step [600/600], Loss: 0.0015\n",
      "Epoch [10/10], Step [100/600], Loss: 0.0021\n",
      "Epoch [10/10], Step [200/600], Loss: 0.0345\n",
      "Epoch [10/10], Step [300/600], Loss: 0.0027\n",
      "Epoch [10/10], Step [400/600], Loss: 0.0105\n",
      "Epoch [10/10], Step [500/600], Loss: 0.0067\n",
      "Epoch [10/10], Step [600/600], Loss: 0.0324\n"
     ]
    }
   ],
   "execution_count": 30
  },
  {
   "metadata": {},
   "cell_type": "markdown",
   "source": "Testing and Evaluation",
   "id": "f604b824fc685641"
  },
  {
   "metadata": {
    "ExecuteTime": {
     "end_time": "2024-08-07T12:39:27.491906Z",
     "start_time": "2024-08-07T12:39:26.400993Z"
    }
   },
   "cell_type": "code",
   "source": [
    "model.eval()\n",
    "with torch.no_grad():\n",
    "    correct = 0\n",
    "    total = 0\n",
    "    for images, labels in test_loader:\n",
    "        images = images.reshape(-1, 28*28).to(device)\n",
    "        labels = labels.to(device)\n",
    "        outputs = model(images)\n",
    "        _, predicted = torch.max(outputs.data, 1)\n",
    "        total += labels.size(0)\n",
    "        correct += (predicted == labels).sum().item()\n",
    "\n",
    "    print(f'Accuracy of the model on the 10000 test images: {100 * correct / total:.2f}%')"
   ],
   "id": "b1d6d79122395b35",
   "outputs": [
    {
     "name": "stdout",
     "output_type": "stream",
     "text": [
      "Accuracy of the model on the 10000 test images: 97.81%\n"
     ]
    }
   ],
   "execution_count": 31
  }
 ],
 "metadata": {
  "kernelspec": {
   "display_name": "Python 3",
   "language": "python",
   "name": "python3"
  },
  "language_info": {
   "codemirror_mode": {
    "name": "ipython",
    "version": 2
   },
   "file_extension": ".py",
   "mimetype": "text/x-python",
   "name": "python",
   "nbconvert_exporter": "python",
   "pygments_lexer": "ipython2",
   "version": "2.7.6"
  }
 },
 "nbformat": 4,
 "nbformat_minor": 5
}
