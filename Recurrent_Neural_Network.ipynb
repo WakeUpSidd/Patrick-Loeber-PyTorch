{
 "cells": [
  {
   "cell_type": "code",
   "id": "initial_id",
   "metadata": {
    "collapsed": true,
    "ExecuteTime": {
     "end_time": "2024-09-02T21:08:52.999383Z",
     "start_time": "2024-09-02T21:08:52.996180Z"
    }
   },
   "source": [
    "import torch\n",
    "import torch.nn as nn\n",
    "import matplotlib.pyplot as plt\n",
    "\n",
    "from utils import ALL_LETTERS, N_LETTERS\n",
    "from utils import load_data, letter_to_tensor, line_to_tensor, random_training_example"
   ],
   "outputs": [],
   "execution_count": 89
  },
  {
   "metadata": {
    "ExecuteTime": {
     "end_time": "2024-09-02T21:08:53.009760Z",
     "start_time": "2024-09-02T21:08:53.005391Z"
    }
   },
   "cell_type": "code",
   "source": [
    "class RNN(nn.Module): # nn.RNN\n",
    "    def __init__(self, input_size, hidden_size, output_size):\n",
    "        super(RNN, self).__init__()\n",
    "        self.hidden_size = hidden_size\n",
    "        self.i2h = nn.Linear(input_size + hidden_size, hidden_size) # i2h = input to hidden\n",
    "        self.i2o = nn.Linear(input_size + hidden_size, output_size) # i2o = input to output\n",
    "        self.softmax = nn.LogSoftmax(dim=1)\n",
    "        \n",
    "    def forward(self, input_tensor, hidden_tensor):\n",
    "        combine = torch.cat((input_tensor, hidden_tensor), 1)\n",
    "        hidden = self.i2h(combine)\n",
    "        output = self.i2o(combine)\n",
    "        output = self.softmax(output)\n",
    "        return output, hidden\n",
    "    \n",
    "    def init_hidden(self):\n",
    "        return torch.zeros(1, self.hidden_size)"
   ],
   "id": "cfd2682f9cf60efc",
   "outputs": [],
   "execution_count": 90
  },
  {
   "metadata": {
    "ExecuteTime": {
     "end_time": "2024-09-02T21:08:53.043980Z",
     "start_time": "2024-09-02T21:08:53.035365Z"
    }
   },
   "cell_type": "code",
   "source": [
    "category_lines, all_categories = load_data()\n",
    "n_categories = len(all_categories)\n",
    "print(n_categories)"
   ],
   "id": "823156595df2e308",
   "outputs": [
    {
     "name": "stdout",
     "output_type": "stream",
     "text": [
      "18\n"
     ]
    }
   ],
   "execution_count": 91
  },
  {
   "metadata": {
    "ExecuteTime": {
     "end_time": "2024-09-02T21:08:53.049467Z",
     "start_time": "2024-09-02T21:08:53.044988Z"
    }
   },
   "cell_type": "code",
   "source": [
    "n_hidden = 128\n",
    "rnn = RNN(N_LETTERS, n_hidden, n_categories)\n",
    "\n",
    "# one step\n",
    "input_tensor = letter_to_tensor('A')\n",
    "hidden_tensor = rnn.init_hidden()\n",
    "output, next_hidden = rnn(input_tensor, hidden_tensor)\n",
    "# print(output.size())\n",
    "# print(next_hidden.size())"
   ],
   "id": "2e1d0c2b4989b694",
   "outputs": [],
   "execution_count": 92
  },
  {
   "metadata": {
    "ExecuteTime": {
     "end_time": "2024-09-02T21:08:53.059872Z",
     "start_time": "2024-09-02T21:08:53.056475Z"
    }
   },
   "cell_type": "code",
   "source": [
    "# Whole Sequence / Name\n",
    "input_tensor = line_to_tensor('Albert')\n",
    "hidden_tensor = rnn.init_hidden()\n",
    "output, next_hidden = rnn(input_tensor[0], hidden_tensor)\n",
    "# print(output.size())\n",
    "# print(next_hidden.size())"
   ],
   "id": "23de8948dabe12c9",
   "outputs": [],
   "execution_count": 93
  },
  {
   "metadata": {
    "ExecuteTime": {
     "end_time": "2024-09-02T21:08:53.064516Z",
     "start_time": "2024-09-02T21:08:53.060880Z"
    }
   },
   "cell_type": "code",
   "source": [
    "def category_from_output(output):\n",
    "    category_index = torch.argmax(output).item()\n",
    "    return all_categories[category_index]\n",
    "\n",
    "print(category_from_output(output))"
   ],
   "id": "53514023ffc1ddb1",
   "outputs": [
    {
     "name": "stdout",
     "output_type": "stream",
     "text": [
      "Spanish\n"
     ]
    }
   ],
   "execution_count": 94
  },
  {
   "metadata": {
    "ExecuteTime": {
     "end_time": "2024-09-02T21:08:53.068417Z",
     "start_time": "2024-09-02T21:08:53.065527Z"
    }
   },
   "cell_type": "code",
   "source": [
    "criterion = nn.NLLLoss() # Negative Log Likelihood Loss\n",
    "learning_rate = 0.005\n",
    "optimizer = torch.optim.SGD(rnn.parameters(), lr=learning_rate)"
   ],
   "id": "d2cf72df18d1994e",
   "outputs": [],
   "execution_count": 95
  },
  {
   "metadata": {
    "ExecuteTime": {
     "end_time": "2024-09-02T21:08:53.073355Z",
     "start_time": "2024-09-02T21:08:53.069427Z"
    }
   },
   "cell_type": "code",
   "source": [
    "def training_step(line_tensor, category_tensor):\n",
    "    hidden = rnn.init_hidden()\n",
    "    for i in range(line_tensor.size()[0]):\n",
    "        output, hidden = rnn(line_tensor[i], hidden)\n",
    "        \n",
    "    loss = criterion(output, category_tensor)\n",
    "    \n",
    "    optimizer.zero_grad()\n",
    "    loss.backward()\n",
    "    optimizer.step()\n",
    "    \n",
    "    return output, loss.item()"
   ],
   "id": "3df9c656273d4dc8",
   "outputs": [],
   "execution_count": 96
  },
  {
   "metadata": {
    "ExecuteTime": {
     "end_time": "2024-09-02T21:10:23.741692Z",
     "start_time": "2024-09-02T21:08:53.074361Z"
    }
   },
   "cell_type": "code",
   "source": [
    "current_loss = 0\n",
    "all_losses = []\n",
    "plot_steps, print_steps= 1000 ,5000\n",
    "n_iterations = 100000\n",
    "for i in range(n_iterations):\n",
    "    category, line, category_tensor, line_tensor = random_training_example(category_lines, all_categories)\n",
    "    \n",
    "    output, loss = training_step(line_tensor, category_tensor)\n",
    "    current_loss += loss\n",
    "    \n",
    "    if (i+1) % plot_steps == 0:\n",
    "        all_losses.append(current_loss/plot_steps)\n",
    "        current_loss = 0\n",
    "        \n",
    "    if (i+1) % print_steps == 0:\n",
    "        guess = category_from_output(output)\n",
    "        correct = \"CORRECT\" if guess == category else f\"INCORRECT ({category})\"\n",
    "        print(f\"Current Step:{i} {i/n_iterations*100}, Loss: {loss:.4f}, Current Line: {line}, Guess:{guess}, Accuracy: {correct}\")"
   ],
   "id": "1302d6bd07582b7e",
   "outputs": [
    {
     "name": "stdout",
     "output_type": "stream",
     "text": [
      "Current Step:4999 4.999, Loss: 2.4598, Current Line: Acciaio, Guess:Italian, Accuracy: CORRECT\n",
      "Current Step:9999 9.998999999999999, Loss: 2.8674, Current Line: Kurmochi, Guess:Polish, Accuracy: INCORRECT (Japanese)\n",
      "Current Step:14999 14.999, Loss: 2.9045, Current Line: Cantu, Guess:Polish, Accuracy: INCORRECT (Italian)\n",
      "Current Step:19999 19.999, Loss: 2.4025, Current Line: Ewles, Guess:Dutch, Accuracy: INCORRECT (English)\n",
      "Current Step:24999 24.999, Loss: 0.9875, Current Line: Chau, Guess:Vietnamese, Accuracy: CORRECT\n",
      "Current Step:29999 29.999, Loss: 1.3148, Current Line: Fernandes, Guess:Portuguese, Accuracy: CORRECT\n",
      "Current Step:34999 34.999, Loss: 1.5057, Current Line: Mendoza, Guess:Spanish, Accuracy: CORRECT\n",
      "Current Step:39999 39.999, Loss: 1.6350, Current Line: Pak, Guess:Chinese, Accuracy: INCORRECT (Korean)\n",
      "Current Step:44999 44.999, Loss: 1.5248, Current Line: Kenley, Guess:English, Accuracy: CORRECT\n",
      "Current Step:49999 49.999, Loss: 0.0238, Current Line: Vassilikos, Guess:Greek, Accuracy: CORRECT\n",
      "Current Step:54999 54.998999999999995, Loss: 2.7352, Current Line: Klerkse, Guess:German, Accuracy: INCORRECT (Dutch)\n",
      "Current Step:59999 59.999, Loss: 2.3285, Current Line: Ngai, Guess:Chinese, Accuracy: INCORRECT (Korean)\n",
      "Current Step:64999 64.999, Loss: 0.5903, Current Line: Kan, Guess:Chinese, Accuracy: CORRECT\n",
      "Current Step:69999 69.999, Loss: 0.9411, Current Line: O'Hara, Guess:Irish, Accuracy: CORRECT\n",
      "Current Step:74999 74.99900000000001, Loss: 1.8337, Current Line: Bastl, Guess:Scottish, Accuracy: INCORRECT (Czech)\n",
      "Current Step:79999 79.999, Loss: 0.3929, Current Line: Simpson, Guess:Scottish, Accuracy: CORRECT\n",
      "Current Step:84999 84.999, Loss: 0.0380, Current Line: O'Grady, Guess:Irish, Accuracy: CORRECT\n",
      "Current Step:89999 89.999, Loss: 1.6079, Current Line: Chemlik, Guess:Czech, Accuracy: CORRECT\n",
      "Current Step:94999 94.999, Loss: 1.7485, Current Line: Chin, Guess:Russian, Accuracy: INCORRECT (Korean)\n",
      "Current Step:99999 99.99900000000001, Loss: 0.2495, Current Line: Cnaimhin, Guess:Irish, Accuracy: CORRECT\n"
     ]
    }
   ],
   "execution_count": 97
  },
  {
   "metadata": {
    "ExecuteTime": {
     "end_time": "2024-09-02T21:14:20.748156Z",
     "start_time": "2024-09-02T21:14:20.680477Z"
    }
   },
   "cell_type": "code",
   "source": [
    "plt.figure()\n",
    "plt.plot(all_losses)\n",
    "plt.show()"
   ],
   "id": "50e4900bf07a365b",
   "outputs": [
    {
     "data": {
      "text/plain": [
       "<Figure size 640x480 with 1 Axes>"
      ],
      "image/png": "[encoded data removed]"
     },
     "metadata": {},
     "output_type": "display_data"
    }
   ],
   "execution_count": 104
  },
  {
   "metadata": {
    "ExecuteTime": {
     "end_time": "2024-09-02T21:10:23.816806Z",
     "start_time": "2024-09-02T21:10:23.811105Z"
    }
   },
   "cell_type": "code",
   "source": [
    "def predict(input_line):\n",
    "    print(f\"\\n> {input_line}\")\n",
    "    with torch.no_grad():\n",
    "        line_tensor = line_to_tensor(input_line)\n",
    "        hidden = rnn.init_hidden()\n",
    "        \n",
    "    for i in range(line_tensor.size()[0]):\n",
    "        output, hidden = rnn(line_tensor[i], hidden)\n",
    "        \n",
    "    guess = category_from_output(output)\n",
    "    print(guess)"
   ],
   "id": "dd4f7949d0a5488e",
   "outputs": [],
   "execution_count": 99
  },
  {
   "metadata": {
    "ExecuteTime": {
     "end_time": "2024-09-02T21:14:00.233715Z",
     "start_time": "2024-09-02T21:12:45.550948Z"
    }
   },
   "cell_type": "code",
   "source": [
    "while True:\n",
    "    sentence = input(\"Input: \")\n",
    "    if sentence == \"quit\":\n",
    "        break\n",
    "        \n",
    "    predict(sentence)"
   ],
   "id": "b37da1dea87b51b2",
   "outputs": [
    {
     "name": "stdout",
     "output_type": "stream",
     "text": [
      "\n",
      "> Muller\n",
      "Scottish\n",
      "\n",
      "> Hoang\n",
      "Vietnamese\n",
      "\n",
      "> Bao\n",
      "Vietnamese\n",
      "\n",
      "> Abbadelli\n",
      "Italian\n",
      "\n",
      "> Müller\n",
      "Scottish\n",
      "\n",
      "> Rogers\n",
      "Dutch\n"
     ]
    }
   ],
   "execution_count": 103
  }
 ],
 "metadata": {
  "kernelspec": {
   "display_name": "Python 3",
   "language": "python",
   "name": "python3"
  },
  "language_info": {
   "codemirror_mode": {
    "name": "ipython",
    "version": 2
   },
   "file_extension": ".py",
   "mimetype": "text/x-python",
   "name": "python",
   "nbconvert_exporter": "python",
   "pygments_lexer": "ipython2",
   "version": "2.7.6"
  }
 },
 "nbformat": 4,
 "nbformat_minor": 5
}
